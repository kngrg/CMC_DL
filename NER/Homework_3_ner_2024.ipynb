{
 "cells": [
  {
   "cell_type": "markdown",
   "metadata": {
    "id": "ss9WR_zbQELO"
   },
   "source": [
    "# Практическое задание 3\n",
    "\n",
    "# Named Entity Recognition"
   ]
  },
  {
   "cell_type": "markdown",
   "metadata": {
    "id": "U6PIpnXbc58C"
   },
   "source": [
    "Дата выдачи: <span style=\"color:red\">__16 ноября 21:00__</span>.\n",
    "\n",
    "Дедлайн: <span style=\"color:red\">__01 декабря 22:00__</span>."
   ]
  },
  {
   "cell_type": "markdown",
   "metadata": {
    "id": "sB3vM2GfQELQ"
   },
   "source": [
    "## Введение\n",
    "\n",
    "### Постановка задачи\n",
    "\n",
    "В этом задании вы будете решать задачу извлечения именованных сущностей (Named Entity Recognition) – одну из самых распространенных в NLP, наряду с задачей текстовой классификации.\n",
    "\n",
    "Данная задача заключается в том, что нужно классифицировать каждое слово / токен на предмет того, является ли оно частью именованной сущности (сущность может состоять из нескольких слов / токенов) или нет.\n",
    "\n",
    "Например, мы хотим извлечь имена и названия организаций. Тогда для текста\n",
    "\n",
    "    Yan    Goodfellow  works  for  Google  Brain\n",
    "\n",
    "модель должна извлечь следующую последовательность:\n",
    "\n",
    "    B-PER  I-PER       O      O    B-ORG   I-ORG\n",
    "\n",
    "где префиксы *B-* и *I-* означают начало и конец именованной сущности, *O* означает слово без тега. Такая префиксная система (*BIO*-разметка) введена, чтобы различать последовательные именованные сущности одного типа.\n",
    "Существуют и другие типы разметок, например *BILUO*, но в рамках данного практического задания сфокусируемся имеено на *BIO*.\n",
    "\n",
    "Решать NER задачу мы будем на датасете CoNLL-2003 с использованием рекуррентных сетей и моделей на базе архитектуры Transformer. Датасет CoNLL-2003 представлен в виде разметки **BIO**, где лейбл:\n",
    "- *B-{label}* - начало сущности *{label}*;\n",
    "- *I-{label}* - продолжение сущности *{label}*;\n",
    "- *O* - отсутсвие сущности.\n",
    "\n",
    "Здесь в качестве сущности *{label}* может выступать имя, географическое название или какой-то другой тип собственных имён. Подробнее с разметками можно ознакомится во вспомогательном ноутбуке.\n",
    "\n",
    "### Библиотеки\n",
    "\n",
    "Основные библиотеки:\n",
    " - [PyTorch](https://pytorch.org/)\n",
    " - [Transformers](https://github.com/huggingface/transformers)\n",
    "\n",
    "### Данные\n",
    "\n",
    "Данные лежат в архиве, который состоит из:\n",
    "\n",
    "- *train.tsv* - обучающая выборка. В каждой строке записаны: <слово / токен>, <тэг слова / токена>\n",
    "\n",
    "- *valid.tsv* - валидационная выборка, которую можно использовать для подбора гиперпарамеров и замеров качества. Имеет идентичную с train.tsv структуру.\n",
    "\n",
    "- *test.tsv* - тестовая выборка, по которой оценивается итоговое качество. Имеет идентичную с train.tsv структуру.\n",
    "\n",
    "Скачать данные можно здесь: [ссылка](https://github.com/valerapon/msu_task_3_ner)"
   ]
  },
  {
   "cell_type": "code",
   "execution_count": 1,
   "metadata": {
    "colab": {
     "base_uri": "https://localhost:8080/",
     "height": 1000
    },
    "id": "EpTwu2i2qRrg",
    "outputId": "06a34993-d8b4-4894-80fa-8acfbe031dc8",
    "scrolled": true
   },
   "outputs": [
    {
     "name": "stdout",
     "output_type": "stream",
     "text": [
      "Looking in indexes: https://pypi.org/simple, https://pypi.ngc.nvidia.com\n",
      "Requirement already satisfied: numpy==1.23.5 in /usr/local/lib/python3.10/dist-packages (1.23.5)\n",
      "Requirement already satisfied: scikit-learn==1.2.2 in /usr/local/lib/python3.10/dist-packages (1.2.2)\n",
      "Requirement already satisfied: tensorboard==2.14.1 in /usr/local/lib/python3.10/dist-packages (2.14.1)\n",
      "Requirement already satisfied: torch==2.1.0 in /usr/local/lib/python3.10/dist-packages (2.1.0)\n",
      "Requirement already satisfied: tqdm==4.66.1 in /usr/local/lib/python3.10/dist-packages (4.66.1)\n",
      "Requirement already satisfied: transformers==4.34.1 in /usr/local/lib/python3.10/dist-packages (4.34.1)\n",
      "Requirement already satisfied: scipy>=1.3.2 in /usr/local/lib/python3.10/dist-packages (from scikit-learn==1.2.2) (1.10.1)\n",
      "Requirement already satisfied: joblib>=1.1.1 in /usr/local/lib/python3.10/dist-packages (from scikit-learn==1.2.2) (1.3.2)\n",
      "Requirement already satisfied: threadpoolctl>=2.0.0 in /usr/local/lib/python3.10/dist-packages (from scikit-learn==1.2.2) (3.3.0)\n",
      "Requirement already satisfied: absl-py>=0.4 in /usr/local/lib/python3.10/dist-packages (from tensorboard==2.14.1) (2.1.0)\n",
      "Requirement already satisfied: grpcio>=1.48.2 in /usr/local/lib/python3.10/dist-packages (from tensorboard==2.14.1) (1.62.1)\n",
      "Requirement already satisfied: google-auth<3,>=1.6.3 in /usr/local/lib/python3.10/dist-packages (from tensorboard==2.14.1) (2.29.0)\n",
      "Requirement already satisfied: google-auth-oauthlib<1.1,>=0.5 in /usr/local/lib/python3.10/dist-packages (from tensorboard==2.14.1) (1.0.0)\n",
      "Requirement already satisfied: markdown>=2.6.8 in /usr/local/lib/python3.10/dist-packages (from tensorboard==2.14.1) (3.6)\n",
      "Requirement already satisfied: protobuf>=3.19.6 in /usr/local/lib/python3.10/dist-packages (from tensorboard==2.14.1) (3.20.3)\n",
      "Requirement already satisfied: requests<3,>=2.21.0 in /usr/local/lib/python3.10/dist-packages (from tensorboard==2.14.1) (2.31.0)\n",
      "Requirement already satisfied: setuptools>=41.0.0 in /usr/local/lib/python3.10/dist-packages (from tensorboard==2.14.1) (68.2.2)\n",
      "Requirement already satisfied: six>1.9 in /usr/local/lib/python3.10/dist-packages (from tensorboard==2.14.1) (1.16.0)\n",
      "Requirement already satisfied: tensorboard-data-server<0.8.0,>=0.7.0 in /usr/local/lib/python3.10/dist-packages (from tensorboard==2.14.1) (0.7.2)\n",
      "Requirement already satisfied: werkzeug>=1.0.1 in /usr/local/lib/python3.10/dist-packages (from tensorboard==2.14.1) (3.0.2)\n",
      "Requirement already satisfied: filelock in /usr/local/lib/python3.10/dist-packages (from torch==2.1.0) (3.14.0)\n",
      "Requirement already satisfied: typing-extensions in /usr/local/lib/python3.10/dist-packages (from torch==2.1.0) (4.12.2)\n",
      "Requirement already satisfied: sympy in /usr/local/lib/python3.10/dist-packages (from torch==2.1.0) (1.12)\n",
      "Requirement already satisfied: networkx in /usr/local/lib/python3.10/dist-packages (from torch==2.1.0) (2.6.3)\n",
      "Requirement already satisfied: jinja2 in /usr/local/lib/python3.10/dist-packages (from torch==2.1.0) (3.1.3)\n",
      "Requirement already satisfied: fsspec in /usr/local/lib/python3.10/dist-packages (from torch==2.1.0) (2024.2.0)\n",
      "Requirement already satisfied: nvidia-cuda-nvrtc-cu12==12.1.105 in /usr/local/lib/python3.10/dist-packages (from torch==2.1.0) (12.1.105)\n",
      "Requirement already satisfied: nvidia-cuda-runtime-cu12==12.1.105 in /usr/local/lib/python3.10/dist-packages (from torch==2.1.0) (12.1.105)\n",
      "Requirement already satisfied: nvidia-cuda-cupti-cu12==12.1.105 in /usr/local/lib/python3.10/dist-packages (from torch==2.1.0) (12.1.105)\n",
      "Requirement already satisfied: nvidia-cudnn-cu12==8.9.2.26 in /usr/local/lib/python3.10/dist-packages (from torch==2.1.0) (8.9.2.26)\n",
      "Requirement already satisfied: nvidia-cublas-cu12==12.1.3.1 in /usr/local/lib/python3.10/dist-packages (from torch==2.1.0) (12.1.3.1)\n",
      "Requirement already satisfied: nvidia-cufft-cu12==11.0.2.54 in /usr/local/lib/python3.10/dist-packages (from torch==2.1.0) (11.0.2.54)\n",
      "Requirement already satisfied: nvidia-curand-cu12==10.3.2.106 in /usr/local/lib/python3.10/dist-packages (from torch==2.1.0) (10.3.2.106)\n",
      "Requirement already satisfied: nvidia-cusolver-cu12==11.4.5.107 in /usr/local/lib/python3.10/dist-packages (from torch==2.1.0) (11.4.5.107)\n",
      "Requirement already satisfied: nvidia-cusparse-cu12==12.1.0.106 in /usr/local/lib/python3.10/dist-packages (from torch==2.1.0) (12.1.0.106)\n",
      "Requirement already satisfied: nvidia-nccl-cu12==2.18.1 in /usr/local/lib/python3.10/dist-packages (from torch==2.1.0) (2.18.1)\n",
      "Requirement already satisfied: nvidia-nvtx-cu12==12.1.105 in /usr/local/lib/python3.10/dist-packages (from torch==2.1.0) (12.1.105)\n",
      "Requirement already satisfied: triton==2.1.0 in /usr/local/lib/python3.10/dist-packages (from torch==2.1.0) (2.1.0)\n",
      "Requirement already satisfied: huggingface-hub<1.0,>=0.16.4 in /usr/local/lib/python3.10/dist-packages (from transformers==4.34.1) (0.17.3)\n",
      "Requirement already satisfied: packaging>=20.0 in /usr/local/lib/python3.10/dist-packages (from transformers==4.34.1) (23.2)\n",
      "Requirement already satisfied: pyyaml>=5.1 in /usr/local/lib/python3.10/dist-packages (from transformers==4.34.1) (6.0.1)\n",
      "Requirement already satisfied: regex!=2019.12.17 in /usr/local/lib/python3.10/dist-packages (from transformers==4.34.1) (2023.12.25)\n",
      "Requirement already satisfied: tokenizers<0.15,>=0.14 in /usr/local/lib/python3.10/dist-packages (from transformers==4.34.1) (0.14.1)\n",
      "Requirement already satisfied: safetensors>=0.3.1 in /usr/local/lib/python3.10/dist-packages (from transformers==4.34.1) (0.4.3)\n",
      "Requirement already satisfied: nvidia-nvjitlink-cu12 in /usr/local/lib/python3.10/dist-packages (from nvidia-cusolver-cu12==11.4.5.107->torch==2.1.0) (12.5.40)\n",
      "Requirement already satisfied: cachetools<6.0,>=2.0.0 in /usr/local/lib/python3.10/dist-packages (from google-auth<3,>=1.6.3->tensorboard==2.14.1) (5.3.3)\n",
      "Requirement already satisfied: pyasn1-modules>=0.2.1 in /usr/local/lib/python3.10/dist-packages (from google-auth<3,>=1.6.3->tensorboard==2.14.1) (0.4.0)\n",
      "Requirement already satisfied: rsa<5,>=3.1.4 in /usr/local/lib/python3.10/dist-packages (from google-auth<3,>=1.6.3->tensorboard==2.14.1) (4.9)\n",
      "Requirement already satisfied: requests-oauthlib>=0.7.0 in /usr/local/lib/python3.10/dist-packages (from google-auth-oauthlib<1.1,>=0.5->tensorboard==2.14.1) (2.0.0)\n",
      "Requirement already satisfied: charset-normalizer<4,>=2 in /usr/local/lib/python3.10/dist-packages (from requests<3,>=2.21.0->tensorboard==2.14.1) (3.3.2)\n",
      "Requirement already satisfied: idna<4,>=2.5 in /usr/local/lib/python3.10/dist-packages (from requests<3,>=2.21.0->tensorboard==2.14.1) (3.6)\n",
      "Requirement already satisfied: urllib3<3,>=1.21.1 in /usr/local/lib/python3.10/dist-packages (from requests<3,>=2.21.0->tensorboard==2.14.1) (1.26.18)\n",
      "Requirement already satisfied: certifi>=2017.4.17 in /usr/local/lib/python3.10/dist-packages (from requests<3,>=2.21.0->tensorboard==2.14.1) (2024.2.2)\n",
      "Requirement already satisfied: MarkupSafe>=2.1.1 in /usr/local/lib/python3.10/dist-packages (from werkzeug>=1.0.1->tensorboard==2.14.1) (2.1.5)\n",
      "Requirement already satisfied: mpmath>=0.19 in /usr/local/lib/python3.10/dist-packages (from sympy->torch==2.1.0) (1.3.0)\n",
      "Requirement already satisfied: pyasn1<0.7.0,>=0.4.6 in /usr/local/lib/python3.10/dist-packages (from pyasn1-modules>=0.2.1->google-auth<3,>=1.6.3->tensorboard==2.14.1) (0.6.0)\n",
      "Requirement already satisfied: oauthlib>=3.0.0 in /usr/local/lib/python3.10/dist-packages (from requests-oauthlib>=0.7.0->google-auth-oauthlib<1.1,>=0.5->tensorboard==2.14.1) (3.2.2)\n",
      "\u001b[33mWARNING: Running pip as the 'root' user can result in broken permissions and conflicting behaviour with the system package manager, possibly rendering your system unusable.It is recommended to use a virtual environment instead: https://pip.pypa.io/warnings/venv. Use the --root-user-action option if you know what you are doing and want to suppress this warning.\u001b[0m\u001b[33m\n",
      "\u001b[0m"
     ]
    }
   ],
   "source": [
    "!pip install numpy==1.23.5 scikit-learn==1.2.2 tensorboard==2.14.1 torch==2.1.0 tqdm==4.66.1 transformers==4.34.1"
   ]
  },
  {
   "cell_type": "code",
   "execution_count": 2,
   "metadata": {
    "id": "Thidpb9qQELS"
   },
   "outputs": [],
   "source": [
    "import random\n",
    "from collections import Counter, defaultdict, namedtuple\n",
    "from typing import Tuple, List, Dict, Any\n",
    "\n",
    "import torch\n",
    "import numpy as np\n",
    "\n",
    "from tqdm import tqdm, trange"
   ]
  },
  {
   "cell_type": "markdown",
   "metadata": {
    "id": "AiDlmbY2QELT"
   },
   "source": [
    "Зафиксируем seed (значение 42) для воспроизводимости результатов (желательно делать **всегда**!):"
   ]
  },
  {
   "cell_type": "code",
   "execution_count": 3,
   "metadata": {
    "id": "yt3ISg3aQELU"
   },
   "outputs": [],
   "source": [
    "def set_global_seed(seed: int) -> None:\n",
    "    \"\"\"\n",
    "    Set global seed for reproducibility.\n",
    "    \"\"\"\n",
    "\n",
    "    random.seed(seed)\n",
    "    np.random.seed(seed)\n",
    "    torch.manual_seed(seed)\n",
    "    torch.cuda.manual_seed_all(seed)\n",
    "    torch.backends.cudnn.benchmark = False\n",
    "    torch.backends.cudnn.deterministic = True\n",
    "\n",
    "\n",
    "set_global_seed(42)"
   ]
  },
  {
   "cell_type": "markdown",
   "metadata": {
    "id": "AhIg0ZBzQELV"
   },
   "source": [
    "Проинициализируем device (CPU / GPU) на котором будем работать (желательно **GPU**):"
   ]
  },
  {
   "cell_type": "code",
   "execution_count": 4,
   "metadata": {
    "colab": {
     "base_uri": "https://localhost:8080/",
     "height": 35
    },
    "id": "rboLOv95QELV",
    "outputId": "7858d4ef-05e4-462c-8773-85d99e9b5ce3"
   },
   "outputs": [
    {
     "data": {
      "text/plain": [
       "'cuda'"
      ]
     },
     "execution_count": 4,
     "metadata": {},
     "output_type": "execute_result"
    }
   ],
   "source": [
    "device = \"cuda\" if torch.cuda.is_available() else \"cpu\"\n",
    "device"
   ]
  },
  {
   "cell_type": "code",
   "execution_count": 5,
   "metadata": {
    "colab": {
     "base_uri": "https://localhost:8080/"
    },
    "id": "5BQPGOE-c58E",
    "outputId": "ff841336-f54a-4f4d-936e-176868fb2c92"
   },
   "outputs": [
    {
     "name": "stdout",
     "output_type": "stream",
     "text": [
      "Cloning into 'msu_task_3_ner'...\n",
      "remote: Enumerating objects: 20, done.\u001b[K\n",
      "remote: Counting objects: 100% (20/20), done.\u001b[K\n",
      "remote: Compressing objects: 100% (16/16), done.\u001b[K\n",
      "remote: Total 20 (delta 2), reused 0 (delta 0), pack-reused 0 (from 0)\u001b[K\n",
      "Receiving objects: 100% (20/20), 735.47 KiB | 3.20 MiB/s, done.\n",
      "Resolving deltas: 100% (2/2), done.\n"
     ]
    }
   ],
   "source": [
    "!git clone https://github.com/valerapon/msu_task_3_ner.git"
   ]
  },
  {
   "cell_type": "code",
   "execution_count": 5,
   "metadata": {
    "id": "hjkSItLAc58E"
   },
   "outputs": [],
   "source": [
    "!mv msu_task_3_ner/data data"
   ]
  },
  {
   "cell_type": "code",
   "execution_count": 6,
   "metadata": {
    "id": "F4q-C-ebc58E"
   },
   "outputs": [],
   "source": [
    "!rm -rf msu_task_3_ner"
   ]
  },
  {
   "cell_type": "markdown",
   "metadata": {
    "id": "4k3Nhd3IQELY"
   },
   "source": [
    "## Часть 1. Подготовка данных (4 балла)"
   ]
  },
  {
   "cell_type": "markdown",
   "metadata": {
    "id": "4qYjOMuPQELY"
   },
   "source": [
    "Первым делом нам нужно считать данные. Давайте напишем функцию, которая на вход принимает путь до одного из conll-2003 файла и возвращает два списка:\n",
    "- список списков слов / токенов;\n",
    "- список списков тегов, который соответствует собранному списку слов / токенов.\n",
    "\n",
    "Также функция на вход принимает булевую переменную *lowercase*, которая задает чувствительность к регистру. Далее будем всё приводить к нижнему регистру (`lower=True`).\n",
    "\n",
    "P.S. Стоит держать в голове, что в некоторых ситуациях верхний регистр помогает выявлять именованные сущности. Например, у вас нет мощностей, чтобы запускать сложные модели, а задачу решать нужно быстро. В этом случае эвристическое правило: \"Большая буква в слове = именнованная сущность\" может вам помочь. Или у вас есть огромные корпусы данных, которые позволяют сохранять исходное разнообразие слов.\n",
    "\n",
    "**Задание. Реализуйте функцию read_conll2003.** **<font color='red'>(1 балл)</font>**\n",
    "\n",
    "<details>\n",
    "<summary> Подсказка </summary>\n",
    "\n",
    "*Предложения разделены пустой строкой, в конце файла также пустая строка, но не забывайте про символ `\\n`.*\n",
    "\n",
    "</details>\n"
   ]
  },
  {
   "cell_type": "code",
   "execution_count": 6,
   "metadata": {
    "id": "wQdCfX2OQELZ"
   },
   "outputs": [],
   "source": [
    "def read_conll2003(\n",
    "    path: str,\n",
    "    lower: bool = True,\n",
    ") -> Tuple[List[List[str]], List[List[str]]]:\n",
    "    \"\"\"\n",
    "    Prepare data in CoNNL like format.\n",
    "\n",
    "    Args:\n",
    "        path: The path to the file (str).\n",
    "        lower:  Reduce text to lowercase (bool).\n",
    "\n",
    "    Returns:\n",
    "        Function returns pair (token_seq, label_seq).\n",
    "        token_seq: The list of lists. Each internal list is\n",
    "            a sentence converted into tokens.\n",
    "        label_seq: The list of lists. All internal lists\n",
    "            contain tags corresponding to tokens from token_seq.\n",
    "\n",
    "    \"\"\"\n",
    "\n",
    "    token_seq: List[List[str]] = []\n",
    "    label_seq: List[List[str]] = []\n",
    "\n",
    "    # ### START CODE HERE ###\n",
    "    current_tokens = []\n",
    "    current_labels = []\n",
    "\n",
    "    with open(path) as file:\n",
    "        for line in file:\n",
    "            if line in '\\n':\n",
    "                if current_tokens and current_labels:\n",
    "                    token_seq.append(current_tokens)\n",
    "                    label_seq.append(current_labels)\n",
    "                current_tokens = []\n",
    "                current_labels = []\n",
    "            else:\n",
    "                token, label = line.split()\n",
    "                if lower:\n",
    "                    token = token.lower()\n",
    "\n",
    "                current_tokens.append(token)\n",
    "                current_labels.append(label)\n",
    "\n",
    "        if current_tokens and current_labels:\n",
    "            token_seq.append(current_tokens)\n",
    "            label_seq.append(current_labels)\n",
    "    # ### END CODE HERE ###\n",
    "\n",
    "    return token_seq, label_seq"
   ]
  },
  {
   "cell_type": "markdown",
   "metadata": {
    "id": "oYm8xEvFQELb"
   },
   "source": [
    "Считаем все три файла:\n",
    "- *train.tsv*\n",
    "- *valid.tsv*\n",
    "- *test.tsv*"
   ]
  },
  {
   "cell_type": "code",
   "execution_count": 7,
   "metadata": {
    "id": "-inr1BPgQELb"
   },
   "outputs": [],
   "source": [
    "train_token_seq, train_label_seq = read_conll2003(\"data/train.txt\")\n",
    "valid_token_seq, valid_label_seq = read_conll2003(\"data/valid.txt\")\n",
    "test_token_seq, test_label_seq = read_conll2003(\"data/test.txt\")"
   ]
  },
  {
   "cell_type": "markdown",
   "metadata": {
    "id": "sOoNc1VUQELc"
   },
   "source": [
    "Посмотрим на то, что мы получили:"
   ]
  },
  {
   "cell_type": "code",
   "execution_count": 8,
   "metadata": {
    "id": "HK8AcwWGQELd",
    "outputId": "62093a6a-05f9-43e4-a3ad-db13801f44e6"
   },
   "outputs": [
    {
     "name": "stdout",
     "output_type": "stream",
     "text": [
      "eu\tB-ORG\n",
      "rejects\tO\n",
      "german\tB-MISC\n",
      "call\tO\n",
      "to\tO\n",
      "boycott\tO\n",
      "british\tB-MISC\n",
      "lamb\tO\n",
      ".\tO\n"
     ]
    }
   ],
   "source": [
    "for token, label in zip(train_token_seq[0], train_label_seq[0]):\n",
    "    print(f\"{token}\\t{label}\")"
   ]
  },
  {
   "cell_type": "code",
   "execution_count": 9,
   "metadata": {
    "id": "K8SqDeMJjF3Y",
    "outputId": "e63bd315-7e85-42a4-87fd-8bb8b12d70a8"
   },
   "outputs": [
    {
     "name": "stdout",
     "output_type": "stream",
     "text": [
      "cricket\tO\n",
      "-\tO\n",
      "leicestershire\tB-ORG\n",
      "take\tO\n",
      "over\tO\n",
      "at\tO\n",
      "top\tO\n",
      "after\tO\n",
      "innings\tO\n",
      "victory\tO\n",
      ".\tO\n"
     ]
    }
   ],
   "source": [
    "for token, label in zip(valid_token_seq[0], valid_label_seq[0]):\n",
    "    print(f\"{token}\\t{label}\")"
   ]
  },
  {
   "cell_type": "code",
   "execution_count": 10,
   "metadata": {
    "id": "ddFE7p5kjF_p",
    "outputId": "ff2f8fe3-2e5c-4bc7-e64c-575c4215a914"
   },
   "outputs": [
    {
     "name": "stdout",
     "output_type": "stream",
     "text": [
      "soccer\tO\n",
      "-\tO\n",
      "japan\tB-LOC\n",
      "get\tO\n",
      "lucky\tO\n",
      "win\tO\n",
      ",\tO\n",
      "china\tB-PER\n",
      "in\tO\n",
      "surprise\tO\n",
      "defeat\tO\n",
      ".\tO\n"
     ]
    }
   ],
   "source": [
    "for token, label in zip(test_token_seq[0], test_label_seq[0]):\n",
    "    print(f\"{token}\\t{label}\")"
   ]
  },
  {
   "cell_type": "code",
   "execution_count": 11,
   "metadata": {
    "id": "BZ4Go3IXfDit",
    "outputId": "b974d58f-7899-41cd-9d4a-2c0b3d0a97d2"
   },
   "outputs": [
    {
     "name": "stdout",
     "output_type": "stream",
     "text": [
      "Тесты пройдены!\n"
     ]
    }
   ],
   "source": [
    "assert len(train_token_seq) == len(train_label_seq), \"Длины тренировочных token_seq и label_seq не совпадают, ошибка в функции read_conll2003\"\n",
    "assert len(valid_token_seq) == len(valid_label_seq), \"Длины валидационных token_seq и label_seq не совпадают, ошибка в функции read_conll2003\"\n",
    "assert len(test_token_seq) == len(test_label_seq), \"Длины тестовых token_seq и label_seq не совпадают, ошибка в функции read_conll2003\"\n",
    "\n",
    "assert train_token_seq[0] == ['eu', 'rejects', 'german', 'call', 'to', 'boycott', 'british', 'lamb', '.'], \"Ошибка в тренировочном token_seq\"\n",
    "assert train_label_seq[0] == ['B-ORG', 'O', 'B-MISC', 'O', 'O', 'O', 'B-MISC', 'O', 'O'], \"Ошибка в тренировочном label_seq\"\n",
    "\n",
    "assert valid_token_seq[0] == ['cricket', '-', 'leicestershire', 'take', 'over', 'at', 'top', 'after', 'innings', 'victory', '.'], \"Ошибка в валидационном token_seq\"\n",
    "assert valid_label_seq[0] == ['O', 'O', 'B-ORG', 'O', 'O', 'O', 'O', 'O', 'O', 'O', 'O'], \"Ошибка в валидационном label_seq\"\n",
    "\n",
    "assert test_token_seq[0] == ['soccer', '-', 'japan', 'get', 'lucky', 'win', ',', 'china', 'in', 'surprise', 'defeat', '.'], \"Ошибка в тестовом token_seq\"\n",
    "assert test_label_seq[0] == ['O', 'O', 'B-LOC', 'O', 'O', 'O', 'O', 'B-PER', 'O', 'O', 'O', 'O'], \"Ошибка в тестовом label_seq\"\n",
    "\n",
    "print(\"Тесты пройдены!\")"
   ]
  },
  {
   "cell_type": "markdown",
   "metadata": {
    "id": "8SVL4USbQELe"
   },
   "source": [
    "### Подготовка словарей\n",
    "\n",
    "Чтобы обучать нейронную сеть, мы будем использовать два отображения:\n",
    "- {**token**}→{**token_idx**}: соответствие между словом / токеном и индексом строки в *embedding* матрице (начинается с 0);\n",
    "- {**label**}→{**label_idx**}: соответствие между тегом и уникальным индексом (начинается с 0).\n",
    "\n",
    "Теперь нам необходимо реализовать две функции:\n",
    "- *get_token2idx*\n",
    "- *get_label2idx*\n",
    "\n",
    "которые будут возвращать соответствующие словари (*token2idx* и *label2idx*).\n",
    "\n",
    "Словарь *token2idx* должен содержать специальные токены, которые нужно добавить самим:\n",
    "- `<PAD>` - спецтокен для паддинга (отступа), так как мы собираемся обучать модели батчами. Токен `<PAD>` нужен для выравнивания предложений по длине, когда их будем помещать в один батч. Чаще всего предложения дополняются с конца;\n",
    "- `<UNK>` - спецтокен для обработки слов / токенов, которых нет в словаре (актуально для инференса).\n",
    "\n",
    "Давайте для удобства дадим токену `<PAD>` индекс `0`, а токену `<UNK>` индекс `1`.\n",
    "\n",
    "В функцию *get_token2idx* также необходимо добавить параметр *min_count*, который будет включать только слова, превышающие определенную частоту."
   ]
  },
  {
   "cell_type": "markdown",
   "metadata": {
    "id": "sSBooA__tPBP"
   },
   "source": [
    "Для начала посмотрим, а сколько вообще уникальных слов в обучающих данных и число их вхождений:"
   ]
  },
  {
   "cell_type": "code",
   "execution_count": 12,
   "metadata": {
    "id": "IthnXKsoo7A3",
    "outputId": "51aa1e2e-7faa-4478-8ce3-59c4310c90c3"
   },
   "outputs": [
    {
     "name": "stdout",
     "output_type": "stream",
     "text": [
      "('the', 8390)\n",
      "('.', 7374)\n",
      "(',', 7290)\n",
      "('of', 3815)\n",
      "('in', 3621)\n",
      "('to', 3424)\n",
      "('a', 3199)\n",
      "('and', 2872)\n",
      "('(', 2861)\n",
      "(')', 2861)\n",
      "Количество уникальных слов в тренировочном датасете: 21010\n",
      "Количество слов встречающихся только один раз в тренировочном датасете: 10060\n"
     ]
    }
   ],
   "source": [
    "token_counter = Counter([token for sentence in train_token_seq for token in sentence])\n",
    "print(*token_counter.most_common(10), sep='\\n')\n",
    "print(f\"Количество уникальных слов в тренировочном датасете: {len(token_counter)}\")\n",
    "print(f\"Количество слов встречающихся только один раз в тренировочном датасете: {len([token for token, cnt in token_counter.items() if cnt == 1])}\")"
   ]
  },
  {
   "cell_type": "markdown",
   "metadata": {
    "id": "sRtCHt1QruSU"
   },
   "source": [
    "Как мы видим, у нас есть много слов, которые в обучении встречаются только один раз. Очевидно, что выучиться по ним у нас не получиться, мы только переобучимся, поэтому давайте выкинем такие слова при формировании нашего словаря, задав параметр функции `min_count=2`.\n",
    "\n",
    "На этом этапе можно применять различные методы сокращения размера словаря, преобразовывая разные словоформы одного слова в один токен: стемминг или лемматизация. В текущей задаче мы это опустим, но в некоторых ситуациях это бывает полезно."
   ]
  },
  {
   "cell_type": "markdown",
   "metadata": {
    "id": "aOnc3UHpQELf"
   },
   "source": [
    "**Задание. Реализуйте функции get_token2idx и get_label2idx.** **<font color='red'>(1 балл)</font>**\n",
    "\n",
    "<details>\n",
    "<summary> Подсказка №1 </summary>\n",
    "\n",
    "*Не забудьте, что у \\<PAD\\> индекс 0, а у \\<UNK\\> индекс 1.*\n",
    "\n",
    "</details>\n",
    "\n",
    "<details>\n",
    "<summary> Подсказка №2 </summary>\n",
    "\n",
    "*Лучше всего словари token2idx и label2idx собирать с помощью token2cnt в get_token2idx и label_list в get_label2idx соответственно.*\n",
    "\n",
    "</details>\n",
    "\n",
    "<details>\n",
    "<summary> Подсказка №3 </summary>\n",
    "\n",
    "*В label_list в get_label2idx лежат отсортированные по возрастанию тэги, за исключением тэга 'O' – он идет первый (индекс 0). Этот порядок нужно сохранить при индексации в label2idx.*\n",
    "\n",
    "</details>"
   ]
  },
  {
   "cell_type": "code",
   "execution_count": 13,
   "metadata": {
    "id": "aCaPftCyQELi"
   },
   "outputs": [],
   "source": [
    "def get_token2idx(\n",
    "    token_seq: List[List[str]],\n",
    "    min_count: int,\n",
    ") -> Dict[str, int]:\n",
    "    \"\"\"\n",
    "    Get mapping from tokens to indices to use with Embedding layer.\n",
    "\n",
    "    Args:\n",
    "        token_seq: The list of lists. Each internal list (sentence)\n",
    "            consists of tokens.\n",
    "        min_count:  The minimum number of repetitions of\n",
    "            a token in the corpus.\n",
    "\n",
    "    Returns:\n",
    "        Function returns mapping from token to id.\n",
    "        token2idx: The mapping from token\n",
    "            to id without \"rare\" words.\n",
    "\n",
    "    \"\"\"\n",
    "\n",
    "    token2idx: Dict[str, int] = {}\n",
    "    token2cnt = Counter([token for sentence in token_seq for token in sentence])\n",
    "\n",
    "    # ### START CODE HERE ###\n",
    "    token2idx['<PAD>'] = 0\n",
    "    token2idx['<UNK>'] = 1\n",
    "\n",
    "    last_id = 2\n",
    "    token2idx.update(zip((key for key, value in token2cnt.items() if value >= min_count), range(2, len(token2cnt) + 2)))\n",
    "    # ### END CODE HERE ###\n",
    "\n",
    "    return token2idx"
   ]
  },
  {
   "cell_type": "code",
   "execution_count": 14,
   "metadata": {
    "id": "EJApkn15c58G"
   },
   "outputs": [],
   "source": [
    "token2idx = get_token2idx(train_token_seq, min_count=2)"
   ]
  },
  {
   "cell_type": "code",
   "execution_count": 15,
   "metadata": {
    "id": "t6i51GPtQELj"
   },
   "outputs": [],
   "source": [
    "def get_label2idx(label_seq: List[List[str]]) -> Dict[str, int]:\n",
    "    \"\"\"\n",
    "    Get mapping from labels to indices.\n",
    "\n",
    "    Args:\n",
    "        label_seq: The list of lists. Each internal list (sentence)\n",
    "            consists of labels.\n",
    "\n",
    "    Returns:\n",
    "        Function returns mapping from label to id.\n",
    "        label2idx: The mapping from label to id.\n",
    "\n",
    "    \"\"\"\n",
    "\n",
    "    label2idx: Dict[str, int] = {}\n",
    "    label_list = set(label for sentence in label_seq for label in sentence)\n",
    "    label_list = sorted(label_list, key=lambda x: 'A' if x == 'O' else x)\n",
    "\n",
    "    # ### START CODE HERE ###\n",
    "    label2idx.update(zip(label_list, range(len(label_list))))\n",
    "    # ### END CODE HERE ###\n",
    "\n",
    "    return label2idx"
   ]
  },
  {
   "cell_type": "code",
   "execution_count": 16,
   "metadata": {
    "id": "XW6fK0HtQELk"
   },
   "outputs": [],
   "source": [
    "label2idx = get_label2idx(train_label_seq)"
   ]
  },
  {
   "cell_type": "markdown",
   "metadata": {
    "id": "U13l-2IOQELk"
   },
   "source": [
    "Посмотрим на то, что мы получили:"
   ]
  },
  {
   "cell_type": "code",
   "execution_count": 17,
   "metadata": {
    "id": "O7U7bMrHQELl",
    "outputId": "92e67c09-4b01-48fc-9324-0b738fef9c72"
   },
   "outputs": [
    {
     "name": "stdout",
     "output_type": "stream",
     "text": [
      "<PAD>\t0\n",
      "<UNK>\t1\n",
      "eu\t2\n",
      "german\t3\n",
      "call\t4\n",
      "to\t5\n",
      "boycott\t6\n",
      "british\t7\n",
      "lamb\t8\n",
      ".\t9\n"
     ]
    }
   ],
   "source": [
    "for token, idx in list(token2idx.items())[:10]:\n",
    "    print(f\"{token}\\t{idx}\")"
   ]
  },
  {
   "cell_type": "code",
   "execution_count": 18,
   "metadata": {
    "id": "Hp75V-o2QELl",
    "outputId": "3976bb0d-efe9-4408-aa21-16af3780502e"
   },
   "outputs": [
    {
     "name": "stdout",
     "output_type": "stream",
     "text": [
      "O\t0\n",
      "B-LOC\t1\n",
      "B-MISC\t2\n",
      "B-ORG\t3\n",
      "B-PER\t4\n",
      "I-LOC\t5\n",
      "I-MISC\t6\n",
      "I-ORG\t7\n",
      "I-PER\t8\n"
     ]
    }
   ],
   "source": [
    "for label, idx in label2idx.items():\n",
    "    print(f\"{label}\\t{idx}\")"
   ]
  },
  {
   "cell_type": "code",
   "execution_count": 19,
   "metadata": {
    "id": "VYb4BdAUhNzk",
    "outputId": "304d16f2-b884-47f8-fb56-a1669845956c"
   },
   "outputs": [
    {
     "name": "stdout",
     "output_type": "stream",
     "text": [
      "Тесты пройдены!\n"
     ]
    }
   ],
   "source": [
    "assert len(get_token2idx(train_token_seq, min_count=1)) == 21012, \"Ошибка в длине словаря, скорее всего неверно реализован min_count\"\n",
    "assert len(token2idx) == 10952, \"Неправильная длина token2idx, скорее всего неверно реализован min_count\"\n",
    "assert len(label2idx) == 9, \"Неправильная длина label2idx\"\n",
    "\n",
    "assert list(token2idx.items())[:10] == [('<PAD>', 0), ('<UNK>', 1), ('eu', 2), ('german', 3), ('call', 4), ('to', 5), ('boycott', 6), ('british', 7), ('lamb', 8), ('.', 9)], \"Неправильно сформированный token2idx\"\n",
    "assert label2idx == {'O': 0, 'B-LOC': 1, 'B-MISC': 2, 'B-ORG': 3, 'B-PER': 4, 'I-LOC': 5, 'I-MISC': 6, 'I-ORG': 7, 'I-PER': 8}, \"Неправильно сформированный label2idx\"\n",
    "\n",
    "print(\"Тесты пройдены!\")"
   ]
  },
  {
   "cell_type": "markdown",
   "metadata": {
    "id": "ItPs1DmOQELm"
   },
   "source": [
    "### Подготовка датасета и загрузчика\n",
    "\n",
    "Обычно нейронные сети обучаются батчами. Это означает, что каждое обновление весов нейронной сети происходит на основе нескольких последовательностей. Технической деталью является необходимость дополнить все последовательности внутри батча до одной длины.\n",
    "\n",
    "Из предыдущего практического задания вы должны знать о `Dataset`'е (`torch.utils.data.Dataset`) – структура данных, которая хранит и может по индексу отдавать данные для обучения. Датасет должен наследоваться от стандартного PyTorch класса Dataset и переопределять методы `__len__` и `__getitem__`.\n",
    "\n",
    "Метод `__getitem__` должен возвращать индексированную последовательность и её теги.\n",
    "\n",
    "**Не забудьте** про `<UNK>` спецтокен для неизвестных слов!\n",
    "    \n",
    "Давайте напишем кастомный датасет под нашу задачу, который на вход (метод `__init__`) будет принимать:\n",
    "- *token_seq* – список списков слов / токенов;\n",
    "- *label_seq* – список списков тегов;\n",
    "- *token2idx* – отображение токена в индекс;\n",
    "- *label2idx* – отображение тега в индекс.\n",
    "\n",
    "и возвращать из метода `__getitem__` два Int64 тензора (`torch.LongTensor`) из индексов слов / токенов в сэмпле и индексов соответвующих тегов:\n",
    "\n",
    "**Задание. Реализуйте класс датасета NERDataset.** **<font color='red'>(1 балл)</font>**\n",
    "\n",
    "<details>\n",
    "<summary> Подсказка </summary>\n",
    "\n",
    "*Для понимания, зачем нужен вообще этот Dataset. У нас по факту есть \"сырые\" последовательности token_seq и label_seq, которые по индексу будут возвращать и нужный набор токенов, и соответствующий список тегов. Но для обучения это неудобно, потому что каждый раз нам необходимо конвертировать токены и теги в индексы. Инструмент Dataset нужен для того, чтобы, не задумываясь, извлекать элементы в нужном формате автоматически, как из массива.*\n",
    "\n",
    "</details>"
   ]
  },
  {
   "cell_type": "code",
   "execution_count": 20,
   "metadata": {
    "id": "kdZvnUUpQELm"
   },
   "outputs": [],
   "source": [
    "class NERDataset(torch.utils.data.Dataset):\n",
    "    \"\"\"\n",
    "    PyTorch Dataset for NER.\n",
    "    \"\"\"\n",
    "\n",
    "    def __init__(\n",
    "        self,\n",
    "        token_seq: List[List[str]],\n",
    "        label_seq: List[List[str]],\n",
    "        token2idx: Dict[str, int],\n",
    "        label2idx: Dict[str, int],\n",
    "    ) -> None:\n",
    "        \"\"\"\n",
    "        Constructor of NERDataset class.\n",
    "\n",
    "        Args:\n",
    "            token_seq: The list of lists. Each internal list (sentence)\n",
    "                consists of tokens.\n",
    "            label_seq: The list of lists. Each internal list (sentence)\n",
    "                consists of labels.\n",
    "            token2idx: The mapping from token to id.\n",
    "            label2idx: The mapping from label to id.\n",
    "\n",
    "        Returns:\n",
    "            None\n",
    "\n",
    "        \"\"\"\n",
    "        self.token2idx = token2idx\n",
    "        self.label2idx = label2idx\n",
    "\n",
    "        self.token_seq = [self.process_tokens(tokens, token2idx) for tokens in token_seq]\n",
    "        self.label_seq = [self.process_labels(labels, label2idx) for labels in label_seq]\n",
    "\n",
    "    def __len__(self) -> int:\n",
    "        \"\"\"\n",
    "        Get dataset size.\n",
    "\n",
    "        Args:\n",
    "\n",
    "        Returns:\n",
    "            The method returns the length of the dataset.\n",
    "\n",
    "        \"\"\"\n",
    "        return len(self.token_seq)\n",
    "\n",
    "    def __getitem__(\n",
    "        self,\n",
    "        idx: int,\n",
    "    ) -> Tuple[torch.LongTensor, torch.LongTensor]:\n",
    "        \"\"\"\n",
    "        Get an element from a dataset by index.\n",
    "        Recomendation: use LongTensor.\n",
    "\n",
    "        Args:\n",
    "            idx: Index of element (int).\n",
    "\n",
    "        Returns:\n",
    "            The method returns required element. From\n",
    "            self.token_seq and self.label_seq.\n",
    "\n",
    "        \"\"\"\n",
    "        token_ids = None\n",
    "        label_ids = None\n",
    "\n",
    "        # ### START CODE HERE ###\n",
    "        token_ids = torch.LongTensor(self.token_seq[idx])\n",
    "        label_ids = torch.LongTensor(self.label_seq[idx])\n",
    "        # ### END CODE HERE ###\n",
    "        return token_ids, label_ids\n",
    "\n",
    "    @staticmethod\n",
    "    def process_tokens(\n",
    "        tokens: List[str],\n",
    "        token2idx: Dict[str, int],\n",
    "        unk: str = \"<UNK>\",\n",
    "    ) -> List[int]:\n",
    "        \"\"\"\n",
    "        Transform list of tokens into list of tokens' indices.\n",
    "\n",
    "        Args:\n",
    "            tokens: The list (sentence) of tokens.\n",
    "            token2idx: The mapping from token to id.\n",
    "            unk: Name of <UNK> token (str).\n",
    "\n",
    "        Returns:\n",
    "            token_ids: The list of indices. Each index\n",
    "                corresponds to a token from the tokens.\n",
    "\n",
    "        \"\"\"\n",
    "        token_ids: List[int] = []\n",
    "\n",
    "        # ### START CODE HERE ###\n",
    "        token_ids.extend([token2idx[token if token in token2idx else unk] for token in tokens])\n",
    "        # ### END CODE HERE ###\n",
    "        return token_ids\n",
    "\n",
    "    @staticmethod\n",
    "    def process_labels(\n",
    "        labels: List[str],\n",
    "        label2idx: Dict[str, int],\n",
    "    ) -> List[int]:\n",
    "        \"\"\"\n",
    "        Transform list of labels into list of labels' indices.\n",
    "\n",
    "        Args:\n",
    "            labels: The list of labels.\n",
    "            label2idx: The mapping from label to id.\n",
    "\n",
    "        Returns:\n",
    "            label_ids: The list of indices. Each index\n",
    "                corresponds to a label from the labels.\n",
    "\n",
    "        \"\"\"\n",
    "        label_ids = List[int]\n",
    "        label_ids = []\n",
    "\n",
    "        # ### START CODE HERE ###\n",
    "        label_ids.extend([label2idx[label] for label in labels])\n",
    "        # ### END CODE HERE ###\n",
    "        return label_ids"
   ]
  },
  {
   "cell_type": "markdown",
   "metadata": {
    "id": "yCvaPJERQELn"
   },
   "source": [
    "Создадим три датасета:\n",
    "- *train_dataset*\n",
    "- *valid_dataset*\n",
    "- *test_dataset*"
   ]
  },
  {
   "cell_type": "code",
   "execution_count": 21,
   "metadata": {
    "id": "bUMsSNkoQELn"
   },
   "outputs": [],
   "source": [
    "train_dataset = NERDataset(\n",
    "    token_seq=train_token_seq,\n",
    "    label_seq=train_label_seq,\n",
    "    token2idx=token2idx,\n",
    "    label2idx=label2idx,\n",
    ")\n",
    "valid_dataset = NERDataset(\n",
    "    token_seq=valid_token_seq,\n",
    "    label_seq=valid_label_seq,\n",
    "    token2idx=token2idx,\n",
    "    label2idx=label2idx,\n",
    ")\n",
    "test_dataset = NERDataset(\n",
    "    token_seq=test_token_seq,\n",
    "    label_seq=test_label_seq,\n",
    "    token2idx=token2idx,\n",
    "    label2idx=label2idx,\n",
    ")"
   ]
  },
  {
   "cell_type": "markdown",
   "metadata": {
    "id": "jQIq1pAWQELo"
   },
   "source": [
    "Посмотрим на то, что мы получили:"
   ]
  },
  {
   "cell_type": "code",
   "execution_count": 22,
   "metadata": {
    "id": "wDlhYu-YW0s3",
    "outputId": "bb55f2d5-dbf0-4d35-8bd4-60912af0cf28"
   },
   "outputs": [
    {
     "data": {
      "text/plain": [
       "(tensor([2, 1, 3, 4, 5, 6, 7, 8, 9]), tensor([3, 0, 2, 0, 0, 0, 2, 0, 0]))"
      ]
     },
     "execution_count": 22,
     "metadata": {},
     "output_type": "execute_result"
    }
   ],
   "source": [
    "train_dataset[0]"
   ]
  },
  {
   "cell_type": "code",
   "execution_count": 23,
   "metadata": {
    "id": "CCURUIeKW3DG",
    "outputId": "c52dac12-f6a8-42e9-ba3a-2fb5ef5e52d6"
   },
   "outputs": [
    {
     "data": {
      "text/plain": [
       "(tensor([1737,  571, 1777,  197,  687,  145,  349,  111, 1819, 1558,    9]),\n",
       " tensor([0, 0, 3, 0, 0, 0, 0, 0, 0, 0, 0]))"
      ]
     },
     "execution_count": 23,
     "metadata": {},
     "output_type": "execute_result"
    }
   ],
   "source": [
    "valid_dataset[0]"
   ]
  },
  {
   "cell_type": "code",
   "execution_count": 24,
   "metadata": {
    "id": "zyAazaLzjQ-K",
    "outputId": "73d1df6e-cca7-4418-b6fc-c146d1f8fe66"
   },
   "outputs": [
    {
     "data": {
      "text/plain": [
       "(tensor([1516,  571, 1434, 1729, 4893, 2014,   67,  310,  215, 3157, 3139,    9]),\n",
       " tensor([0, 0, 1, 0, 0, 0, 0, 4, 0, 0, 0, 0]))"
      ]
     },
     "execution_count": 24,
     "metadata": {},
     "output_type": "execute_result"
    }
   ],
   "source": [
    "test_dataset[0]"
   ]
  },
  {
   "cell_type": "code",
   "execution_count": 25,
   "metadata": {
    "id": "Gox6uyF2idwZ",
    "outputId": "dcfbb835-1939-4551-9e78-a5fb0a54ee55"
   },
   "outputs": [
    {
     "name": "stdout",
     "output_type": "stream",
     "text": [
      "Тесты пройдены!\n"
     ]
    }
   ],
   "source": [
    "assert len(train_dataset) == 14986, \"Неправильная длина train_dataset\"\n",
    "assert len(valid_dataset) == 3465, \"Неправильная длина valid_dataset\"\n",
    "assert len(test_dataset) == 3683, \"Неправильная длина test_dataset\"\n",
    "\n",
    "assert torch.equal(train_dataset[0][0], torch.tensor([2,1,3,4,5,6,7,8,9])), \"Неправильно сформированный train_dataset\"\n",
    "assert torch.equal(train_dataset[0][1], torch.tensor([3,0,2,0,0,0,2,0,0])), \"Неправильно сформированный train_dataset\"\n",
    "\n",
    "assert torch.equal(valid_dataset[0][0], torch.tensor([1737,571,1777,197,687,145,349,111,1819,1558,9])), \"Неправильно сформированный valid_dataset\"\n",
    "assert torch.equal(valid_dataset[0][1], torch.tensor([0,0,3,0,0,0,0,0,0,0,0])), \"Неправильно сформированный valid_dataset\"\n",
    "\n",
    "assert torch.equal(test_dataset[0][0], torch.tensor([1516,571,1434,1729,4893,2014,67,310,215,3157,3139,9])), \"Неправильно сформированный test_dataset\"\n",
    "assert torch.equal(test_dataset[0][1], torch.tensor([0,0,1,0,0,0,0,4,0,0,0,0])), \"Неправильно сформированный test_dataset\"\n",
    "\n",
    "print(\"Тесты пройдены!\")"
   ]
  },
  {
   "cell_type": "markdown",
   "metadata": {
    "id": "mWjJuAk7QELp"
   },
   "source": [
    "Для того, чтобы дополнять последовательности паддингом, будем использовать параметр `collate_fn` класса `DataLoader`.\n",
    "\n",
    "Принимая последовательность пар тензоров для предложений и тегов, необходимо дополнить все последовательности до последовательности максимальной длины в батче.\n",
    "\n",
    "Используйте для дополнения спецтокен `<PAD>` для последовательностей слов / токенов и -1 для последовательностей тегов.\n",
    "\n",
    "**hint**: удобно использовать метод **torch.nn.utils.rnn**. Обратите особое внимание на параметр *batch_first*"
   ]
  },
  {
   "cell_type": "markdown",
   "metadata": {
    "id": "VZiJVM5qQELp"
   },
   "source": [
    "`Collator` можно реализовать двумя способами:\n",
    "- класс с методом `__call__`\n",
    "- функцию\n",
    "\n",
    "Мы пойдем первым путем.\n",
    "\n",
    "Инициализировать экземпляр класса `Collator` (метод `__init__`) с помощью двух параметров:\n",
    "- id `<PAD>` спецтокена для последовательностей слов / токенов\n",
    "- id `<PAD>` спецтокена для последовательностей тегов (значение -1)\n",
    "\n",
    "Метод `__call__` на вход принимает батч, а именно список кортежей того, что нам возвращается из датасета. В нашем случае это список кортежей двух int64 тензоров - `List[Tuple[torch.LongTensor, torch.LongTensor]]`.\n",
    "\n",
    "На выходе мы хотим получить два тензора:\n",
    "- западденные индексы слов / токенов\n",
    "- западденные индексы тегов\n",
    "    \n",
    "P.S. `<PAD>` значение нужно для того, чтобы при подсчете лосса легко отличать западдированные токены от других. Можно использовать параметр *ignore_index* при инициализации лосса.\n",
    "\n",
    "**Задание. Реализуйте класс коллатора NERCollator.** **<font color='red'>(1 балл)</font>**\n",
    "\n",
    "<details>\n",
    "<summary> Пояснение </summary>\n",
    "\n",
    "*Чтобы ускорить взаимодействие с нейронными сетями, им на вход подаются не одна пара (объект, ответ), а несколько. Они объединяются в одну связку, которую называют батч. В нашем случае объекты -- это последовательности слов, которые имеют разную длину. Мы не можем в одном pytorch.tensor (или numpy.array) хранить последовательности разных длин, поэтому требуется их привести к одной (например, к длине максимальной последовательности), чем коллатор и занимается.*\n",
    "\n",
    "</details>"
   ]
  },
  {
   "cell_type": "code",
   "execution_count": 26,
   "metadata": {
    "id": "LNHNwoLnQELp"
   },
   "outputs": [],
   "source": [
    "class NERCollator:\n",
    "    \"\"\"\n",
    "    Collator that handles variable-size sentences.\n",
    "    \"\"\"\n",
    "\n",
    "    def __init__(\n",
    "        self,\n",
    "        token_padding_value: int,\n",
    "        label_padding_value: int,\n",
    "    ):\n",
    "        self.token_padding_value = token_padding_value\n",
    "        self.label_padding_value = label_padding_value\n",
    "\n",
    "    def __call__(\n",
    "        self,\n",
    "        batch: List[Tuple[torch.LongTensor, torch.LongTensor]],\n",
    "    ) -> Tuple[torch.LongTensor, torch.LongTensor]:\n",
    "        \"\"\"\n",
    "        The method appends <PAD> token id to tensor with\n",
    "        token ids and -1 to tensor with labels.\n",
    "        The function torch.nn.utils.rnn.pad_sequence is useful for padding. Link:\n",
    "        https://pytorch.org/docs/stable/generated/torch.nn.utils.rnn.pad_sequence.html\n",
    "\n",
    "        Args:\n",
    "            batch: The list of tuples. Each tuple conists of the tensor with token ids and\n",
    "                the tensor with label ids.\n",
    "\n",
    "        Returns:\n",
    "            (tokens, labels): a pair of tensors with sizes: (batch_size, sentence_len).\n",
    "\n",
    "        \"\"\"\n",
    "        tokens, labels = zip(*batch)\n",
    "\n",
    "        # ### START CODE HERE ###\n",
    "        tokens = torch.nn.utils.rnn.pad_sequence(tokens, batch_first=True, padding_value=self.token_padding_value)\n",
    "        labels = torch.nn.utils.rnn.pad_sequence(labels, batch_first=True, padding_value=self.label_padding_value)\n",
    "        # ### END CODE HERE ###\n",
    "\n",
    "        return tokens, labels"
   ]
  },
  {
   "cell_type": "code",
   "execution_count": 27,
   "metadata": {
    "id": "nZUMwVQTQELq"
   },
   "outputs": [],
   "source": [
    "collator = NERCollator(\n",
    "    token_padding_value=token2idx[\"<PAD>\"],\n",
    "    label_padding_value=-1,\n",
    ")"
   ]
  },
  {
   "cell_type": "markdown",
   "metadata": {
    "id": "Jsgfij8WQELq"
   },
   "source": [
    "Теперь всё готово, чтобы задать `DataLoader`'ы:"
   ]
  },
  {
   "cell_type": "code",
   "execution_count": 28,
   "metadata": {
    "id": "gFljkiBOQELr"
   },
   "outputs": [],
   "source": [
    "train_dataloader = torch.utils.data.DataLoader(\n",
    "    train_dataset,\n",
    "    batch_size=2,\n",
    "    shuffle=True,\n",
    "    collate_fn=collator,\n",
    ")\n",
    "valid_dataloader = torch.utils.data.DataLoader(\n",
    "    valid_dataset,\n",
    "    batch_size=1,  # для корректных замеров метрик оставить batch_size=1\n",
    "    shuffle=False, # для корректных замеров метрик оставить shuffle=False\n",
    "    collate_fn=collator,\n",
    ")\n",
    "test_dataloader = torch.utils.data.DataLoader(\n",
    "    test_dataset,\n",
    "    batch_size=1,  # для корректных замеров метрик оставить batch_size=1\n",
    "    shuffle=False, # для корректных замеров метрик оставить shuffle=False\n",
    "    collate_fn=collator,\n",
    ")"
   ]
  },
  {
   "cell_type": "markdown",
   "metadata": {
    "id": "i34wGJ4uQELr"
   },
   "source": [
    "Посмотрим на то, что мы получили:"
   ]
  },
  {
   "cell_type": "code",
   "execution_count": 29,
   "metadata": {
    "id": "QLlr_DztQELr"
   },
   "outputs": [],
   "source": [
    "tokens, labels = next(iter(train_dataloader))\n",
    "\n",
    "tokens = tokens.to(device)\n",
    "labels = labels.to(device)"
   ]
  },
  {
   "cell_type": "code",
   "execution_count": 30,
   "metadata": {
    "id": "zQvYRqEFtmpz",
    "outputId": "4d783c90-0e6b-4e4b-c5dd-2b7f49f2a576"
   },
   "outputs": [
    {
     "data": {
      "text/plain": [
       "tensor([[7796, 1162, 2553, 7237, 1342,    0,    0,    0,    0,    0],\n",
       "        [ 125, 1167,    1,   67, 1349,  489, 1215, 1364, 1365, 1366]],\n",
       "       device='cuda:0')"
      ]
     },
     "execution_count": 30,
     "metadata": {},
     "output_type": "execute_result"
    }
   ],
   "source": [
    "tokens"
   ]
  },
  {
   "cell_type": "code",
   "execution_count": 31,
   "metadata": {
    "id": "w--fhADKQELs",
    "outputId": "8d6579dc-501f-4b23-a1cf-962c6c83b25a"
   },
   "outputs": [
    {
     "data": {
      "text/plain": [
       "tensor([[ 3,  0,  3,  7,  0, -1, -1, -1, -1, -1],\n",
       "        [ 0,  4,  8,  0,  1,  0,  0,  0,  0,  0]], device='cuda:0')"
      ]
     },
     "execution_count": 31,
     "metadata": {},
     "output_type": "execute_result"
    }
   ],
   "source": [
    "labels"
   ]
  },
  {
   "cell_type": "code",
   "execution_count": 32,
   "metadata": {
    "id": "yFeX0AYKlhGk",
    "outputId": "427d223d-2e72-4771-e0c8-f01e92cb4056"
   },
   "outputs": [
    {
     "name": "stdout",
     "output_type": "stream",
     "text": [
      "Тесты пройдены!\n"
     ]
    }
   ],
   "source": [
    "train_tokens, train_labels = next(iter(\n",
    "    torch.utils.data.DataLoader(\n",
    "        train_dataset,\n",
    "        batch_size=2,\n",
    "        shuffle=False,\n",
    "        collate_fn=collator,\n",
    "    )\n",
    "))\n",
    "assert torch.equal(train_tokens, torch.tensor([[ 2,  1,  3,  4,  5,  6,  7,  8,  9], [10, 11,  0,  0,  0,  0,  0,  0,  0]])), \"Похоже на ошибку в коллаторе\"\n",
    "assert torch.equal(train_labels, torch.tensor([[ 3,  0,  2,  0,  0,  0,  2,  0,  0], [ 4,  8, -1, -1, -1, -1, -1, -1, -1]])), \"Похоже на ошибку в коллаторе\"\n",
    "\n",
    "valid_tokens, valid_labels = next(iter(\n",
    "    torch.utils.data.DataLoader(\n",
    "        valid_dataset,\n",
    "        batch_size=2,\n",
    "        shuffle=False,\n",
    "        collate_fn=collator,\n",
    "    )\n",
    "))\n",
    "assert torch.equal(valid_tokens, torch.tensor([[ 1737,   571,  1777,   197,   687,   145,   349,   111,  1819,  1558, 9], [  248, 10679,     0,     0,     0,     0,     0,     0,     0,     0,    0]])), \"Похоже на ошибку в коллаторе\"\n",
    "assert torch.equal(valid_labels, torch.tensor([[ 0,  0,  3,  0,  0,  0,  0,  0,  0,  0,  0], [ 1,  0, -1, -1, -1, -1, -1, -1, -1, -1, -1]])), \"Похоже на ошибку в коллаторе\"\n",
    "\n",
    "test_tokens, test_labels = next(iter(\n",
    "    torch.utils.data.DataLoader(\n",
    "        test_dataset,\n",
    "        batch_size=2,\n",
    "        shuffle=False,\n",
    "        collate_fn=collator,\n",
    "    )\n",
    "))\n",
    "assert torch.equal(test_tokens, torch.tensor([[1516,  571, 1434, 1729, 4893, 2014,   67,  310,  215, 3157, 3139,    9], [   1,    1,    0,    0,    0,    0,    0,    0,    0,    0,    0,    0]])), \"Похоже на ошибку в коллаторе\"\n",
    "assert torch.equal(test_labels, torch.tensor([[ 0,  0,  1,  0,  0,  0,  0,  4,  0,  0,  0,  0], [ 4,  8, -1, -1, -1, -1, -1, -1, -1, -1, -1, -1]])), \"Похоже на ошибку в коллаторе\"\n",
    "\n",
    "print(\"Тесты пройдены!\")"
   ]
  },
  {
   "cell_type": "markdown",
   "metadata": {
    "id": "1Ul5gLriQELs"
   },
   "source": [
    "## Часть 2. BiLSTM-теггер (6 баллов)\n",
    "\n",
    "Определите архитектуру сети, используя библиотеку PyTorch.\n",
    "\n",
    "Ваша архитектура в этом пункте должна соответствовать стандартному теггеру:\n",
    "* Embedding слой на входе\n",
    "* LSTM (однонаправленный или двунаправленный) слой для обработки последовательности\n",
    "* Dropout (заданный отдельно или встроенный в LSTM) для уменьшения переобучения\n",
    "* Linear слой на выходе\n",
    "\n",
    "Для обучения сети используйте поэлементную кросс-энтропийную функцию потерь.\n",
    "\n",
    "**Обратите внимание**, что `<PAD>` токены не должны учавствовать в подсчёте функции потерь. В качестве оптимизатора рекомендуется использовать Adam. Для получения значений предсказаний по выходам модели используйте функцию `argmax`.\n",
    "\n",
    "**Задание. Реализуйте класс модели BiLSTM.** **<font color='red'>(2 балл)</font>**\n",
    "\n",
    "<details>\n",
    "<summary> Подсказка №1 </summary>\n",
    "\n",
    "*Помните, что следуется явно указывать параметр `batch_first=True`.*\n",
    "\n",
    "</details>\n",
    "\n",
    "<details>\n",
    "<summary> Подсказка №2 </summary>\n",
    "\n",
    "*Число входных признаков `in_features` в линейном слое зависим от типа LSTM: однонаправленная или двунаправленая. В первом случае выходом i-го блока является скрытое состояние $h_i$, которое имеет размер `hidden_size`, и соответственно, `in_features=hidden_size`. А в случае двунаправленной сети вход представим в виде конкатенации скрытых состояний из разных уровней сети: $[h_i^1, h_i^2]$, здесь `in_features=2 * hidden_size`.*\n",
    "\n",
    "</details>\n",
    "\n",
    "<details>\n",
    "<summary> Рекомендация </summary>\n",
    "\n",
    "*Обратите внимание на метод `BiLSTM.forward`, реализовывать самостоятельно его не нужно. В нем используется функция `pack_padded_sequence` и обратная ей `pad_packed_sequence`. Это удобный инструмент для фильтрации входных последовательностей от токенов отступа.*\n",
    "\n",
    "</details>"
   ]
  },
  {
   "cell_type": "code",
   "execution_count": 33,
   "metadata": {
    "id": "uMiLQljZQELt"
   },
   "outputs": [],
   "source": [
    "from torch.nn import Embedding, LSTM, Linear\n",
    "\n",
    "\n",
    "class BiLSTM(torch.nn.Module):\n",
    "    \"\"\"\n",
    "    Bidirectional LSTM architecture.\n",
    "    \"\"\"\n",
    "\n",
    "    def __init__(\n",
    "        self,\n",
    "        num_embeddings: int,\n",
    "        embedding_dim: int,\n",
    "        hidden_size: int,\n",
    "        num_layers: int,\n",
    "        dropout: float,\n",
    "        bidirectional: bool,\n",
    "        n_classes: int,\n",
    "        token_padding_value: int,\n",
    "        max_norm: float,\n",
    "    ) -> None:\n",
    "        \"\"\"\n",
    "        BiLSTM class constructor. The method contains a description\n",
    "        of the network layers and their parameters.\n",
    "\n",
    "        Args:\n",
    "            num_embeddings: The number of unique words (tokens) in the\n",
    "                dictionary, or the size of the dictionary (int)\n",
    "            embedding_dim:  Embedding word size (size)\n",
    "            hidden_size: The size of the hidden state (h_n) in the LSTM network (int)\n",
    "            num_layers: The total number of blocks in an LSTM network (int)\n",
    "            dropout: dropout parameter in LSTM layers (float)\n",
    "            bidirectional: a parameter that controls whether the LSTM is\n",
    "                unidirectional (one direction) or bidirectional (bool)\n",
    "            n_classes: the number of classes in a problem being solved (int)\n",
    "\n",
    "        Returns:\n",
    "            None\n",
    "\n",
    "        Tips:\n",
    "            - do not forget to specify batch_first=True\n",
    "            - control the size of the in_features in linear\n",
    "                layer depending on the value of 'bidirectional'\n",
    "        \"\"\"\n",
    "        super().__init__()\n",
    "\n",
    "        self.token_padding_value = token_padding_value\n",
    "        self.embedding = Embedding(num_embeddings, embedding_dim) # Embedding layer\n",
    "        self.rnn = LSTM(input_size=embedding_dim,\n",
    "                        hidden_size=hidden_size,\n",
    "                        num_layers=num_layers,\n",
    "                        batch_first=True,\n",
    "                        dropout=dropout,\n",
    "                        bidirectional=bidirectional) # LSTM layer\n",
    "        self.head = Linear(hidden_size * (int(bidirectional) + 1), n_classes) # Linear layer\n",
    "\n",
    "\n",
    "    def forward(self, tokens: torch.LongTensor) -> torch.Tensor:\n",
    "        \"\"\"\n",
    "        Applying neural network layers to input 'tokens'.\n",
    "\n",
    "        Args:\n",
    "            tokens: the input tensor with tokens ids (batch_size, sequence_len)\n",
    "\n",
    "        Returns:\n",
    "            logits: the scores issued by the model (batch_size, num_classes, sequence_len)\n",
    "        \"\"\"\n",
    "        embed = self.embedding(tokens)\n",
    "\n",
    "        # Используем специальную функцию pack_padded_sequence для того, чтобы получить\n",
    "        # структуру PackedSequence, которая не учитывать паддинг при проходе rnn.\n",
    "        # lengths -- длины исходных исходных последовательностей в батче,\n",
    "        # без учёта сдвига\n",
    "        lengths = (tokens != self.token_padding_value).sum(dim=1).detach().cpu()\n",
    "        packed_embed = torch.nn.utils.rnn.pack_padded_sequence(\n",
    "            input=embed,\n",
    "            lengths=lengths,\n",
    "            batch_first=True,\n",
    "            enforce_sorted=False,\n",
    "        )\n",
    "\n",
    "        # Используем специальную функцию pad_packed_sequence для того, чтобы получить\n",
    "        # тензор из PackedSequence. Операция является обратной к pack_padded_sequence\n",
    "        packed_rnn_output, _ = self.rnn(packed_embed)\n",
    "        rnn_output, _ = torch.nn.utils.rnn.pad_packed_sequence(\n",
    "            sequence=packed_rnn_output,\n",
    "            batch_first=True\n",
    "        )\n",
    "\n",
    "        logits = self.head(rnn_output)\n",
    "        logits = logits.transpose(1, 2)\n",
    "        return logits"
   ]
  },
  {
   "cell_type": "code",
   "execution_count": 34,
   "metadata": {
    "id": "zps8HL2VQELu"
   },
   "outputs": [],
   "source": [
    "model = BiLSTM(\n",
    "    num_embeddings=len(token2idx),\n",
    "    embedding_dim=300,\n",
    "    hidden_size=256,\n",
    "    num_layers=1,\n",
    "    dropout=0.0,\n",
    "    bidirectional=True,\n",
    "    n_classes=len(label2idx),\n",
    "    token_padding_value=token2idx[\"<PAD>\"],\n",
    "    max_norm=None\n",
    ").to(device)"
   ]
  },
  {
   "cell_type": "code",
   "execution_count": 35,
   "metadata": {
    "id": "nmg2_C_oQELu",
    "outputId": "4976d748-7011-437b-aaff-5207c3b3f318"
   },
   "outputs": [
    {
     "data": {
      "text/plain": [
       "BiLSTM(\n",
       "  (embedding): Embedding(10952, 300)\n",
       "  (rnn): LSTM(300, 256, batch_first=True, bidirectional=True)\n",
       "  (head): Linear(in_features=512, out_features=9, bias=True)\n",
       ")"
      ]
     },
     "execution_count": 35,
     "metadata": {},
     "output_type": "execute_result"
    }
   ],
   "source": [
    "model"
   ]
  },
  {
   "cell_type": "code",
   "execution_count": 36,
   "metadata": {
    "id": "sDvWB5J2QELv"
   },
   "outputs": [],
   "source": [
    "optimizer = torch.optim.Adam(model.parameters(), lr=1e-4)\n",
    "criterion = torch.nn.CrossEntropyLoss(ignore_index=-1)"
   ]
  },
  {
   "cell_type": "code",
   "execution_count": 37,
   "metadata": {
    "id": "Jn5Pu1UKQELv"
   },
   "outputs": [],
   "source": [
    "outputs = model(tokens)"
   ]
  },
  {
   "cell_type": "code",
   "execution_count": 38,
   "metadata": {
    "id": "n02Bsh8eQELw",
    "outputId": "06ec4cfe-5658-4a24-fb0e-756dfbb4a80e"
   },
   "outputs": [
    {
     "name": "stdout",
     "output_type": "stream",
     "text": [
      "Тесты пройдены!\n"
     ]
    }
   ],
   "source": [
    "assert outputs.shape == torch.Size([2, 9, 10])\n",
    "assert 2 < criterion(outputs, labels) < 3\n",
    "\n",
    "print(\"Тесты пройдены!\")"
   ]
  },
  {
   "cell_type": "markdown",
   "metadata": {
    "id": "kjhkK9QFQELu"
   },
   "source": [
    "### Эксперименты\n",
    "\n",
    "Проведите эксперименты на данных. Настраивайте параметры по валидационной выборке, не используя тестовую. Ваше цель — настроить сеть так, чтобы качество модели по F1-macro мере на валидационной и тестовой выборках было не меньше **0.76**.\n",
    "\n",
    "Сделайте выводы о качестве модели, переобучении, чувствительности архитектуры к выбору гиперпараметров. Оформите результаты экспериментов в виде мини-отчета (в этом же ipython notebook)."
   ]
  },
  {
   "cell_type": "code",
   "execution_count": 38,
   "metadata": {
    "id": "f4hdrFZ9iRPi",
    "outputId": "e568e3a2-be63-477c-9f29-a1f3b2e49030"
   },
   "outputs": [
    {
     "name": "stderr",
     "output_type": "stream",
     "text": [
      "2024-11-29 22:59:29.721659: E external/local_xla/xla/stream_executor/cuda/cuda_fft.cc:477] Unable to register cuFFT factory: Attempting to register factory for plugin cuFFT when one has already been registered\n",
      "WARNING: All log messages before absl::InitializeLog() is called are written to STDERR\n",
      "E0000 00:00:1732921169.739053 3525787 cuda_dnn.cc:8310] Unable to register cuDNN factory: Attempting to register factory for plugin cuDNN when one has already been registered\n",
      "E0000 00:00:1732921169.744470 3525787 cuda_blas.cc:1418] Unable to register cuBLAS factory: Attempting to register factory for plugin cuBLAS when one has already been registered\n",
      "2024-11-29 22:59:29.761837: I tensorflow/core/platform/cpu_feature_guard.cc:210] This TensorFlow binary is optimized to use available CPU instructions in performance-critical operations.\n",
      "To enable the following instructions: AVX2 FMA, in other operations, rebuild TensorFlow with the appropriate compiler flags.\n"
     ]
    }
   ],
   "source": [
    "# Создадим SummaryWriter для эксперимента с BiLSTMModel\n",
    "# для отслеживания процесса обучения нейронной сети\n",
    "\n",
    "from torch.utils.tensorboard import SummaryWriter\n",
    "\n",
    "writer = SummaryWriter(log_dir=f\"logs/BiLSTMModel\")"
   ]
  },
  {
   "cell_type": "markdown",
   "metadata": {
    "id": "ruMTBSkQQELx"
   },
   "source": [
    "**Задание. Реализуйте функцию подсчета метрик compute_metrics.** **<font color='red'>(1 балл)</font>**\n",
    "\n",
    "<details>\n",
    "<summary> Подсказка №1 </summary>\n",
    "\n",
    "*Модель выдает логиты, или скоры, для каждого токена по каждому классу. Для подсчета метрик нужно, подобно максимизации вероятности, каждому токену входной последовательности определять класс с максимальный скором. Пример: токен `X` получил скоры (выход модели) для четырех классов `[0.5, 10.2, -13,9, 5,5]` соответственно, следовательно, нам необходимо определять для токена `X` класс № 1 (нумерация с нуля, `score=10.2`) как наиболее \"вероятный\".*\n",
    "\n",
    "</details>\n",
    "\n",
    "<details>\n",
    "<summary> Подсказка №2 </summary>\n",
    "\n",
    "*Входные тензоры необходимо перевести на CPU (если они на GPU), конвертировать в numpy-массив и для простоты вытянуть в вектор с помощью функции `flatten`.*\n",
    "\n",
    "</details>\n",
    "\n",
    "<details>\n",
    "<summary> Подсказка №3 </summary>\n",
    "\n",
    "*Не забудьте отфильтровать `<PAD>` токен.*\n",
    "\n",
    "</details>"
   ]
  },
  {
   "cell_type": "code",
   "execution_count": 39,
   "metadata": {
    "id": "xkpo3JgWQELx"
   },
   "outputs": [],
   "source": [
    "from sklearn.metrics import accuracy_score, precision_score, recall_score, f1_score\n",
    "\n",
    "\n",
    "def compute_metrics(\n",
    "    outputs: torch.Tensor,\n",
    "    labels: torch.LongTensor,\n",
    ") -> Dict[str, float]:\n",
    "    \"\"\"\n",
    "    Compute NER metrics.\n",
    "\n",
    "    Args:\n",
    "        outputs: the model outputs (batch_size, num_classes, sequence_len)\n",
    "        labels: the correct classes (batch_size, sequence_len)\n",
    "\n",
    "    Returns:\n",
    "        metrics: mapping metric names to their corresponding values\n",
    "    \"\"\"\n",
    "\n",
    "    metrics = {}\n",
    "    y_true = labels.detach().cpu().numpy()\n",
    "    y_pred = torch.argmax(outputs.detach(), dim=1).cpu().numpy()\n",
    "\n",
    "    # ### START CODE HERE ###\n",
    "    batch_size, sequence_len = y_true.shape\n",
    "    y_pred = y_pred[y_true != -1]\n",
    "    y_true = y_true[y_true != -1]\n",
    "\n",
    "    # ### END CODE HERE ###\n",
    "\n",
    "    metrics['accuracy'] = accuracy_score(\n",
    "        y_true=y_true,\n",
    "        y_pred=y_pred,\n",
    "    )\n",
    "\n",
    "    for metric_func in [precision_score, recall_score, f1_score]:\n",
    "        metric_name = metric_func.__name__.split('_')[0]\n",
    "        for average_type in [\"micro\", \"macro\", \"weighted\"]:\n",
    "            metrics[metric_name + '_' + average_type] = metric_func(\n",
    "                y_true=y_true,\n",
    "                y_pred=y_pred,\n",
    "                average=average_type,\n",
    "                zero_division=0,\n",
    "            )\n",
    "\n",
    "    return metrics"
   ]
  },
  {
   "cell_type": "code",
   "execution_count": 40,
   "metadata": {
    "id": "1mYqYD-LNiNh",
    "outputId": "089f3ab3-afe4-4ba2-b67d-4cde3ca1ce5c"
   },
   "outputs": [
    {
     "data": {
      "text/plain": [
       "{'accuracy': 0.06666666666666667,\n",
       " 'precision_micro': 0.06666666666666667,\n",
       " 'precision_macro': 0.0625,\n",
       " 'precision_weighted': 0.3,\n",
       " 'recall_micro': 0.06666666666666667,\n",
       " 'recall_macro': 0.013888888888888888,\n",
       " 'recall_weighted': 0.06666666666666667,\n",
       " 'f1_micro': 0.06666666666666667,\n",
       " 'f1_macro': 0.022727272727272728,\n",
       " 'f1_weighted': 0.1090909090909091}"
      ]
     },
     "execution_count": 40,
     "metadata": {},
     "output_type": "execute_result"
    }
   ],
   "source": [
    "compute_metrics(\n",
    "    outputs=outputs,\n",
    "    labels=labels,\n",
    ")"
   ]
  },
  {
   "cell_type": "markdown",
   "metadata": {
    "id": "Dzj89UygQEL0"
   },
   "source": [
    "**Задание. Реализуйте функции обучения и тестирования train_epoch и evaluate_epoch.** **<font color='red'>(2 балла)</font>**\n",
    "\n",
    "<details>\n",
    "<summary> Подсказка №1 </summary>\n",
    "\n",
    "*Почти всегда шаг обучения модели остается неизменным. Нужно выполнить последовательность действий: обнулить градиент, получить выходы модели, посчитать лосс, посчитать новые градиенты через `.backward()`, сделать шаг оптимизатора.*\n",
    "\n",
    "</details>\n",
    "\n",
    "<details>\n",
    "<summary> Подсказка №2 </summary>\n",
    "\n",
    "*При evaluate-этапе никакие градиенты не вычисляются, потому нет необходимости ни их в обнулении, ни в оптимизации по ним.*\n",
    "\n",
    "</details>\n",
    "\n",
    "<details>\n",
    "<summary> Пояснение </summary>\n",
    "\n",
    "*В PyTorch градиенты аккумулируются, их нужно сбрасывать через `optimizer.zero_grad()` перед каждой новой итерацией, чтобы исключить влияние градиента с предыдущих итераций на шаг текущего.*\n",
    "\n",
    "</details>"
   ]
  },
  {
   "cell_type": "code",
   "execution_count": null,
   "metadata": {
    "id": "sG3vQbc_QEL0"
   },
   "outputs": [],
   "source": [
    "def train_epoch(\n",
    "    model: torch.nn.Module,\n",
    "    dataloader: torch.utils.data.DataLoader,\n",
    "    optimizer: torch.optim.Optimizer,\n",
    "    criterion: torch.nn.Module,\n",
    "    writer: SummaryWriter,\n",
    "    device: torch.device,\n",
    "    epoch: int,\n",
    "    model_type: str,\n",
    ") -> None:\n",
    "    \"\"\"\n",
    "    One training cycle (loop).\n",
    "\n",
    "    Args:\n",
    "        model: BiLSTM model\n",
    "        dataloader: Dataloader with train data\n",
    "        optimizer: an algorithm for model optimization\n",
    "        criterion: the loss function\n",
    "        writer: a tool for logging the learning process\n",
    "        device: the device on which the model will work\n",
    "        epoch: the total number of epochs\n",
    "\n",
    "    Returns:\n",
    "        None\n",
    "    \"\"\"\n",
    "\n",
    "    model.train()\n",
    "\n",
    "    epoch_loss = []\n",
    "    batch_metrics_list = defaultdict(list)\n",
    "\n",
    "    for i, (tokens, labels) in tqdm(\n",
    "        enumerate(dataloader),\n",
    "        total=len(dataloader),\n",
    "        desc=\"loop over train batches\",\n",
    "    ):\n",
    "\n",
    "        tokens, labels = tokens.to(device), labels.to(device)\n",
    "\n",
    "        outputs = None\n",
    "        loss = None\n",
    "\n",
    "        if model_type == 'BiLSTM':\n",
    "            # ### START CODE HERE ###\n",
    "            optimizer.zero_grad()\n",
    "            outputs = model(tokens)\n",
    "            loss = criterion(outputs, labels)\n",
    "            loss.backward()\n",
    "            optimizer.step()\n",
    "\n",
    "            # ### END CODE HERE ###\n",
    "        elif model_type == 'Transformer':\n",
    "            # ### START CODE HERE ###\n",
    "            # Реализуйте этот фрагмент, когда будете проводить эксперименты\n",
    "            # с трансформером в третьей части задания, а пока можете пропусить.\n",
    "            optimizer.zero_grad()\n",
    "            loss = criterion(model(**tokens)[\"logits\"].transpose(1, 2), labels)\n",
    "            loss.backward()\n",
    "            optimizer.step()\n",
    "\n",
    "            # ### END CODE HERE ###\n",
    "        else:\n",
    "            raise ValueError('Use \\'BiLSTM\\' or \\'Transformer\\' model_type.')\n",
    "\n",
    "        epoch_loss.append(loss.item())\n",
    "        writer.add_scalar(\n",
    "            tag=\"batch loss / train\",\n",
    "            scalar_value=loss.item(),\n",
    "            global_step=epoch * len(dataloader) + i,\n",
    "        )\n",
    "\n",
    "        with torch.no_grad():\n",
    "            model.eval()\n",
    "            if model_type == 'BiLSTM':\n",
    "                outputs_inference = model(tokens)\n",
    "            elif model_type == 'Transformer':\n",
    "                outputs_inference = model(**tokens)[\"logits\"].transpose(1, 2)\n",
    "            else:\n",
    "                raise ValueError('Use \\'BiLSTM\\' or \\'Transformer\\' model_type.')\n",
    "            model.train()\n",
    "\n",
    "        batch_metrics = compute_metrics(\n",
    "            outputs=outputs_inference,\n",
    "            labels=labels,\n",
    "        )\n",
    "\n",
    "        for metric_name, metric_value in batch_metrics.items():\n",
    "            batch_metrics_list[metric_name].append(metric_value)\n",
    "            writer.add_scalar(\n",
    "                tag=f\"batch {metric_name} / train\",\n",
    "                scalar_value=metric_value,\n",
    "                global_step=epoch * len(dataloader) + i,\n",
    "            )\n",
    "\n",
    "    avg_loss = np.mean(epoch_loss)\n",
    "    print(f\"Train loss: {avg_loss}\\n\")\n",
    "    writer.add_scalar(\n",
    "        tag=\"loss / train\",\n",
    "        scalar_value=avg_loss,\n",
    "        global_step=epoch,\n",
    "    )\n",
    "\n",
    "    for metric_name, metric_value_list in batch_metrics_list.items():\n",
    "        metric_value = np.mean(metric_value_list)\n",
    "        print(f\"Train {metric_name}: {metric_value}\\n\")\n",
    "        writer.add_scalar(\n",
    "            tag=f\"{metric_name} / train\",\n",
    "            scalar_value=metric_value,\n",
    "            global_step=epoch,\n",
    "        )"
   ]
  },
  {
   "cell_type": "code",
   "execution_count": null,
   "metadata": {
    "id": "p4ztFogtQEL0"
   },
   "outputs": [],
   "source": [
    "def evaluate_epoch(\n",
    "    model: torch.nn.Module,\n",
    "    dataloader: torch.utils.data.DataLoader,\n",
    "    criterion: torch.nn.Module,\n",
    "    writer: SummaryWriter,\n",
    "    device: torch.device,\n",
    "    epoch: int,\n",
    "    model_type: str,\n",
    ") -> None:\n",
    "    \"\"\"\n",
    "    One evaluation cycle (loop).\n",
    "\n",
    "    Args:\n",
    "        model: BiLSTM model\n",
    "        dataloader: Dataloader with data for evaluation\n",
    "        criterion: a loss function\n",
    "        writer: a tool for logging the learning process\n",
    "        device: the device on which the model will work\n",
    "        epoch: the total number of epochs\n",
    "\n",
    "    Returns:\n",
    "        None\n",
    "    \"\"\"\n",
    "\n",
    "    model.eval()\n",
    "\n",
    "    epoch_loss = []\n",
    "    batch_metrics_list = defaultdict(list)\n",
    "\n",
    "    with torch.no_grad():\n",
    "\n",
    "        for i, (tokens, labels) in tqdm(\n",
    "            enumerate(dataloader),\n",
    "            total=len(dataloader),\n",
    "            desc=\"loop over test batches\",\n",
    "        ):\n",
    "\n",
    "            tokens, labels = tokens.to(device), labels.to(device)\n",
    "\n",
    "            if model_type == 'BiLSTM':\n",
    "                # ### START CODE HERE ###\n",
    "                outputs = model(tokens)\n",
    "                loss = criterion(outputs, labels)\n",
    "                # ### END CODE HERE ###\n",
    "            elif model_type == 'Transformer':\n",
    "                # ### START CODE HERE ###\n",
    "                # Реализуйте этот фрагмент, когда будете проводить эксперименты\n",
    "                # с трансформером в третьей части задания, а пока можете пропусить.\n",
    "                outputs = model(**tokens)[\"logits\"].transpose(1, 2)\n",
    "                loss = criterion(outputs, labels)\n",
    "                # ### END CODE HERE ###\n",
    "            else:\n",
    "                raise ValueError('Use \\'BiLSTM\\' or \\'Transformer\\' model_type.')\n",
    "\n",
    "            epoch_loss.append(loss.item())\n",
    "            writer.add_scalar(\n",
    "                tag=\"batch loss / test\",\n",
    "                scalar_value=loss.item(),\n",
    "                global_step=epoch * len(dataloader) + i,\n",
    "            )\n",
    "\n",
    "            batch_metrics = compute_metrics(\n",
    "                outputs=outputs,\n",
    "                labels=labels,\n",
    "            )\n",
    "\n",
    "            for metric_name, metric_value in batch_metrics.items():\n",
    "                batch_metrics_list[metric_name].append(metric_value)\n",
    "                writer.add_scalar(\n",
    "                    tag=f\"batch {metric_name} / test\",\n",
    "                    scalar_value=metric_value,\n",
    "                    global_step=epoch * len(dataloader) + i,\n",
    "                )\n",
    "\n",
    "        avg_loss = np.mean(epoch_loss)\n",
    "        print(f\"Test loss:  {avg_loss}\\n\")\n",
    "        writer.add_scalar(\n",
    "            tag=\"loss / test\",\n",
    "            scalar_value=avg_loss,\n",
    "            global_step=epoch,\n",
    "        )\n",
    "\n",
    "        for metric_name, metric_value_list in batch_metrics_list.items():\n",
    "            metric_value = np.mean(metric_value_list)\n",
    "            print(f\"Test {metric_name}: {metric_value}\\n\")\n",
    "            writer.add_scalar(\n",
    "                tag=f\"{metric_name} / test\",\n",
    "                scalar_value=np.mean(metric_value),\n",
    "                global_step=epoch,\n",
    "            )"
   ]
  },
  {
   "cell_type": "code",
   "execution_count": null,
   "metadata": {
    "id": "z7Z5MTNzQEL1"
   },
   "outputs": [],
   "source": [
    "def train(\n",
    "    n_epochs: int,\n",
    "    model: torch.nn.Module,\n",
    "    train_dataloader: torch.utils.data.DataLoader,\n",
    "    valid_dataloader: torch.utils.data.DataLoader,\n",
    "    optimizer: torch.optim.Optimizer,\n",
    "    criterion: torch.nn.Module,\n",
    "    writer: SummaryWriter,\n",
    "    device: torch.device,\n",
    "    model_type: str,\n",
    ") -> None:\n",
    "    \"\"\"\n",
    "    Training loop.\n",
    "\n",
    "    Args:\n",
    "        n_epochs: the total number of epochs in training\n",
    "        model: BiLSTM model\n",
    "        train_dataloader:  Dataloader with train data\n",
    "        valid_dataloader: Dataloader with data for evaluation\n",
    "        optimizer: an algorithm for model optimization\n",
    "        criterion: a loss function\n",
    "        writer: a tool for logging the learning process\n",
    "        device: the device on which the model will work\n",
    "\n",
    "    Returns:\n",
    "        None\n",
    "    \"\"\"\n",
    "\n",
    "    for epoch in range(n_epochs):\n",
    "\n",
    "        print(f\"Epoch [{epoch+1} / {n_epochs}]\\n\")\n",
    "\n",
    "        train_epoch(\n",
    "            model=model,\n",
    "            dataloader=train_dataloader,\n",
    "            optimizer=optimizer,\n",
    "            criterion=criterion,\n",
    "            writer=writer,\n",
    "            device=device,\n",
    "            epoch=epoch,\n",
    "            model_type=model_type,\n",
    "        )\n",
    "        evaluate_epoch(\n",
    "            model=model,\n",
    "            dataloader=valid_dataloader,\n",
    "            criterion=criterion,\n",
    "            writer=writer,\n",
    "            device=device,\n",
    "            epoch=epoch,\n",
    "            model_type=model_type,\n",
    "        )"
   ]
  },
  {
   "cell_type": "markdown",
   "metadata": {
    "id": "xTxfU0BfQEL1"
   },
   "source": [
    "**Задание. Проведите эксперименты.** **<font color='red'>(2 балла)</font>**\n",
    "\n",
    "Настало время собрать все воедино. В этом блоке предлагается подбирать разные параметры, чтобы достичь качества F1-macro на тестовой и валидационной выборках не менее **0.76**.\n",
    "\n",
    "Будем задействовать ранее определенные `test_dataloader`, `valid_dataloader`, `criretion`. Настраивайте параметры на валидационной выборке так, чтобы получить требуемое качество. Основные из них:\n",
    "- `n_epoch` -- число эпох обучения, рекомендуется выбирать от 5 до 20;\n",
    "- `embedding_dim` -- размерность эмбеддингов, рекомендуем выбирать от 8 до 526;\n",
    "- `hidden_size` -- размерность скрытого состояния, от 8 до 1024;\n",
    "- `batch_size` -- размер обучающий батчей, от 8 до 128;\n",
    "- `dropout` -- параметр регуляризатора dropout, от 0 до 0.7;\n",
    "- `max_norm` -- максимальное органичение на норму эмбеддингов, 1.0 или `None`;\n",
    "- `lr` -- шаг оптимизатора, от 1e-3 до 1e-7.\n",
    "\n",
    "На практике используют еще более широкий набор регулировок, которые в положительную сторону влияют на качество. В текущем задании они не используются, но стоит знать, что:\n",
    "\n",
    "- в процессе обучения используют `gradient clipping`, чтобы контролировать норму градиентов. Величина должна быть согласована с `max_norm`, если такая используется;\n",
    "- изменение `lr` в процессе обучения, например, уменьшение с каждой эпохой. В трансформерах это отдельная проблема, которая при неправильном выборе `lr` приводит к серьезному переобучению. Типичной практикой является использование планировщиков `lr`: https://pytorch.org/docs/stable/optim.html#how-to-adjust-learning-rate;\n",
    "- иногда выбор другого оптимизатора позволяет поднять качество: https://pytorch.org/docs/stable/optim.html#algorithms;\n",
    "- встаивают дополнительные регуляризационные блоки и регуляризационные механизмы, например, L2-норму.\n",
    "\n",
    "<details>\n",
    "<summary> Подсказка №1 </summary>\n",
    "\n",
    "*Следите за лоссом и метриками. Если в течение первых пяти эпохах нет роста качества, то скорее всего что-то не так.*\n",
    "\n",
    "</details>\n",
    "\n",
    "<details>\n",
    "<summary> Подсказка №2 </summary>\n",
    "\n",
    "*Подсказка 2: попробуйте начать с параметров `embedding_dim=300` и `hidden_size=256`, `dropout=0.0`*\n",
    "\n",
    "</details>"
   ]
  },
  {
   "cell_type": "code",
   "execution_count": null,
   "metadata": {
    "id": "3gfxTDI3M3jQ"
   },
   "outputs": [],
   "source": [
    "def fit_predict(model, model_type, param_name=None, param_value=None, batch_size=4):\n",
    "    train_dataloader = torch.utils.data.DataLoader(train_dataset,\n",
    "                                                      batch_size=batch_size,\n",
    "                                                      shuffle=True,\n",
    "                                                      collate_fn=collator)\n",
    "\n",
    "    optimizer = torch.optim.Adam(model.parameters(), lr=1e-4 if model_type=='BiLSTM' else 1e-5)\n",
    "    criterion = torch.nn.CrossEntropyLoss(ignore_index=-1)\n",
    "\n",
    "    train(n_epochs=5, model=model, train_dataloader=train_dataloader, valid_dataloader=valid_dataloader, optimizer=optimizer, criterion=criterion,\n",
    "          writer=writer, device=device, model_type=model_type)\n",
    "\n",
    "    print('---'*20, 'Test results', '---'*20, sep='')\n",
    "\n",
    "    evaluate_epoch(\n",
    "        model=model,\n",
    "        dataloader=test_dataloader,\n",
    "        criterion=criterion,\n",
    "        writer=writer,\n",
    "        device=device,\n",
    "        epoch=1,\n",
    "        model_type=model_type\n",
    "    )"
   ]
  },
  {
   "cell_type": "code",
   "execution_count": null,
   "metadata": {
    "id": "KMRjGWL7c58K"
   },
   "outputs": [],
   "source": [
    "params = {\n",
    "    'num_embeddings': len(token2idx),\n",
    "    'embedding_dim': 300,\n",
    "    'hidden_size': 256,\n",
    "    'num_layers': 1,\n",
    "    'dropout': 0.0,\n",
    "    'bidirectional': True,\n",
    "    'n_classes': len(label2idx),\n",
    "    'token_padding_value': token2idx['<PAD>'],\n",
    "    'max_norm': None\n",
    "}"
   ]
  },
  {
   "cell_type": "code",
   "execution_count": null,
   "metadata": {
    "id": "2Ev5pS1fc58L",
    "outputId": "844a2b09-106b-499b-d4da-ee01109339f4",
    "scrolled": true
   },
   "outputs": [
    {
     "name": "stdout",
     "output_type": "stream",
     "text": [
      "Epoch [1 / 5]\n",
      "\n"
     ]
    },
    {
     "name": "stderr",
     "output_type": "stream",
     "text": [
      "loop over train batches: 100%|██████████████████████████████████████████████████████████████████████████████████████████████████████████████████████████████████████████████████████████████████████████████████████████| 3747/3747 [01:05<00:00, 57.60it/s]\n"
     ]
    },
    {
     "name": "stdout",
     "output_type": "stream",
     "text": [
      "Train loss: 0.5531613765374395\n",
      "\n",
      "Train accuracy: 0.8575914551607134\n",
      "\n",
      "Train precision_micro: 0.8575914551607134\n",
      "\n",
      "Train precision_macro: 0.40144369762379717\n",
      "\n",
      "Train precision_weighted: 0.781842406134977\n",
      "\n",
      "Train recall_micro: 0.8575914551607134\n",
      "\n",
      "Train recall_macro: 0.37763783785213634\n",
      "\n",
      "Train recall_weighted: 0.8575914551607134\n",
      "\n",
      "Train f1_micro: 0.8575914551607134\n",
      "\n",
      "Train f1_macro: 0.37466173314991036\n",
      "\n",
      "Train f1_weighted: 0.8099396292881087\n",
      "\n"
     ]
    },
    {
     "name": "stderr",
     "output_type": "stream",
     "text": [
      "loop over test batches: 100%|███████████████████████████████████████████████████████████████████████████████████████████████████████████████████████████████████████████████████████████████████████████████████████████| 3465/3465 [00:43<00:00, 79.98it/s]\n"
     ]
    },
    {
     "name": "stdout",
     "output_type": "stream",
     "text": [
      "Test loss:  0.4021027204994526\n",
      "\n",
      "Test accuracy: 0.8842323194873712\n",
      "\n",
      "Test precision_micro: 0.8842323194873712\n",
      "\n",
      "Test precision_macro: 0.6816313526600031\n",
      "\n",
      "Test precision_weighted: 0.8356860409909728\n",
      "\n",
      "Test recall_micro: 0.8842323194873712\n",
      "\n",
      "Test recall_macro: 0.6962576438259681\n",
      "\n",
      "Test recall_weighted: 0.8842323194873712\n",
      "\n",
      "Test f1_micro: 0.8842323194873712\n",
      "\n",
      "Test f1_macro: 0.6804805541523019\n",
      "\n",
      "Test f1_weighted: 0.8519074509765772\n",
      "\n",
      "Epoch [2 / 5]\n",
      "\n"
     ]
    },
    {
     "name": "stderr",
     "output_type": "stream",
     "text": [
      "loop over train batches: 100%|██████████████████████████████████████████████████████████████████████████████████████████████████████████████████████████████████████████████████████████████████████████████████████████| 3747/3747 [01:05<00:00, 57.21it/s]\n"
     ]
    },
    {
     "name": "stdout",
     "output_type": "stream",
     "text": [
      "Train loss: 0.2797389128420642\n",
      "\n",
      "Train accuracy: 0.9217421548967838\n",
      "\n",
      "Train precision_micro: 0.9217421548967838\n",
      "\n",
      "Train precision_macro: 0.6863150747166081\n",
      "\n",
      "Train precision_weighted: 0.9025448423769925\n",
      "\n",
      "Train recall_micro: 0.9217421548967838\n",
      "\n",
      "Train recall_macro: 0.6381758863260839\n",
      "\n",
      "Train recall_weighted: 0.9217421548967838\n",
      "\n",
      "Train f1_micro: 0.9217421548967838\n",
      "\n",
      "Train f1_macro: 0.642960902756515\n",
      "\n",
      "Train f1_weighted: 0.9051462534804974\n",
      "\n"
     ]
    },
    {
     "name": "stderr",
     "output_type": "stream",
     "text": [
      "loop over test batches: 100%|███████████████████████████████████████████████████████████████████████████████████████████████████████████████████████████████████████████████████████████████████████████████████████████| 3465/3465 [00:43<00:00, 80.29it/s]\n"
     ]
    },
    {
     "name": "stdout",
     "output_type": "stream",
     "text": [
      "Test loss:  0.28142973682495415\n",
      "\n",
      "Test accuracy: 0.9234899843743043\n",
      "\n",
      "Test precision_micro: 0.9234899843743043\n",
      "\n",
      "Test precision_macro: 0.7834314773738165\n",
      "\n",
      "Test precision_weighted: 0.9082934749456844\n",
      "\n",
      "Test recall_micro: 0.9234899843743043\n",
      "\n",
      "Test recall_macro: 0.7870710354537318\n",
      "\n",
      "Test recall_weighted: 0.9234899843743043\n",
      "\n",
      "Test f1_micro: 0.9234899843743043\n",
      "\n",
      "Test f1_macro: 0.7783126887146337\n",
      "\n",
      "Test f1_weighted: 0.9106887616403497\n",
      "\n",
      "Epoch [3 / 5]\n",
      "\n"
     ]
    },
    {
     "name": "stderr",
     "output_type": "stream",
     "text": [
      "loop over train batches: 100%|██████████████████████████████████████████████████████████████████████████████████████████████████████████████████████████████████████████████████████████████████████████████████████████| 3747/3747 [01:05<00:00, 57.27it/s]\n"
     ]
    },
    {
     "name": "stdout",
     "output_type": "stream",
     "text": [
      "Train loss: 0.18361789514123\n",
      "\n",
      "Train accuracy: 0.9492416276270259\n",
      "\n",
      "Train precision_micro: 0.9492416276270259\n",
      "\n",
      "Train precision_macro: 0.7929108740523316\n",
      "\n",
      "Train precision_weighted: 0.9420642478061002\n",
      "\n",
      "Train recall_micro: 0.9492416276270259\n",
      "\n",
      "Train recall_macro: 0.7563421010443255\n",
      "\n",
      "Train recall_weighted: 0.9492416276270259\n",
      "\n",
      "Train f1_micro: 0.9492416276270259\n",
      "\n",
      "Train f1_macro: 0.7598638184612505\n",
      "\n",
      "Train f1_weighted: 0.9409148241160341\n",
      "\n"
     ]
    },
    {
     "name": "stderr",
     "output_type": "stream",
     "text": [
      "loop over test batches: 100%|███████████████████████████████████████████████████████████████████████████████████████████████████████████████████████████████████████████████████████████████████████████████████████████| 3465/3465 [00:43<00:00, 80.00it/s]\n"
     ]
    },
    {
     "name": "stdout",
     "output_type": "stream",
     "text": [
      "Test loss:  0.22475663834462667\n",
      "\n",
      "Test accuracy: 0.9370533223478356\n",
      "\n",
      "Test precision_micro: 0.9370533223478356\n",
      "\n",
      "Test precision_macro: 0.8171896981061051\n",
      "\n",
      "Test precision_weighted: 0.9229625060754083\n",
      "\n",
      "Test recall_micro: 0.9370533223478356\n",
      "\n",
      "Test recall_macro: 0.8175212354518312\n",
      "\n",
      "Test recall_weighted: 0.9370533223478356\n",
      "\n",
      "Test f1_micro: 0.9370533223478356\n",
      "\n",
      "Test f1_macro: 0.8112243099914741\n",
      "\n",
      "Test f1_weighted: 0.9255800107824947\n",
      "\n",
      "Epoch [4 / 5]\n",
      "\n"
     ]
    },
    {
     "name": "stderr",
     "output_type": "stream",
     "text": [
      "loop over train batches: 100%|██████████████████████████████████████████████████████████████████████████████████████████████████████████████████████████████████████████████████████████████████████████████████████████| 3747/3747 [01:05<00:00, 57.25it/s]\n"
     ]
    },
    {
     "name": "stdout",
     "output_type": "stream",
     "text": [
      "Train loss: 0.12626651764832675\n",
      "\n",
      "Train accuracy: 0.9663459676081038\n",
      "\n",
      "Train precision_micro: 0.9663459676081038\n",
      "\n",
      "Train precision_macro: 0.8563458957358951\n",
      "\n",
      "Train precision_weighted: 0.9636478704810568\n",
      "\n",
      "Train recall_micro: 0.9663459676081038\n",
      "\n",
      "Train recall_macro: 0.8310291273409874\n",
      "\n",
      "Train recall_weighted: 0.9663459676081038\n",
      "\n",
      "Train f1_micro: 0.9663459676081038\n",
      "\n",
      "Train f1_macro: 0.8330390960730097\n",
      "\n",
      "Train f1_weighted: 0.9618534944882461\n",
      "\n"
     ]
    },
    {
     "name": "stderr",
     "output_type": "stream",
     "text": [
      "loop over test batches: 100%|███████████████████████████████████████████████████████████████████████████████████████████████████████████████████████████████████████████████████████████████████████████████████████████| 3465/3465 [00:43<00:00, 80.12it/s]\n"
     ]
    },
    {
     "name": "stdout",
     "output_type": "stream",
     "text": [
      "Test loss:  0.21369060044226001\n",
      "\n",
      "Test accuracy: 0.9414962408450127\n",
      "\n",
      "Test precision_micro: 0.9414962408450127\n",
      "\n",
      "Test precision_macro: 0.8323155204375059\n",
      "\n",
      "Test precision_weighted: 0.9260102188546603\n",
      "\n",
      "Test recall_micro: 0.9414962408450127\n",
      "\n",
      "Test recall_macro: 0.8288514861560262\n",
      "\n",
      "Test recall_weighted: 0.9414962408450127\n",
      "\n",
      "Test f1_micro: 0.9414962408450127\n",
      "\n",
      "Test f1_macro: 0.8248259451925786\n",
      "\n",
      "Test f1_weighted: 0.9294967627884602\n",
      "\n",
      "Epoch [5 / 5]\n",
      "\n"
     ]
    },
    {
     "name": "stderr",
     "output_type": "stream",
     "text": [
      "loop over train batches: 100%|██████████████████████████████████████████████████████████████████████████████████████████████████████████████████████████████████████████████████████████████████████████████████████████| 3747/3747 [01:05<00:00, 57.11it/s]\n"
     ]
    },
    {
     "name": "stdout",
     "output_type": "stream",
     "text": [
      "Train loss: 0.08537544210821446\n",
      "\n",
      "Train accuracy: 0.9792864324780306\n",
      "\n",
      "Train precision_micro: 0.9792864324780306\n",
      "\n",
      "Train precision_macro: 0.9093057224402409\n",
      "\n",
      "Train precision_weighted: 0.9786195616316332\n",
      "\n",
      "Train recall_micro: 0.9792864324780306\n",
      "\n",
      "Train recall_macro: 0.8925704154571261\n",
      "\n",
      "Train recall_weighted: 0.9792864324780306\n",
      "\n",
      "Train f1_micro: 0.9792864324780306\n",
      "\n",
      "Train f1_macro: 0.8936575900473686\n",
      "\n",
      "Train f1_weighted: 0.9769544300414464\n",
      "\n"
     ]
    },
    {
     "name": "stderr",
     "output_type": "stream",
     "text": [
      "loop over test batches: 100%|███████████████████████████████████████████████████████████████████████████████████████████████████████████████████████████████████████████████████████████████████████████████████████████| 3465/3465 [00:43<00:00, 80.17it/s]\n"
     ]
    },
    {
     "name": "stdout",
     "output_type": "stream",
     "text": [
      "Test loss:  0.1868337866678075\n",
      "\n",
      "Test accuracy: 0.9468511221688578\n",
      "\n",
      "Test precision_micro: 0.9468511221688578\n",
      "\n",
      "Test precision_macro: 0.8481697458300999\n",
      "\n",
      "Test precision_weighted: 0.9404944460020226\n",
      "\n",
      "Test recall_micro: 0.9468511221688578\n",
      "\n",
      "Test recall_macro: 0.8440429596827346\n",
      "\n",
      "Test recall_weighted: 0.9468511221688578\n",
      "\n",
      "Test f1_micro: 0.9468511221688578\n",
      "\n",
      "Test f1_macro: 0.8407465953618816\n",
      "\n",
      "Test f1_weighted: 0.9398518618171111\n",
      "\n",
      "------------------------------------------------------------Test results------------------------------------------------------------\n"
     ]
    },
    {
     "name": "stderr",
     "output_type": "stream",
     "text": [
      "loop over test batches: 100%|███████████████████████████████████████████████████████████████████████████████████████████████████████████████████████████████████████████████████████████████████████████████████████████| 3683/3683 [00:45<00:00, 80.45it/s]"
     ]
    },
    {
     "name": "stdout",
     "output_type": "stream",
     "text": [
      "Test loss:  0.2838759282591818\n",
      "\n",
      "Test accuracy: 0.9155843488417332\n",
      "\n",
      "Test precision_micro: 0.9155843488417332\n",
      "\n",
      "Test precision_macro: 0.8030018739635734\n",
      "\n",
      "Test precision_weighted: 0.909646677461383\n",
      "\n",
      "Test recall_micro: 0.9155843488417332\n",
      "\n",
      "Test recall_macro: 0.8030949477122982\n",
      "\n",
      "Test recall_weighted: 0.9155843488417332\n",
      "\n",
      "Test f1_micro: 0.9155843488417332\n",
      "\n",
      "Test f1_macro: 0.797352488135673\n",
      "\n",
      "Test f1_weighted: 0.9078758058732731\n",
      "\n"
     ]
    },
    {
     "name": "stderr",
     "output_type": "stream",
     "text": [
      "\n"
     ]
    }
   ],
   "source": [
    "model = BiLSTM(**params).to(device)\n",
    "fit_predict(model,'BiLSTM')"
   ]
  },
  {
   "cell_type": "code",
   "execution_count": null,
   "metadata": {
    "id": "ylXr6hAyc58L",
    "outputId": "1dac8473-3d3c-450b-c287-a7ac656a0d18",
    "scrolled": true
   },
   "outputs": [
    {
     "name": "stdout",
     "output_type": "stream",
     "text": [
      "Epoch [1 / 5]\n",
      "\n"
     ]
    },
    {
     "name": "stderr",
     "output_type": "stream",
     "text": [
      "loop over train batches: 100%|████████████████████████████████████████████████████████████████████████████████████████████████████████████████████████████████████████████████████████████████████████████████████████████| 118/118 [00:03<00:00, 33.20it/s]\n"
     ]
    },
    {
     "name": "stdout",
     "output_type": "stream",
     "text": [
      "Train loss: 1.2327218740168264\n",
      "\n",
      "Train accuracy: 0.7602093724802623\n",
      "\n",
      "Train precision_micro: 0.7602093724802623\n",
      "\n",
      "Train precision_macro: 0.1659254722757055\n",
      "\n",
      "Train precision_weighted: 0.7242087393737094\n",
      "\n",
      "Train recall_micro: 0.7602093724802623\n",
      "\n",
      "Train recall_macro: 0.12141798137383869\n",
      "\n",
      "Train recall_weighted: 0.7602093724802623\n",
      "\n",
      "Train f1_micro: 0.7602093724802623\n",
      "\n",
      "Train f1_macro: 0.11287942879538687\n",
      "\n",
      "Train f1_weighted: 0.7198671751858672\n",
      "\n"
     ]
    },
    {
     "name": "stderr",
     "output_type": "stream",
     "text": [
      "loop over test batches: 100%|███████████████████████████████████████████████████████████████████████████████████████████████████████████████████████████████████████████████████████████████████████████████████████████| 3465/3465 [00:43<00:00, 79.76it/s]\n"
     ]
    },
    {
     "name": "stdout",
     "output_type": "stream",
     "text": [
      "Test loss:  0.9640690641614782\n",
      "\n",
      "Test accuracy: 0.7813649268417603\n",
      "\n",
      "Test precision_micro: 0.7813649268417603\n",
      "\n",
      "Test precision_macro: 0.43973141665752413\n",
      "\n",
      "Test precision_weighted: 0.6664188763669641\n",
      "\n",
      "Test recall_micro: 0.7813649268417603\n",
      "\n",
      "Test recall_macro: 0.5021663918092489\n",
      "\n",
      "Test recall_weighted: 0.7813649268417603\n",
      "\n",
      "Test f1_micro: 0.7813649268417603\n",
      "\n",
      "Test f1_macro: 0.4628453909346989\n",
      "\n",
      "Test f1_weighted: 0.7111715443574411\n",
      "\n",
      "Epoch [2 / 5]\n",
      "\n"
     ]
    },
    {
     "name": "stderr",
     "output_type": "stream",
     "text": [
      "loop over train batches: 100%|████████████████████████████████████████████████████████████████████████████████████████████████████████████████████████████████████████████████████████████████████████████████████████████| 118/118 [00:03<00:00, 33.66it/s]\n"
     ]
    },
    {
     "name": "stdout",
     "output_type": "stream",
     "text": [
      "Train loss: 0.701078138614105\n",
      "\n",
      "Train accuracy: 0.8336745492934926\n",
      "\n",
      "Train precision_micro: 0.8336745492934926\n",
      "\n",
      "Train precision_macro: 0.25038566078265867\n",
      "\n",
      "Train precision_weighted: 0.7334613764224034\n",
      "\n",
      "Train recall_micro: 0.8336745492934926\n",
      "\n",
      "Train recall_macro: 0.12379081062864931\n",
      "\n",
      "Train recall_weighted: 0.8336745492934926\n",
      "\n",
      "Train f1_micro: 0.8336745492934926\n",
      "\n",
      "Train f1_macro: 0.1225561314741197\n",
      "\n",
      "Train f1_weighted: 0.7617048649269006\n",
      "\n"
     ]
    },
    {
     "name": "stderr",
     "output_type": "stream",
     "text": [
      "loop over test batches: 100%|███████████████████████████████████████████████████████████████████████████████████████████████████████████████████████████████████████████████████████████████████████████████████████████| 3465/3465 [00:43<00:00, 79.96it/s]\n"
     ]
    },
    {
     "name": "stdout",
     "output_type": "stream",
     "text": [
      "Test loss:  0.821877145642498\n",
      "\n",
      "Test accuracy: 0.7881174115704356\n",
      "\n",
      "Test precision_micro: 0.7881174115704356\n",
      "\n",
      "Test precision_macro: 0.44698617721303646\n",
      "\n",
      "Test precision_weighted: 0.6711800864800256\n",
      "\n",
      "Test recall_micro: 0.7881174115704356\n",
      "\n",
      "Test recall_macro: 0.51063320277606\n",
      "\n",
      "Test recall_weighted: 0.7881174115704356\n",
      "\n",
      "Test f1_micro: 0.7881174115704356\n",
      "\n",
      "Test f1_macro: 0.47069240284090247\n",
      "\n",
      "Test f1_weighted: 0.7171571146804964\n",
      "\n",
      "Epoch [3 / 5]\n",
      "\n"
     ]
    },
    {
     "name": "stderr",
     "output_type": "stream",
     "text": [
      "loop over train batches: 100%|████████████████████████████████████████████████████████████████████████████████████████████████████████████████████████████████████████████████████████████████████████████████████████████| 118/118 [00:03<00:00, 33.60it/s]\n"
     ]
    },
    {
     "name": "stdout",
     "output_type": "stream",
     "text": [
      "Train loss: 0.6215452905428611\n",
      "\n",
      "Train accuracy: 0.8381305834748278\n",
      "\n",
      "Train precision_micro: 0.8381305834748278\n",
      "\n",
      "Train precision_macro: 0.39027322220796845\n",
      "\n",
      "Train precision_weighted: 0.7715785368958663\n",
      "\n",
      "Train recall_micro: 0.8381305834748278\n",
      "\n",
      "Train recall_macro: 0.13741492653495818\n",
      "\n",
      "Train recall_weighted: 0.8381305834748278\n",
      "\n",
      "Train f1_micro: 0.8381305834748278\n",
      "\n",
      "Train f1_macro: 0.14740286163275867\n",
      "\n",
      "Train f1_weighted: 0.770448867100612\n",
      "\n"
     ]
    },
    {
     "name": "stderr",
     "output_type": "stream",
     "text": [
      "loop over test batches: 100%|███████████████████████████████████████████████████████████████████████████████████████████████████████████████████████████████████████████████████████████████████████████████████████████| 3465/3465 [00:43<00:00, 79.93it/s]\n"
     ]
    },
    {
     "name": "stdout",
     "output_type": "stream",
     "text": [
      "Test loss:  0.7199137474438457\n",
      "\n",
      "Test accuracy: 0.8065797739552379\n",
      "\n",
      "Test precision_micro: 0.8065797739552379\n",
      "\n",
      "Test precision_macro: 0.4815554795450564\n",
      "\n",
      "Test precision_weighted: 0.6988810662939721\n",
      "\n",
      "Test recall_micro: 0.8065797739552379\n",
      "\n",
      "Test recall_macro: 0.5386984575951104\n",
      "\n",
      "Test recall_weighted: 0.8065797739552379\n",
      "\n",
      "Test f1_micro: 0.8065797739552379\n",
      "\n",
      "Test f1_macro: 0.5021460575958336\n",
      "\n",
      "Test f1_weighted: 0.7412851919864335\n",
      "\n",
      "Epoch [4 / 5]\n",
      "\n"
     ]
    },
    {
     "name": "stderr",
     "output_type": "stream",
     "text": [
      "loop over train batches: 100%|████████████████████████████████████████████████████████████████████████████████████████████████████████████████████████████████████████████████████████████████████████████████████████████| 118/118 [00:03<00:00, 33.57it/s]\n"
     ]
    },
    {
     "name": "stdout",
     "output_type": "stream",
     "text": [
      "Train loss: 0.5499178251977694\n",
      "\n",
      "Train accuracy: 0.8507783684758488\n",
      "\n",
      "Train precision_micro: 0.8507783684758488\n",
      "\n",
      "Train precision_macro: 0.5060545227938418\n",
      "\n",
      "Train precision_weighted: 0.8086664391268893\n",
      "\n",
      "Train recall_micro: 0.8507783684758488\n",
      "\n",
      "Train recall_macro: 0.19210978860969427\n",
      "\n",
      "Train recall_weighted: 0.8507783684758488\n",
      "\n",
      "Train f1_micro: 0.8507783684758488\n",
      "\n",
      "Train f1_macro: 0.2300195321663334\n",
      "\n",
      "Train f1_weighted: 0.7975917060946812\n",
      "\n"
     ]
    },
    {
     "name": "stderr",
     "output_type": "stream",
     "text": [
      "loop over test batches: 100%|███████████████████████████████████████████████████████████████████████████████████████████████████████████████████████████████████████████████████████████████████████████████████████████| 3465/3465 [00:43<00:00, 79.95it/s]\n"
     ]
    },
    {
     "name": "stdout",
     "output_type": "stream",
     "text": [
      "Test loss:  0.634229431667165\n",
      "\n",
      "Test accuracy: 0.8305158435086433\n",
      "\n",
      "Test precision_micro: 0.8305158435086433\n",
      "\n",
      "Test precision_macro: 0.5413494257323164\n",
      "\n",
      "Test precision_weighted: 0.7439616379655496\n",
      "\n",
      "Test recall_micro: 0.8305158435086433\n",
      "\n",
      "Test recall_macro: 0.5838722664159836\n",
      "\n",
      "Test recall_weighted: 0.8305158435086433\n",
      "\n",
      "Test f1_micro: 0.8305158435086433\n",
      "\n",
      "Test f1_macro: 0.5540548095771267\n",
      "\n",
      "Test f1_weighted: 0.7765933988214802\n",
      "\n",
      "Epoch [5 / 5]\n",
      "\n"
     ]
    },
    {
     "name": "stderr",
     "output_type": "stream",
     "text": [
      "loop over train batches: 100%|████████████████████████████████████████████████████████████████████████████████████████████████████████████████████████████████████████████████████████████████████████████████████████████| 118/118 [00:03<00:00, 33.38it/s]\n"
     ]
    },
    {
     "name": "stdout",
     "output_type": "stream",
     "text": [
      "Train loss: 0.4872893036927207\n",
      "\n",
      "Train accuracy: 0.8649713672284935\n",
      "\n",
      "Train precision_micro: 0.8649713672284935\n",
      "\n",
      "Train precision_macro: 0.5811826310236556\n",
      "\n",
      "Train precision_weighted: 0.8321554319139294\n",
      "\n",
      "Train recall_micro: 0.8649713672284935\n",
      "\n",
      "Train recall_macro: 0.25374164857768744\n",
      "\n",
      "Train recall_weighted: 0.8649713672284935\n",
      "\n",
      "Train f1_micro: 0.8649713672284935\n",
      "\n",
      "Train f1_macro: 0.310893221513705\n",
      "\n",
      "Train f1_weighted: 0.8249368594712302\n",
      "\n"
     ]
    },
    {
     "name": "stderr",
     "output_type": "stream",
     "text": [
      "loop over test batches: 100%|███████████████████████████████████████████████████████████████████████████████████████████████████████████████████████████████████████████████████████████████████████████████████████████| 3465/3465 [00:43<00:00, 80.07it/s]\n"
     ]
    },
    {
     "name": "stdout",
     "output_type": "stream",
     "text": [
      "Test loss:  0.5665959615519736\n",
      "\n",
      "Test accuracy: 0.8501673468099513\n",
      "\n",
      "Test precision_micro: 0.8501673468099513\n",
      "\n",
      "Test precision_macro: 0.5934790931102232\n",
      "\n",
      "Test precision_weighted: 0.781877876232131\n",
      "\n",
      "Test recall_micro: 0.8501673468099513\n",
      "\n",
      "Test recall_macro: 0.6233619417505353\n",
      "\n",
      "Test recall_weighted: 0.8501673468099513\n",
      "\n",
      "Test f1_micro: 0.8501673468099513\n",
      "\n",
      "Test f1_macro: 0.6001003362770225\n",
      "\n",
      "Test f1_weighted: 0.806550431127192\n",
      "\n",
      "------------------------------------------------------------Test results------------------------------------------------------------\n"
     ]
    },
    {
     "name": "stderr",
     "output_type": "stream",
     "text": [
      "loop over test batches: 100%|███████████████████████████████████████████████████████████████████████████████████████████████████████████████████████████████████████████████████████████████████████████████████████████| 3683/3683 [00:45<00:00, 80.43it/s]"
     ]
    },
    {
     "name": "stdout",
     "output_type": "stream",
     "text": [
      "Test loss:  0.604839710856553\n",
      "\n",
      "Test accuracy: 0.8315555293999048\n",
      "\n",
      "Test precision_micro: 0.8315555293999048\n",
      "\n",
      "Test precision_macro: 0.5668871445133378\n",
      "\n",
      "Test precision_weighted: 0.7589721979879035\n",
      "\n",
      "Test recall_micro: 0.8315555293999048\n",
      "\n",
      "Test recall_macro: 0.6066052380413034\n",
      "\n",
      "Test recall_weighted: 0.8315555293999048\n",
      "\n",
      "Test f1_micro: 0.8315555293999048\n",
      "\n",
      "Test f1_macro: 0.5779320186015984\n",
      "\n",
      "Test f1_weighted: 0.7849063322862536\n",
      "\n"
     ]
    },
    {
     "name": "stderr",
     "output_type": "stream",
     "text": [
      "\n"
     ]
    }
   ],
   "source": [
    "model = BiLSTM(**params).to(device)\n",
    "fit_predict(model, 'BiLSTM', batch_size=128)"
   ]
  },
  {
   "cell_type": "code",
   "execution_count": null,
   "metadata": {
    "id": "H1e6yozic58L",
    "outputId": "39988a38-5d9e-4ed3-8289-e812b926f1d7",
    "scrolled": true
   },
   "outputs": [
    {
     "name": "stdout",
     "output_type": "stream",
     "text": [
      "Epoch [1 / 5]\n",
      "\n"
     ]
    },
    {
     "name": "stderr",
     "output_type": "stream",
     "text": [
      "loop over train batches: 100%|██████████████████████████████████████████████████████████████████████████████████████████████████████████████████████████████████████████████████████████████████████████████████████████| 3747/3747 [01:07<00:00, 55.55it/s]\n"
     ]
    },
    {
     "name": "stdout",
     "output_type": "stream",
     "text": [
      "Train loss: 0.5745343239463454\n",
      "\n",
      "Train accuracy: 0.8534164129282932\n",
      "\n",
      "Train precision_micro: 0.8534164129282932\n",
      "\n",
      "Train precision_macro: 0.37951394660707155\n",
      "\n",
      "Train precision_weighted: 0.7721894990096109\n",
      "\n",
      "Train recall_micro: 0.8534164129282932\n",
      "\n",
      "Train recall_macro: 0.35926459347515904\n",
      "\n",
      "Train recall_weighted: 0.8534164129282932\n",
      "\n",
      "Train f1_micro: 0.8534164129282932\n",
      "\n",
      "Train f1_macro: 0.35555274622680155\n",
      "\n",
      "Train f1_weighted: 0.803170979099135\n",
      "\n"
     ]
    },
    {
     "name": "stderr",
     "output_type": "stream",
     "text": [
      "loop over test batches: 100%|███████████████████████████████████████████████████████████████████████████████████████████████████████████████████████████████████████████████████████████████████████████████████████████| 3465/3465 [00:44<00:00, 78.68it/s]\n"
     ]
    },
    {
     "name": "stdout",
     "output_type": "stream",
     "text": [
      "Test loss:  0.4462205272541525\n",
      "\n",
      "Test accuracy: 0.8702954185800487\n",
      "\n",
      "Test precision_micro: 0.8702954185800487\n",
      "\n",
      "Test precision_macro: 0.6486057840776847\n",
      "\n",
      "Test precision_weighted: 0.823979764028121\n",
      "\n",
      "Test recall_micro: 0.8702954185800487\n",
      "\n",
      "Test recall_macro: 0.6633232143267174\n",
      "\n",
      "Test recall_weighted: 0.8702954185800487\n",
      "\n",
      "Test f1_micro: 0.8702954185800487\n",
      "\n",
      "Test f1_macro: 0.64760621185684\n",
      "\n",
      "Test f1_weighted: 0.8390111154934909\n",
      "\n",
      "Epoch [2 / 5]\n",
      "\n"
     ]
    },
    {
     "name": "stderr",
     "output_type": "stream",
     "text": [
      "loop over train batches: 100%|██████████████████████████████████████████████████████████████████████████████████████████████████████████████████████████████████████████████████████████████████████████████████████████| 3747/3747 [01:07<00:00, 55.52it/s]\n"
     ]
    },
    {
     "name": "stdout",
     "output_type": "stream",
     "text": [
      "Train loss: 0.3326968664998372\n",
      "\n",
      "Train accuracy: 0.9061723083563384\n",
      "\n",
      "Train precision_micro: 0.9061723083563384\n",
      "\n",
      "Train precision_macro: 0.627987235362467\n",
      "\n",
      "Train precision_weighted: 0.8781046390079993\n",
      "\n",
      "Train recall_micro: 0.9061723083563384\n",
      "\n",
      "Train recall_macro: 0.5747585074474947\n",
      "\n",
      "Train recall_weighted: 0.9061723083563384\n",
      "\n",
      "Train f1_micro: 0.9061723083563384\n",
      "\n",
      "Train f1_macro: 0.5816874773968069\n",
      "\n",
      "Train f1_weighted: 0.8840664942627776\n",
      "\n"
     ]
    },
    {
     "name": "stderr",
     "output_type": "stream",
     "text": [
      "loop over test batches: 100%|███████████████████████████████████████████████████████████████████████████████████████████████████████████████████████████████████████████████████████████████████████████████████████████| 3465/3465 [00:44<00:00, 78.70it/s]\n"
     ]
    },
    {
     "name": "stdout",
     "output_type": "stream",
     "text": [
      "Test loss:  0.3291803304135899\n",
      "\n",
      "Test accuracy: 0.9016065344816947\n",
      "\n",
      "Test precision_micro: 0.9016065344816947\n",
      "\n",
      "Test precision_macro: 0.7245206783927348\n",
      "\n",
      "Test precision_weighted: 0.8723474658760658\n",
      "\n",
      "Test recall_micro: 0.9016065344816947\n",
      "\n",
      "Test recall_macro: 0.726204140850845\n",
      "\n",
      "Test recall_weighted: 0.9016065344816947\n",
      "\n",
      "Test f1_micro: 0.9016065344816947\n",
      "\n",
      "Test f1_macro: 0.7181326958500541\n",
      "\n",
      "Test f1_weighted: 0.8803218148216511\n",
      "\n",
      "Epoch [3 / 5]\n",
      "\n"
     ]
    },
    {
     "name": "stderr",
     "output_type": "stream",
     "text": [
      "loop over train batches: 100%|██████████████████████████████████████████████████████████████████████████████████████████████████████████████████████████████████████████████████████████████████████████████████████████| 3747/3747 [01:07<00:00, 55.59it/s]\n"
     ]
    },
    {
     "name": "stdout",
     "output_type": "stream",
     "text": [
      "Train loss: 0.2422434443032281\n",
      "\n",
      "Train accuracy: 0.931929614058643\n",
      "\n",
      "Train precision_micro: 0.931929614058643\n",
      "\n",
      "Train precision_macro: 0.7274150093322032\n",
      "\n",
      "Train precision_weighted: 0.9181248623442526\n",
      "\n",
      "Train recall_micro: 0.931929614058643\n",
      "\n",
      "Train recall_macro: 0.6821559308768282\n",
      "\n",
      "Train recall_weighted: 0.931929614058643\n",
      "\n",
      "Train f1_micro: 0.931929614058643\n",
      "\n",
      "Train f1_macro: 0.6872312598035768\n",
      "\n",
      "Train f1_weighted: 0.9188590920354399\n",
      "\n"
     ]
    },
    {
     "name": "stderr",
     "output_type": "stream",
     "text": [
      "loop over test batches: 100%|███████████████████████████████████████████████████████████████████████████████████████████████████████████████████████████████████████████████████████████████████████████████████████████| 3465/3465 [00:44<00:00, 78.71it/s]\n"
     ]
    },
    {
     "name": "stdout",
     "output_type": "stream",
     "text": [
      "Test loss:  0.2736504995982805\n",
      "\n",
      "Test accuracy: 0.9192012778061076\n",
      "\n",
      "Test precision_micro: 0.9192012778061076\n",
      "\n",
      "Test precision_macro: 0.7729550464995034\n",
      "\n",
      "Test precision_weighted: 0.8976836580594858\n",
      "\n",
      "Test recall_micro: 0.9192012778061076\n",
      "\n",
      "Test recall_macro: 0.769172654374453\n",
      "\n",
      "Test recall_weighted: 0.9192012778061076\n",
      "\n",
      "Test f1_micro: 0.9192012778061076\n",
      "\n",
      "Test f1_macro: 0.7638168288207153\n",
      "\n",
      "Test f1_weighted: 0.9026730126497893\n",
      "\n",
      "Epoch [4 / 5]\n",
      "\n"
     ]
    },
    {
     "name": "stderr",
     "output_type": "stream",
     "text": [
      "loop over train batches: 100%|██████████████████████████████████████████████████████████████████████████████████████████████████████████████████████████████████████████████████████████████████████████████████████████| 3747/3747 [01:07<00:00, 55.65it/s]\n"
     ]
    },
    {
     "name": "stdout",
     "output_type": "stream",
     "text": [
      "Train loss: 0.17882918011797788\n",
      "\n",
      "Train accuracy: 0.949764285089625\n",
      "\n",
      "Train precision_micro: 0.949764285089625\n",
      "\n",
      "Train precision_macro: 0.795463718462935\n",
      "\n",
      "Train precision_weighted: 0.9437148438657776\n",
      "\n",
      "Train recall_micro: 0.949764285089625\n",
      "\n",
      "Train recall_macro: 0.7576822063386457\n",
      "\n",
      "Train recall_weighted: 0.949764285089625\n",
      "\n",
      "Train f1_micro: 0.949764285089625\n",
      "\n",
      "Train f1_macro: 0.7615660382929258\n",
      "\n",
      "Train f1_weighted: 0.9419520568273837\n",
      "\n"
     ]
    },
    {
     "name": "stderr",
     "output_type": "stream",
     "text": [
      "loop over test batches: 100%|███████████████████████████████████████████████████████████████████████████████████████████████████████████████████████████████████████████████████████████████████████████████████████████| 3465/3465 [00:44<00:00, 78.71it/s]\n"
     ]
    },
    {
     "name": "stdout",
     "output_type": "stream",
     "text": [
      "Test loss:  0.24581690935838524\n",
      "\n",
      "Test accuracy: 0.9284160851527103\n",
      "\n",
      "Test precision_micro: 0.9284160851527103\n",
      "\n",
      "Test precision_macro: 0.8001761300007301\n",
      "\n",
      "Test precision_weighted: 0.9125977933638254\n",
      "\n",
      "Test recall_micro: 0.9284160851527103\n",
      "\n",
      "Test recall_macro: 0.7949540586467333\n",
      "\n",
      "Test recall_weighted: 0.9284160851527103\n",
      "\n",
      "Test f1_micro: 0.9284160851527103\n",
      "\n",
      "Test f1_macro: 0.7914548042439983\n",
      "\n",
      "Test f1_weighted: 0.9157808534094333\n",
      "\n",
      "Epoch [5 / 5]\n",
      "\n"
     ]
    },
    {
     "name": "stderr",
     "output_type": "stream",
     "text": [
      "loop over train batches: 100%|██████████████████████████████████████████████████████████████████████████████████████████████████████████████████████████████████████████████████████████████████████████████████████████| 3747/3747 [01:07<00:00, 55.65it/s]\n"
     ]
    },
    {
     "name": "stdout",
     "output_type": "stream",
     "text": [
      "Train loss: 0.1324394346684407\n",
      "\n",
      "Train accuracy: 0.9645402473647142\n",
      "\n",
      "Train precision_micro: 0.9645402473647142\n",
      "\n",
      "Train precision_macro: 0.851122474903401\n",
      "\n",
      "Train precision_weighted: 0.9615919492673781\n",
      "\n",
      "Train recall_micro: 0.9645402473647142\n",
      "\n",
      "Train recall_macro: 0.8218009922376038\n",
      "\n",
      "Train recall_weighted: 0.9645402473647142\n",
      "\n",
      "Train f1_micro: 0.9645402473647142\n",
      "\n",
      "Train f1_macro: 0.8252638043529821\n",
      "\n",
      "Train f1_weighted: 0.959714518034336\n",
      "\n"
     ]
    },
    {
     "name": "stderr",
     "output_type": "stream",
     "text": [
      "loop over test batches: 100%|███████████████████████████████████████████████████████████████████████████████████████████████████████████████████████████████████████████████████████████████████████████████████████████| 3465/3465 [00:44<00:00, 78.69it/s]\n"
     ]
    },
    {
     "name": "stdout",
     "output_type": "stream",
     "text": [
      "Test loss:  0.2186576403920355\n",
      "\n",
      "Test accuracy: 0.9377930291203503\n",
      "\n",
      "Test precision_micro: 0.9377930291203503\n",
      "\n",
      "Test precision_macro: 0.8214381467497233\n",
      "\n",
      "Test precision_weighted: 0.9277514869118676\n",
      "\n",
      "Test recall_micro: 0.9377930291203503\n",
      "\n",
      "Test recall_macro: 0.8184571374752048\n",
      "\n",
      "Test recall_weighted: 0.9377930291203503\n",
      "\n",
      "Test f1_micro: 0.9377930291203503\n",
      "\n",
      "Test f1_macro: 0.814001323050584\n",
      "\n",
      "Test f1_weighted: 0.9285967767436394\n",
      "\n",
      "------------------------------------------------------------Test results------------------------------------------------------------\n"
     ]
    },
    {
     "name": "stderr",
     "output_type": "stream",
     "text": [
      "loop over test batches: 100%|███████████████████████████████████████████████████████████████████████████████████████████████████████████████████████████████████████████████████████████████████████████████████████████| 3683/3683 [00:46<00:00, 79.19it/s]"
     ]
    },
    {
     "name": "stdout",
     "output_type": "stream",
     "text": [
      "Test loss:  0.3129240471202849\n",
      "\n",
      "Test accuracy: 0.9040159581076387\n",
      "\n",
      "Test precision_micro: 0.9040159581076387\n",
      "\n",
      "Test precision_macro: 0.7744265087482851\n",
      "\n",
      "Test precision_weighted: 0.8914049588450944\n",
      "\n",
      "Test recall_micro: 0.9040159581076387\n",
      "\n",
      "Test recall_macro: 0.7761400722918818\n",
      "\n",
      "Test recall_weighted: 0.9040159581076387\n",
      "\n",
      "Test f1_micro: 0.9040159581076387\n",
      "\n",
      "Test f1_macro: 0.7693802445124714\n",
      "\n",
      "Test f1_weighted: 0.8924732410655571\n",
      "\n"
     ]
    },
    {
     "name": "stderr",
     "output_type": "stream",
     "text": [
      "\n"
     ]
    }
   ],
   "source": [
    "params2 = {\n",
    "    'num_embeddings': len(token2idx),\n",
    "    'embedding_dim': 150,\n",
    "    'hidden_size': 512,\n",
    "    'num_layers': 1,\n",
    "    'dropout': 0.0,\n",
    "    'bidirectional': True,\n",
    "    'n_classes': len(label2idx),\n",
    "    'token_padding_value': token2idx['<PAD>'],\n",
    "    'max_norm': None\n",
    "}\n",
    "\n",
    "model = BiLSTM(**params2).to(device)\n",
    "fit_predict(model, 'BiLSTM')"
   ]
  },
  {
   "cell_type": "markdown",
   "metadata": {
    "id": "wrW7cODysJ4j"
   },
   "source": [
    "Здесь и далее проинициализируем *tensorboard* для логгирования метрики в процессе обучения:"
   ]
  },
  {
   "cell_type": "code",
   "execution_count": null,
   "metadata": {
    "id": "bNIk2Rd5kjRa",
    "outputId": "c1aa28f5-b249-4977-ca05-c0f46fdfc5a3"
   },
   "outputs": [
    {
     "data": {
      "text/html": [
       "\n",
       "      <iframe id=\"tensorboard-frame-1c80317fa3b1799d\" width=\"100%\" height=\"800\" frameborder=\"0\">\n",
       "      </iframe>\n",
       "      <script>\n",
       "        (function() {\n",
       "          const frame = document.getElementById(\"tensorboard-frame-1c80317fa3b1799d\");\n",
       "          const url = new URL(\"/\", window.location);\n",
       "          const port = 6006;\n",
       "          if (port) {\n",
       "            url.port = port;\n",
       "          }\n",
       "          frame.src = url;\n",
       "        })();\n",
       "      </script>\n",
       "    "
      ],
      "text/plain": [
       "<IPython.core.display.HTML object>"
      ]
     },
     "metadata": {},
     "output_type": "display_data"
    }
   ],
   "source": [
    "%load_ext tensorboard\n",
    "%tensorboard --logdir logs"
   ]
  },
  {
   "cell_type": "markdown",
   "metadata": {
    "id": "En2_vpe7jTwG"
   },
   "source": [
    "Проверим качество на тестовой выборке, ожидаем `f1_macro >= 0.76`"
   ]
  },
  {
   "cell_type": "markdown",
   "metadata": {
    "id": "UyQ2ak__c58L"
   },
   "source": [
    "### Выводы\n",
    "Качество модели значительно зависит от размера батча, при его увеличении итоговое качество модели падает. Увеличение размеров сети (например, embedding_dim, hidden_size) повышает способность модели к обобщению, так как она лучше улавливает сложные зависимости в тексте."
   ]
  },
  {
   "cell_type": "markdown",
   "metadata": {
    "id": "H8R6nopyQEL-"
   },
   "source": [
    "## Часть 3. Transformers-теггер (6 баллов)\n",
    "\n",
    "В данной части задания нужно сделать все то же самое, но с использованием модели на базе архитектуры Transformer, а именно предлагается дообучать предобученную модель **BERT**.\n",
    "\n",
    "Для данной модели подразумевается специальная подготовка данных, с чего мы и начнем:"
   ]
  },
  {
   "cell_type": "markdown",
   "metadata": {
    "id": "SrbX5gFDQEL-"
   },
   "source": [
    "Модель **BERT** использует специальный токенизатор WordPiece для разбиения предложений на токены. Готовая предобученная версия такого токенизатора существует в библиотеке **transformers**. Есть два класса: `BertTokenizer` и `BertTokenizerFast`. Использовать можно любой, но второй вариант работает существенно быстрее.\n",
    "\n",
    "Токенизаторы можно обучать с нуля на своем корпусе данных, а можно подгружать уже готовые. Готовые токенизаторы, как правило, соответствуют предобученной конфигурации модели, которая использует словарь из этого токенизатора.\n",
    "\n",
    "Мы будем использовать базовую конфигурацию предобученного **BERT** для модели и токенизатора.\n",
    "\n",
    "P.S. Часто приходится проводить эксперименты с моделями разной архитектуры, например **BERT** и **GPT**, поэтому удобно использовать класс `AutoTokenizer`, который по названию модели сам определит, какой класс нужен для инициализации токенизатора.\n",
    "\n",
    "Существует полезный сервис **HuggingFace**, который собрал в себе большое множество моделей и данных, ссылки на ресурс:\n",
    "- Hugging Face: https://huggingface.co\n",
    "- Hugging Face Models: https://huggingface.co/models\n",
    "- Hugging Face Datasets: https://huggingface.co/datasets"
   ]
  },
  {
   "cell_type": "code",
   "execution_count": null,
   "metadata": {
    "id": "4-UTiI4gQEL-"
   },
   "outputs": [],
   "source": [
    "from transformers import AutoTokenizer"
   ]
  },
  {
   "cell_type": "code",
   "execution_count": null,
   "metadata": {
    "id": "kSbBhvnDQEMA"
   },
   "outputs": [],
   "source": [
    "model_name = \"distilbert-base-cased\""
   ]
  },
  {
   "cell_type": "markdown",
   "metadata": {
    "id": "kxWNX5i6QEMA"
   },
   "source": [
    "Подгружение предобученных моделей и токенизаторов в **huggingface** происходит с помощью конструктора **from_pretrained**.\n",
    "\n",
    "В данном конструкторе можно указать либо путь к предобученному токенизатору, либо название предобученной конфигурации, как в нашем случае: тогда **transformers** сам подгрузит нужные параметры:"
   ]
  },
  {
   "cell_type": "code",
   "execution_count": null,
   "metadata": {
    "id": "3tg_bCeaQEMA"
   },
   "outputs": [],
   "source": [
    "tokenizer = AutoTokenizer.from_pretrained(model_name)"
   ]
  },
  {
   "cell_type": "markdown",
   "metadata": {
    "id": "4MIrbmNoQEMA"
   },
   "source": [
    "### Подготовка словарей\n",
    "\n",
    "В сравнении с рекуррентными моделями, нам больше не нужно заниматься сборкой словаря, так как это уже сделано заранее благодаря токенизаторам и алгоритмам, стоящими за ними.\n",
    "\n",
    "Но нам как и прежде потребуется:\n",
    "- {**label**}→{**label_idx**}: соответствие между тегом и уникальным индексом (начинается с 0);\n",
    "\n",
    "Но данное отображение у нас уже реализовано в одной из предыдущих частей задания."
   ]
  },
  {
   "cell_type": "markdown",
   "metadata": {
    "id": "CvYF-4uaQEMB"
   },
   "source": [
    "### Подготовка датасета и загрузчика\n",
    "\n",
    "Мы также хотим обучать модель батчами, поэтому нам как и прежде понадобятся `Dataset`, `Collator` и `DataLoader`.\n",
    "\n",
    "Но мы не можем переиспользовать те, что в предыдущих частях задания, так как обработка данных должна производится немного иначе с использованием токенизатора.\n",
    "\n",
    "Давайте напишем новый кастомный датасет, который на вход (метод `__init__`) будет принимать:\n",
    "- token_seq - список списков слов / токенов\n",
    "- label_seq - список списков тегов\n",
    "\n",
    "и возвращать из метода `__getitem__` два списка:\n",
    "- список текстовых значений (`List[str]`) из индексов токенов в сэмпле\n",
    "- список целочисленных значений (`List[int]`) из индексов соответвующих тегов\n",
    "\n",
    "P.S. В отличие от предыдущего кастомного датасет, здесь мы возвращаем два `List`'а вместо `torch.LongTensor`, так как логику формирования западдированного батча мы перенесем в `Collator` из-за специфики работы токенизатора - он сам возвращает уже западдированный тензор с индексами токенов, а для индексов тегов нам нужно будет сделать это самостоятельно по аналогии с предыдущим датасетом.\n",
    "\n",
    "**Задание. Реализуйте класс датасета TransformersDataset.** **<font color='red'>(1 балл)</font>**"
   ]
  },
  {
   "cell_type": "code",
   "execution_count": null,
   "metadata": {
    "id": "7EoNLDOOQEMB"
   },
   "outputs": [],
   "source": [
    "class TransformersDataset(torch.utils.data.Dataset):\n",
    "    \"\"\"\n",
    "    Transformers Dataset for NER.\n",
    "    \"\"\"\n",
    "\n",
    "    def __init__(\n",
    "        self,\n",
    "        token_seq: List[List[str]],\n",
    "        label_seq: List[List[str]],\n",
    "    ):\n",
    "        \"\"\"\n",
    "        Class constructor.\n",
    "\n",
    "        Args:\n",
    "            token_seq: the list of lists contains token sequences.\n",
    "            label_seq: the list of lists consists of label sequences.\n",
    "\n",
    "        Returns:\n",
    "            None\n",
    "        \"\"\"\n",
    "        self.token_seq = token_seq\n",
    "        self.label_seq = [self.process_labels(labels, label2idx) for labels in label_seq]\n",
    "\n",
    "    def __len__(self):\n",
    "        \"\"\"\n",
    "        Returns length of the dataset.\n",
    "\n",
    "        Args:\n",
    "            None\n",
    "\n",
    "        Returns:\n",
    "            length of the dataset\n",
    "        \"\"\"\n",
    "        return len(self.token_seq)\n",
    "\n",
    "    def __getitem__(\n",
    "        self,\n",
    "        idx: int,\n",
    "    ) -> Tuple[List[str], List[int]]:\n",
    "        \"\"\"\n",
    "        Gets one item for tthe dataset\n",
    "\n",
    "        Args:\n",
    "            idx: the index of the particular element in the dataset\n",
    "\n",
    "        Returns:\n",
    "            (tokens, labels), where `tokens` is sequence of token in the dataset\n",
    "                by index `idx` and `labels` is corresponding labels list\n",
    "        \"\"\"\n",
    "        tokens = None\n",
    "        labels = None\n",
    "\n",
    "        # ### START CODE HERE ###\n",
    "        tokens = self.token_seq[idx]\n",
    "        labels = self.label_seq[idx]\n",
    "        # ### END CODE HERE ###\n",
    "\n",
    "        return tokens, labels\n",
    "\n",
    "    @staticmethod\n",
    "    def process_labels(\n",
    "        labels: List[str],\n",
    "        label2idx: Dict[str, int],\n",
    "    ) -> List[int]:\n",
    "        \"\"\"\n",
    "        Transform list of labels into list of labels' indices.\n",
    "\n",
    "        Args:\n",
    "            labels: the list of strings contains the labels\n",
    "            label2idx: mapping from a label to an index\n",
    "\n",
    "        Returns:\n",
    "            ids: the sequence of indices that correspond to labels\n",
    "        \"\"\"\n",
    "\n",
    "        ids = None\n",
    "\n",
    "        # ### START CODE HERE ###\n",
    "        ids = [label2idx[label] for label in labels]\n",
    "        # ### END CODE HERE ###\n",
    "\n",
    "        return ids"
   ]
  },
  {
   "cell_type": "markdown",
   "metadata": {
    "id": "p1oNc-31QEMB"
   },
   "source": [
    "Создадим три датасета:\n",
    "- *train_dataset*\n",
    "- *valid_dataset*\n",
    "- *test_dataset*"
   ]
  },
  {
   "cell_type": "code",
   "execution_count": null,
   "metadata": {
    "id": "vqg56Jf8QEMC"
   },
   "outputs": [],
   "source": [
    "train_dataset = TransformersDataset(\n",
    "    token_seq=train_token_seq,\n",
    "    label_seq=train_label_seq,\n",
    ")\n",
    "valid_dataset = TransformersDataset(\n",
    "    token_seq=valid_token_seq,\n",
    "    label_seq=valid_label_seq,\n",
    ")\n",
    "test_dataset = TransformersDataset(\n",
    "    token_seq=test_token_seq,\n",
    "    label_seq=test_label_seq,\n",
    ")"
   ]
  },
  {
   "cell_type": "markdown",
   "metadata": {
    "id": "WdIS6XrvQEMC"
   },
   "source": [
    "Посмотрим на то, что мы получили:"
   ]
  },
  {
   "cell_type": "code",
   "execution_count": null,
   "metadata": {
    "id": "IT00Pjy6QEMC",
    "outputId": "f1c48da9-395c-4316-9f06-a5093eaf9fe4"
   },
   "outputs": [
    {
     "data": {
      "text/plain": [
       "(['eu', 'rejects', 'german', 'call', 'to', 'boycott', 'british', 'lamb', '.'],\n",
       " [3, 0, 2, 0, 0, 0, 2, 0, 0])"
      ]
     },
     "execution_count": 58,
     "metadata": {},
     "output_type": "execute_result"
    }
   ],
   "source": [
    "train_dataset[0]"
   ]
  },
  {
   "cell_type": "code",
   "execution_count": null,
   "metadata": {
    "id": "uYal2icQmuD-",
    "outputId": "d5fca11d-0c59-4e2f-de6a-817a85f0af43"
   },
   "outputs": [
    {
     "data": {
      "text/plain": [
       "(['cricket',\n",
       "  '-',\n",
       "  'leicestershire',\n",
       "  'take',\n",
       "  'over',\n",
       "  'at',\n",
       "  'top',\n",
       "  'after',\n",
       "  'innings',\n",
       "  'victory',\n",
       "  '.'],\n",
       " [0, 0, 3, 0, 0, 0, 0, 0, 0, 0, 0])"
      ]
     },
     "execution_count": 59,
     "metadata": {},
     "output_type": "execute_result"
    }
   ],
   "source": [
    "valid_dataset[0]"
   ]
  },
  {
   "cell_type": "code",
   "execution_count": null,
   "metadata": {
    "id": "FCXd3FWVmuKe",
    "outputId": "3b81efab-6f06-4cd2-b163-5afc2f2077fc"
   },
   "outputs": [
    {
     "data": {
      "text/plain": [
       "(['soccer',\n",
       "  '-',\n",
       "  'japan',\n",
       "  'get',\n",
       "  'lucky',\n",
       "  'win',\n",
       "  ',',\n",
       "  'china',\n",
       "  'in',\n",
       "  'surprise',\n",
       "  'defeat',\n",
       "  '.'],\n",
       " [0, 0, 1, 0, 0, 0, 0, 4, 0, 0, 0, 0])"
      ]
     },
     "execution_count": 60,
     "metadata": {},
     "output_type": "execute_result"
    }
   ],
   "source": [
    "test_dataset[0]"
   ]
  },
  {
   "cell_type": "code",
   "execution_count": null,
   "metadata": {
    "id": "B4R605vAnYT9",
    "outputId": "9b846660-3780-4107-cd4a-8a6016111e84"
   },
   "outputs": [
    {
     "name": "stdout",
     "output_type": "stream",
     "text": [
      "Тесты пройдены!\n"
     ]
    }
   ],
   "source": [
    "assert len(train_dataset) == 14986, \"Неправильная длина train_dataset\"\n",
    "assert len(valid_dataset) == 3465, \"Неправильная длина valid_dataset\"\n",
    "assert len(test_dataset) == 3683, \"Неправильная длина test_dataset\"\n",
    "\n",
    "assert train_dataset[0][0] == ['eu', 'rejects', 'german', 'call', 'to', 'boycott', 'british', 'lamb', '.'], \"Неправильно сформированный train_dataset\"\n",
    "assert train_dataset[0][1] == [3,0,2,0,0,0,2,0,0], \"Неправильно сформированный train_dataset\"\n",
    "\n",
    "assert valid_dataset[0][0] == ['cricket', '-', 'leicestershire', 'take', 'over', 'at', 'top', 'after', 'innings', 'victory', '.'], \"Неправильно сформированный valid_dataset\"\n",
    "assert valid_dataset[0][1] == [0,0,3,0,0,0,0,0,0,0,0], \"Неправильно сформированный valid_dataset\"\n",
    "\n",
    "assert test_dataset[0][0] == ['soccer', '-', 'japan', 'get', 'lucky', 'win', ',', 'china', 'in', 'surprise', 'defeat', '.'], \"Неправильно сформированный test_dataset\"\n",
    "assert test_dataset[0][1] == [0,0,1,0,0,0,0,4,0,0,0,0], \"Неправильно сформированный test_dataset\"\n",
    "\n",
    "print(\"Тесты пройдены!\")"
   ]
  },
  {
   "cell_type": "markdown",
   "metadata": {
    "id": "0zP_6iQnQEMC"
   },
   "source": [
    "Реализуем новый `Collator`.\n",
    "\n",
    "Инициализировать коллатор будет 3 аргументами:\n",
    "- токенизатор\n",
    "- параметры токенизатора в виде словаря (затем используем как `**kwargs`)\n",
    "- id спецтокена для последовательностей тегов (значение -1)\n",
    "\n",
    "Метод `__call__` на вход принимает батч, а именно список кортежей того, что нам возвращается из датасета. В нашем случае это список кортежей двух int64 тензоров - `List[Tuple[torch.LongTensor, torch.LongTensor]]`.\n",
    "\n",
    "На выходе мы хотим получить два тензора:\n",
    "- западденные индексы слов / токенов\n",
    "- западденные индексы тегов\n",
    "\n",
    "**Задание. Реализуйте класс коллатора TransformersCollator.** **<font color='red'>(2 балла)</font>**"
   ]
  },
  {
   "cell_type": "code",
   "execution_count": null,
   "metadata": {
    "id": "BonAp65jQEMD"
   },
   "outputs": [],
   "source": [
    "from transformers import PreTrainedTokenizer\n",
    "from transformers.tokenization_utils_base import BatchEncoding\n",
    "\n",
    "\n",
    "class TransformersCollator:\n",
    "    \"\"\"\n",
    "    Transformers Collator that handles variable-size sentences.\n",
    "    \"\"\"\n",
    "\n",
    "    def __init__(\n",
    "        self,\n",
    "        tokenizer: PreTrainedTokenizer,\n",
    "        tokenizer_kwargs: Dict[str, Any],\n",
    "        label_padding_value: int,\n",
    "    ):\n",
    "        \"\"\"\n",
    "        TransformersCollator class constructor.\n",
    "\n",
    "        Args:\n",
    "            tokenizer: the pretrained tokenizer which converts sentence\n",
    "                to tokens.\n",
    "            tokenizer_kwargs: the arguments of the tokenizer\n",
    "            label_padding_value: the padding value for a label\n",
    "\n",
    "        Returns:\n",
    "            None\n",
    "        \"\"\"\n",
    "        self.tokenizer = tokenizer\n",
    "        self.tokenizer_kwargs = tokenizer_kwargs\n",
    "\n",
    "        self.label_padding_value = label_padding_value\n",
    "\n",
    "    def __call__(\n",
    "        self,\n",
    "        batch: List[Tuple[List[str], List[int]]],\n",
    "    ) -> Tuple[torch.LongTensor, torch.LongTensor]:\n",
    "        \"\"\"\n",
    "        Calls transformers' collator.\n",
    "\n",
    "        Args:\n",
    "            batch: One batch with sentence and labels.\n",
    "\n",
    "        Returns:\n",
    "            (tokens, labels), where `tokens` is sequence of token\n",
    "                and `labels` is corresponding labels list\n",
    "        \"\"\"\n",
    "        tokens, labels = zip(*batch)\n",
    "\n",
    "        # ### START CODE HERE ###\n",
    "        tokens = self.tokenizer(list(tokens), **self.tokenizer_kwargs)\n",
    "        labels = self.encode_labels(tokens, labels, self.label_padding_value)\n",
    "        # ### END CODE HERE ###\n",
    "\n",
    "        tokens.pop('offset_mapping')\n",
    "        return tokens, labels\n",
    "\n",
    "    @staticmethod\n",
    "    def encode_labels(\n",
    "        tokens: BatchEncoding,\n",
    "        labels: List[List[int]],\n",
    "        label_padding_value: int,\n",
    "    ) -> torch.LongTensor:\n",
    "\n",
    "        encoded_labels = []\n",
    "\n",
    "        for doc_labels, doc_offset in zip(labels, tokens.offset_mapping):\n",
    "\n",
    "            doc_enc_labels = np.ones(len(doc_offset), dtype=int) * label_padding_value\n",
    "            arr_offset = np.array(doc_offset)\n",
    "\n",
    "            doc_enc_labels[(arr_offset[:,0] == 0) & (arr_offset[:,1] != 0)] = doc_labels\n",
    "            encoded_labels.append(doc_enc_labels.tolist())\n",
    "\n",
    "        return torch.LongTensor(encoded_labels)"
   ]
  },
  {
   "cell_type": "code",
   "execution_count": null,
   "metadata": {
    "id": "iC8JkUPnQEMD"
   },
   "outputs": [],
   "source": [
    "tokenizer_kwargs = {\n",
    "    \"is_split_into_words\":    True,\n",
    "    \"return_offsets_mapping\": True,\n",
    "    \"padding\":                True,\n",
    "    \"truncation\":             True,\n",
    "    \"max_length\":             512,\n",
    "    \"return_tensors\":         \"pt\",\n",
    "}"
   ]
  },
  {
   "cell_type": "code",
   "execution_count": null,
   "metadata": {
    "id": "5sCDaxR6QEMD"
   },
   "outputs": [],
   "source": [
    "collator = TransformersCollator(\n",
    "    tokenizer=tokenizer,\n",
    "    tokenizer_kwargs=tokenizer_kwargs,\n",
    "    label_padding_value=-1,\n",
    ")"
   ]
  },
  {
   "cell_type": "markdown",
   "metadata": {
    "id": "eirev0N_QEMD"
   },
   "source": [
    "Теперь всё готово, чтобы задать `DataLoader`'ы:"
   ]
  },
  {
   "cell_type": "code",
   "execution_count": null,
   "metadata": {
    "id": "9JDrLC6pQEME"
   },
   "outputs": [],
   "source": [
    "train_dataloader = torch.utils.data.DataLoader(\n",
    "    train_dataset,\n",
    "    batch_size=2,\n",
    "    shuffle=True,\n",
    "    collate_fn=collator,\n",
    ")\n",
    "valid_dataloader = torch.utils.data.DataLoader(\n",
    "    valid_dataset,\n",
    "    batch_size=1,  # для корректных замеров метрик оставить batch_size=1\n",
    "    shuffle=False, # для корректных замеров метрик оставить shuffle=False\n",
    "    collate_fn=collator,\n",
    ")\n",
    "test_dataloader = torch.utils.data.DataLoader(\n",
    "    test_dataset,\n",
    "    batch_size=1,  # для корректных замеров метрик оставить batch_size=1\n",
    "    shuffle=False, # для корректных замеров метрик оставить shuffle=False\n",
    "    collate_fn=collator,\n",
    ")"
   ]
  },
  {
   "cell_type": "markdown",
   "metadata": {
    "id": "v3zGjEDHQEME"
   },
   "source": [
    "Посмотрим на то, что мы получили:"
   ]
  },
  {
   "cell_type": "code",
   "execution_count": null,
   "metadata": {
    "id": "KSWcYEAWQEME"
   },
   "outputs": [],
   "source": [
    "tokens, labels = next(iter(train_dataloader))\n",
    "\n",
    "tokens = tokens.to(device)\n",
    "labels = labels.to(device)"
   ]
  },
  {
   "cell_type": "code",
   "execution_count": null,
   "metadata": {
    "id": "NTcdU1BlQEME",
    "outputId": "957c2790-36b6-452f-ebfc-e32c69d5bed4"
   },
   "outputs": [
    {
     "data": {
      "text/plain": [
       "{'input_ids': tensor([[  101,  1111,   117,  1222,   117,  1827,   114,   131,   102,     0,\n",
       "             0],\n",
       "        [  101, 21718,  1179, 25338,  5123,  6112,   121,  8214,  2427,   122,\n",
       "           102]], device='cuda:0'), 'attention_mask': tensor([[1, 1, 1, 1, 1, 1, 1, 1, 1, 0, 0],\n",
       "        [1, 1, 1, 1, 1, 1, 1, 1, 1, 1, 1]], device='cuda:0')}"
      ]
     },
     "execution_count": 67,
     "metadata": {},
     "output_type": "execute_result"
    }
   ],
   "source": [
    "tokens"
   ]
  },
  {
   "cell_type": "code",
   "execution_count": null,
   "metadata": {
    "id": "p7ZTh97-QEME",
    "outputId": "fae6025f-a76f-42e3-9c92-e97e6b56cd0b"
   },
   "outputs": [
    {
     "data": {
      "text/plain": [
       "tensor([[-1,  0,  0,  0,  0,  0,  0,  0, -1, -1, -1],\n",
       "        [-1,  3, -1,  7, -1, -1,  0,  3, -1,  0, -1]], device='cuda:0')"
      ]
     },
     "execution_count": 68,
     "metadata": {},
     "output_type": "execute_result"
    }
   ],
   "source": [
    "labels"
   ]
  },
  {
   "cell_type": "code",
   "execution_count": null,
   "metadata": {
    "id": "pMprtk9bodM9",
    "outputId": "6ec5fc2e-d671-43e6-db50-78eb143c210a"
   },
   "outputs": [
    {
     "name": "stdout",
     "output_type": "stream",
     "text": [
      "Тесты пройдены!\n"
     ]
    }
   ],
   "source": [
    "train_tokens, train_labels = next(iter(\n",
    "    torch.utils.data.DataLoader(\n",
    "        train_dataset,\n",
    "        batch_size=2,\n",
    "        shuffle=False,\n",
    "        collate_fn=collator,\n",
    "    )\n",
    "))\n",
    "assert torch.equal(train_tokens['input_ids'], torch.tensor([[  101,   174,  1358, 22961,   176, 14170,  1840,  1106, 21423,  9304, 10721,  1324,  2495, 12913,   119,   102], [  101, 11109,  1200,  1602,  6715,   102,     0,     0,     0,     0,    0,     0,     0,     0,     0,     0]])), \"Похоже на ошибку в коллаторе\"\n",
    "assert torch.equal(train_tokens['attention_mask'], torch.tensor([[1, 1, 1, 1, 1, 1, 1, 1, 1, 1, 1, 1, 1, 1, 1, 1], [1, 1, 1, 1, 1, 1, 0, 0, 0, 0, 0, 0, 0, 0, 0, 0]])), \"Похоже на ошибку в коллаторе\"\n",
    "assert torch.equal(train_labels, torch.tensor([[-1,  3, -1,  0,  2, -1,  0,  0,  0,  2, -1, -1,  0, -1,  0, -1], [-1,  4, -1,  8, -1, -1, -1, -1, -1, -1, -1, -1, -1, -1, -1, -1]])), \"Похоже на ошибку в коллаторе\"\n",
    "\n",
    "valid_tokens, valid_labels = next(iter(\n",
    "    torch.utils.data.DataLoader(\n",
    "        valid_dataset,\n",
    "        batch_size=2,\n",
    "        shuffle=False,\n",
    "        collate_fn=collator,\n",
    "    )\n",
    "))\n",
    "assert torch.equal(valid_tokens['input_ids'], torch.tensor([[  101,  5428,   118,  5837, 18117,  5759, 15189,  1321,  1166,  1120,  1499,  1170,  6687,  2681,   119,   102], [  101, 25338, 17996,  1820,   118,  4775,   118,  1476,   102,     0,     0,     0,     0,     0,     0,     0]])), \"Похоже на ошибку в коллаторе\"\n",
    "assert torch.equal(valid_tokens['attention_mask'], torch.tensor([[1, 1, 1, 1, 1, 1, 1, 1, 1, 1, 1, 1, 1, 1, 1, 1], [1, 1, 1, 1, 1, 1, 1, 1, 1, 0, 0, 0, 0, 0, 0, 0]])), \"Похоже на ошибку в коллаторе\"\n",
    "assert torch.equal(valid_labels, torch.tensor([[-1,  0,  0,  3, -1, -1, -1,  0,  0,  0,  0,  0,  0,  0,  0, -1], [-1,  1, -1,  0, -1, -1, -1, -1, -1, -1, -1, -1, -1, -1, -1, -1]])), \"Похоже на ошибку в коллаторе\"\n",
    "\n",
    "test_tokens, test_labels = next(iter(\n",
    "    torch.utils.data.DataLoader(\n",
    "        test_dataset,\n",
    "        batch_size=2,\n",
    "        shuffle=False,\n",
    "        collate_fn=collator,\n",
    "    )\n",
    "))\n",
    "assert torch.equal(test_tokens['input_ids'], torch.tensor([[  101,  5862,   118,   179, 26519,  1179,  1243,  6918,  1782,   117,  5144,  1161,  1107,  3774,  3326,   119,   102], [  101,  9468,  3309,  1306, 19122,  2293,   102,     0,     0,     0,     0,     0,     0,     0,     0,     0,     0]])), \"Похоже на ошибку в коллаторе\"\n",
    "assert torch.equal(test_tokens['attention_mask'], torch.tensor([[1, 1, 1, 1, 1, 1, 1, 1, 1, 1, 1, 1, 1, 1, 1, 1, 1], [1, 1, 1, 1, 1, 1, 1, 0, 0, 0, 0, 0, 0, 0, 0, 0, 0]])), \"Похоже на ошибку в коллаторе\"\n",
    "assert torch.equal(test_labels, torch.tensor([[-1,  0,  0,  1, -1, -1,  0,  0,  0,  0,  4, -1,  0,  0,  0,  0, -1], [-1,  4, -1, -1,  8, -1, -1, -1, -1, -1, -1, -1, -1, -1, -1, -1, -1]])), \"Похоже на ошибку в коллаторе\"\n",
    "\n",
    "print(\"Тесты пройдены!\")"
   ]
  },
  {
   "cell_type": "markdown",
   "metadata": {
    "id": "_m-taH0SQEMF"
   },
   "source": [
    "В библиотеке **transformers** есть классы для модели BERT, уже настроенные под решение конкретных задач, с соответствующими головами классификации. Для задачи NER будем использовать класс `BertForTokenClassification`.\n",
    "\n",
    "По аналогии с токенизаторами, мы можем использовать класс `AutoModelForTokenClassification`, который по названию модели сам определит, какой класс нужен для инициализации модели."
   ]
  },
  {
   "cell_type": "code",
   "execution_count": null,
   "metadata": {
    "id": "x6tq_i7JQEMF"
   },
   "outputs": [],
   "source": [
    "from transformers import AutoModelForTokenClassification"
   ]
  },
  {
   "cell_type": "code",
   "execution_count": null,
   "metadata": {
    "id": "Vma9yj0zQEMF",
    "outputId": "9bc3bcef-29d6-4f86-baef-6341e35b5982"
   },
   "outputs": [
    {
     "name": "stderr",
     "output_type": "stream",
     "text": [
      "Some weights of DistilBertForTokenClassification were not initialized from the model checkpoint at distilbert-base-cased and are newly initialized: ['classifier.bias', 'classifier.weight']\n",
      "You should probably TRAIN this model on a down-stream task to be able to use it for predictions and inference.\n"
     ]
    }
   ],
   "source": [
    "model = AutoModelForTokenClassification.from_pretrained(\n",
    "    model_name,\n",
    "    num_labels=len(label2idx),\n",
    ").to(device)"
   ]
  },
  {
   "cell_type": "code",
   "execution_count": null,
   "metadata": {
    "id": "Imv-6gAQQEMG"
   },
   "outputs": [],
   "source": [
    "optimizer = torch.optim.Adam(model.parameters(), lr=1e-5)"
   ]
  },
  {
   "cell_type": "code",
   "execution_count": null,
   "metadata": {
    "id": "LAdHfn4oQEMG"
   },
   "outputs": [],
   "source": [
    "outputs = model(**tokens)"
   ]
  },
  {
   "cell_type": "code",
   "execution_count": null,
   "metadata": {
    "id": "P-kTke_8QEMG",
    "outputId": "ca6dce5a-c118-45d0-9540-9dcd13242092"
   },
   "outputs": [
    {
     "name": "stdout",
     "output_type": "stream",
     "text": [
      "Тесты пройдены!\n"
     ]
    }
   ],
   "source": [
    "assert 2 < criterion(outputs[\"logits\"].transpose(1, 2), labels) < 3\n",
    "\n",
    "print(\"Тесты пройдены!\")"
   ]
  },
  {
   "cell_type": "code",
   "execution_count": null,
   "metadata": {
    "id": "5Ana4qGKeHrN"
   },
   "outputs": [],
   "source": [
    "# создадим SummaryWriter для эксперимента с BiLSTMModel\n",
    "\n",
    "from torch.utils.tensorboard import SummaryWriter\n",
    "\n",
    "writer = SummaryWriter(log_dir=f\"logs/Transformer\")"
   ]
  },
  {
   "cell_type": "markdown",
   "metadata": {
    "id": "8sNuFPRdQEMH"
   },
   "source": [
    "### Эксперименты\n",
    "\n",
    "Проведите эксперименты на данных. Настраивайте параметры по валидационной выборке, не используя тестовую. Ваше цель — настроить сеть так, чтобы качество модели по F1-macro мере на валидационной и тестовой выборках было не меньше **0.9**.\n",
    "\n",
    "Сделайте выводы о качестве модели, переобучении, чувствительности архитектуры к выбору гиперпараметров. Оформите результаты экспериментов в виде мини-отчета (в этом же ipython notebook)."
   ]
  },
  {
   "cell_type": "markdown",
   "metadata": {
    "id": "7IfkN20lrN0J"
   },
   "source": [
    "Вы можете использовать ту же самую функцию train, что и до этого за тем исключением, что вместо инференса `model(tokens)` нужно делать `model(**tokens)`, а вместо `outputs` использовать `outputs[\"logits\"].transpose(1, 2)`"
   ]
  },
  {
   "cell_type": "markdown",
   "metadata": {
    "id": "8iyZUFddzYE5"
   },
   "source": [
    "**Задание. Проведите эксперименты.** **<font color='red'>(2 балла)</font>**\n"
   ]
  },
  {
   "cell_type": "code",
   "execution_count": null,
   "metadata": {
    "id": "jFW92sNL4YCA",
    "outputId": "752bdb29-35d5-472b-825e-8491d298f5b8",
    "scrolled": true
   },
   "outputs": [
    {
     "name": "stderr",
     "output_type": "stream",
     "text": [
      "Some weights of DistilBertForTokenClassification were not initialized from the model checkpoint at distilbert-base-cased and are newly initialized: ['classifier.bias', 'classifier.weight']\n",
      "You should probably TRAIN this model on a down-stream task to be able to use it for predictions and inference.\n"
     ]
    },
    {
     "name": "stdout",
     "output_type": "stream",
     "text": [
      "Epoch [1 / 5]\n",
      "\n"
     ]
    },
    {
     "name": "stderr",
     "output_type": "stream",
     "text": [
      "loop over train batches: 100%|██████████████████████████████████████████████████████████████████████████████████████████████████████████████████████████████████████████████████████████████████████████████████████████| 3747/3747 [02:05<00:00, 29.81it/s]\n"
     ]
    },
    {
     "name": "stdout",
     "output_type": "stream",
     "text": [
      "Train loss: 0.1385314497742798\n",
      "\n",
      "Train accuracy: 0.9661414125622737\n",
      "\n",
      "Train precision_micro: 0.9661414125622737\n",
      "\n",
      "Train precision_macro: 0.8272187763324057\n",
      "\n",
      "Train precision_weighted: 0.9616887819703032\n",
      "\n",
      "Train recall_micro: 0.9661414125622737\n",
      "\n",
      "Train recall_macro: 0.8264087194681639\n",
      "\n",
      "Train recall_weighted: 0.9661414125622737\n",
      "\n",
      "Train f1_micro: 0.9661414125622737\n",
      "\n",
      "Train f1_macro: 0.817993964151968\n",
      "\n",
      "Train f1_weighted: 0.9612649549391078\n",
      "\n"
     ]
    },
    {
     "name": "stderr",
     "output_type": "stream",
     "text": [
      "loop over test batches: 100%|███████████████████████████████████████████████████████████████████████████████████████████████████████████████████████████████████████████████████████████████████████████████████████████| 3465/3465 [00:53<00:00, 64.33it/s]\n"
     ]
    },
    {
     "name": "stdout",
     "output_type": "stream",
     "text": [
      "Test loss:  0.06571994775383008\n",
      "\n",
      "Test accuracy: 0.9824343021423402\n",
      "\n",
      "Test precision_micro: 0.9824343021423402\n",
      "\n",
      "Test precision_macro: 0.9388669582347393\n",
      "\n",
      "Test precision_weighted: 0.9817129503133504\n",
      "\n",
      "Test recall_micro: 0.9824343021423402\n",
      "\n",
      "Test recall_macro: 0.9383220898972892\n",
      "\n",
      "Test recall_weighted: 0.9824343021423402\n",
      "\n",
      "Test f1_micro: 0.9824343021423402\n",
      "\n",
      "Test f1_macro: 0.9365904400655011\n",
      "\n",
      "Test f1_weighted: 0.9808718772653393\n",
      "\n",
      "Epoch [2 / 5]\n",
      "\n"
     ]
    },
    {
     "name": "stderr",
     "output_type": "stream",
     "text": [
      "loop over train batches: 100%|██████████████████████████████████████████████████████████████████████████████████████████████████████████████████████████████████████████████████████████████████████████████████████████| 3747/3747 [02:04<00:00, 30.08it/s]\n"
     ]
    },
    {
     "name": "stdout",
     "output_type": "stream",
     "text": [
      "Train loss: 0.04766837213279007\n",
      "\n",
      "Train accuracy: 0.9901086400851401\n",
      "\n",
      "Train precision_micro: 0.9901086400851401\n",
      "\n",
      "Train precision_macro: 0.9456566233605934\n",
      "\n",
      "Train precision_weighted: 0.9918881402918667\n",
      "\n",
      "Train recall_micro: 0.9901086400851401\n",
      "\n",
      "Train recall_macro: 0.9458880205299713\n",
      "\n",
      "Train recall_weighted: 0.9901086400851401\n",
      "\n",
      "Train f1_micro: 0.9901086400851401\n",
      "\n",
      "Train f1_macro: 0.9421153929164694\n",
      "\n",
      "Train f1_weighted: 0.9901189218232601\n",
      "\n"
     ]
    },
    {
     "name": "stderr",
     "output_type": "stream",
     "text": [
      "loop over test batches: 100%|███████████████████████████████████████████████████████████████████████████████████████████████████████████████████████████████████████████████████████████████████████████████████████████| 3465/3465 [00:53<00:00, 65.06it/s]\n"
     ]
    },
    {
     "name": "stdout",
     "output_type": "stream",
     "text": [
      "Test loss:  0.07148254553157542\n",
      "\n",
      "Test accuracy: 0.981421043803376\n",
      "\n",
      "Test precision_micro: 0.981421043803376\n",
      "\n",
      "Test precision_macro: 0.9379930747407427\n",
      "\n",
      "Test precision_weighted: 0.9797386148068259\n",
      "\n",
      "Test recall_micro: 0.981421043803376\n",
      "\n",
      "Test recall_macro: 0.9376177183686888\n",
      "\n",
      "Test recall_weighted: 0.981421043803376\n",
      "\n",
      "Test f1_micro: 0.981421043803376\n",
      "\n",
      "Test f1_macro: 0.9359313080801848\n",
      "\n",
      "Test f1_weighted: 0.9793438811985714\n",
      "\n",
      "Epoch [3 / 5]\n",
      "\n"
     ]
    },
    {
     "name": "stderr",
     "output_type": "stream",
     "text": [
      "loop over train batches: 100%|██████████████████████████████████████████████████████████████████████████████████████████████████████████████████████████████████████████████████████████████████████████████████████████| 3747/3747 [02:04<00:00, 30.14it/s]\n"
     ]
    },
    {
     "name": "stdout",
     "output_type": "stream",
     "text": [
      "Train loss: 0.027030066574362528\n",
      "\n",
      "Train accuracy: 0.9953774638345304\n",
      "\n",
      "Train precision_micro: 0.9953774638345304\n",
      "\n",
      "Train precision_macro: 0.9744649039352502\n",
      "\n",
      "Train precision_weighted: 0.9963670088454678\n",
      "\n",
      "Train recall_micro: 0.9953774638345304\n",
      "\n",
      "Train recall_macro: 0.9746558542039113\n",
      "\n",
      "Train recall_weighted: 0.9953774638345304\n",
      "\n",
      "Train f1_micro: 0.9953774638345304\n",
      "\n",
      "Train f1_macro: 0.9727219133470852\n",
      "\n",
      "Train f1_weighted: 0.9954381906610061\n",
      "\n"
     ]
    },
    {
     "name": "stderr",
     "output_type": "stream",
     "text": [
      "loop over test batches: 100%|███████████████████████████████████████████████████████████████████████████████████████████████████████████████████████████████████████████████████████████████████████████████████████████| 3465/3465 [00:52<00:00, 65.54it/s]\n"
     ]
    },
    {
     "name": "stdout",
     "output_type": "stream",
     "text": [
      "Test loss:  0.06239507059842344\n",
      "\n",
      "Test accuracy: 0.9840027183873578\n",
      "\n",
      "Test precision_micro: 0.9840027183873578\n",
      "\n",
      "Test precision_macro: 0.9455793952315563\n",
      "\n",
      "Test precision_weighted: 0.9852602977942804\n",
      "\n",
      "Test recall_micro: 0.9840027183873578\n",
      "\n",
      "Test recall_macro: 0.9446291093134503\n",
      "\n",
      "Test recall_weighted: 0.9840027183873578\n",
      "\n",
      "Test f1_micro: 0.9840027183873578\n",
      "\n",
      "Test f1_macro: 0.9431997535515965\n",
      "\n",
      "Test f1_weighted: 0.9835560276917572\n",
      "\n",
      "Epoch [4 / 5]\n",
      "\n"
     ]
    },
    {
     "name": "stderr",
     "output_type": "stream",
     "text": [
      "loop over train batches: 100%|██████████████████████████████████████████████████████████████████████████████████████████████████████████████████████████████████████████████████████████████████████████████████████████| 3747/3747 [02:05<00:00, 29.81it/s]\n"
     ]
    },
    {
     "name": "stdout",
     "output_type": "stream",
     "text": [
      "Train loss: 0.01726912486558763\n",
      "\n",
      "Train accuracy: 0.9976556329648444\n",
      "\n",
      "Train precision_micro: 0.9976556329648444\n",
      "\n",
      "Train precision_macro: 0.9862890747916283\n",
      "\n",
      "Train precision_weighted: 0.9982137359570975\n",
      "\n",
      "Train recall_micro: 0.9976556329648444\n",
      "\n",
      "Train recall_macro: 0.9867085463167676\n",
      "\n",
      "Train recall_weighted: 0.9976556329648444\n",
      "\n",
      "Train f1_micro: 0.9976556329648444\n",
      "\n",
      "Train f1_macro: 0.9855520759918871\n",
      "\n",
      "Train f1_weighted: 0.9977338009760431\n",
      "\n"
     ]
    },
    {
     "name": "stderr",
     "output_type": "stream",
     "text": [
      "loop over test batches: 100%|███████████████████████████████████████████████████████████████████████████████████████████████████████████████████████████████████████████████████████████████████████████████████████████| 3465/3465 [00:52<00:00, 65.69it/s]\n"
     ]
    },
    {
     "name": "stdout",
     "output_type": "stream",
     "text": [
      "Test loss:  0.06897655662673333\n",
      "\n",
      "Test accuracy: 0.9843795749906763\n",
      "\n",
      "Test precision_micro: 0.9843795749906763\n",
      "\n",
      "Test precision_macro: 0.9460033925272108\n",
      "\n",
      "Test precision_weighted: 0.9857925180699918\n",
      "\n",
      "Test recall_micro: 0.9843795749906763\n",
      "\n",
      "Test recall_macro: 0.9450487252363966\n",
      "\n",
      "Test recall_weighted: 0.9843795749906763\n",
      "\n",
      "Test f1_micro: 0.9843795749906763\n",
      "\n",
      "Test f1_macro: 0.9436054691601282\n",
      "\n",
      "Test f1_weighted: 0.9839551660979756\n",
      "\n",
      "Epoch [5 / 5]\n",
      "\n"
     ]
    },
    {
     "name": "stderr",
     "output_type": "stream",
     "text": [
      "loop over train batches: 100%|██████████████████████████████████████████████████████████████████████████████████████████████████████████████████████████████████████████████████████████████████████████████████████████| 3747/3747 [02:05<00:00, 29.76it/s]\n"
     ]
    },
    {
     "name": "stdout",
     "output_type": "stream",
     "text": [
      "Train loss: 0.012466402079881441\n",
      "\n",
      "Train accuracy: 0.9983905209177694\n",
      "\n",
      "Train precision_micro: 0.9983905209177694\n",
      "\n",
      "Train precision_macro: 0.9911123019405385\n",
      "\n",
      "Train precision_weighted: 0.9988102977180041\n",
      "\n",
      "Train recall_micro: 0.9983905209177694\n",
      "\n",
      "Train recall_macro: 0.9913278895903292\n",
      "\n",
      "Train recall_weighted: 0.9983905209177694\n",
      "\n",
      "Train f1_micro: 0.9983905209177694\n",
      "\n",
      "Train f1_macro: 0.9906021707618256\n",
      "\n",
      "Train f1_weighted: 0.9984578314870667\n",
      "\n"
     ]
    },
    {
     "name": "stderr",
     "output_type": "stream",
     "text": [
      "loop over test batches: 100%|███████████████████████████████████████████████████████████████████████████████████████████████████████████████████████████████████████████████████████████████████████████████████████████| 3465/3465 [00:52<00:00, 65.75it/s]\n"
     ]
    },
    {
     "name": "stdout",
     "output_type": "stream",
     "text": [
      "Test loss:  0.07208929005337084\n",
      "\n",
      "Test accuracy: 0.9845089426462119\n",
      "\n",
      "Test precision_micro: 0.9845089426462119\n",
      "\n",
      "Test precision_macro: 0.9498667619745298\n",
      "\n",
      "Test precision_weighted: 0.9856246852322196\n",
      "\n",
      "Test recall_micro: 0.9845089426462119\n",
      "\n",
      "Test recall_macro: 0.9484653471534648\n",
      "\n",
      "Test recall_weighted: 0.9845089426462119\n",
      "\n",
      "Test f1_micro: 0.9845089426462119\n",
      "\n",
      "Test f1_macro: 0.9474700537275007\n",
      "\n",
      "Test f1_weighted: 0.9839746557289245\n",
      "\n",
      "------------------------------------------------------------Test results------------------------------------------------------------\n"
     ]
    },
    {
     "name": "stderr",
     "output_type": "stream",
     "text": [
      "loop over test batches: 100%|███████████████████████████████████████████████████████████████████████████████████████████████████████████████████████████████████████████████████████████████████████████████████████████| 3683/3683 [00:55<00:00, 65.78it/s]"
     ]
    },
    {
     "name": "stdout",
     "output_type": "stream",
     "text": [
      "Test loss:  0.20974973564126567\n",
      "\n",
      "Test accuracy: 0.9650233512266317\n",
      "\n",
      "Test precision_micro: 0.9650233512266317\n",
      "\n",
      "Test precision_macro: 0.9168169634578389\n",
      "\n",
      "Test precision_weighted: 0.9684047821565451\n",
      "\n",
      "Test recall_micro: 0.9650233512266317\n",
      "\n",
      "Test recall_macro: 0.9152807711960995\n",
      "\n",
      "Test recall_weighted: 0.9650233512266317\n",
      "\n",
      "Test f1_micro: 0.9650233512266317\n",
      "\n",
      "Test f1_macro: 0.9141437628707441\n",
      "\n",
      "Test f1_weighted: 0.9654316812123798\n",
      "\n"
     ]
    },
    {
     "name": "stderr",
     "output_type": "stream",
     "text": [
      "\n"
     ]
    }
   ],
   "source": [
    "# ### START CODE HERE ###\n",
    "# Реализуйте ветку elif в функции train, которая\n",
    "# отвечает условию model_type == 'Transformer'\n",
    "model = AutoModelForTokenClassification.from_pretrained(\n",
    "    model_name,\n",
    "    num_labels=len(label2idx),\n",
    ").to(device)\n",
    "\n",
    "fit_predict(model, 'Transformer')\n",
    "# ### END CODE HERE ###"
   ]
  },
  {
   "cell_type": "code",
   "execution_count": null,
   "metadata": {
    "id": "ad4qt1dy6NuD",
    "outputId": "150d6419-42ec-473b-e937-7591e7c8938e",
    "scrolled": true
   },
   "outputs": [
    {
     "name": "stderr",
     "output_type": "stream",
     "text": [
      "Some weights of DistilBertForTokenClassification were not initialized from the model checkpoint at distilbert-base-cased and are newly initialized: ['classifier.bias', 'classifier.weight']\n",
      "You should probably TRAIN this model on a down-stream task to be able to use it for predictions and inference.\n"
     ]
    },
    {
     "name": "stdout",
     "output_type": "stream",
     "text": [
      "Epoch [1 / 5]\n",
      "\n"
     ]
    },
    {
     "name": "stderr",
     "output_type": "stream",
     "text": [
      "loop over train batches: 100%|████████████████████████████████████████████████████████████████████████████████████████████████████████████████████████████████████████████████████████████████████████████████████████████| 118/118 [00:10<00:00, 10.96it/s]\n"
     ]
    },
    {
     "name": "stdout",
     "output_type": "stream",
     "text": [
      "Train loss: 0.6636848747730255\n",
      "\n",
      "Train accuracy: 0.8356482942203803\n",
      "\n",
      "Train precision_micro: 0.8356482942203803\n",
      "\n",
      "Train precision_macro: 0.21395328412148518\n",
      "\n",
      "Train precision_weighted: 0.7701202213217087\n",
      "\n",
      "Train recall_micro: 0.8356482942203803\n",
      "\n",
      "Train recall_macro: 0.19384453080661188\n",
      "\n",
      "Train recall_weighted: 0.8356482942203803\n",
      "\n",
      "Train f1_micro: 0.8356482942203803\n",
      "\n",
      "Train f1_macro: 0.180396709389978\n",
      "\n",
      "Train f1_weighted: 0.7891219968042155\n",
      "\n"
     ]
    },
    {
     "name": "stderr",
     "output_type": "stream",
     "text": [
      "loop over test batches: 100%|███████████████████████████████████████████████████████████████████████████████████████████████████████████████████████████████████████████████████████████████████████████████████████████| 3465/3465 [00:52<00:00, 65.48it/s]\n"
     ]
    },
    {
     "name": "stdout",
     "output_type": "stream",
     "text": [
      "Test loss:  0.34656967803463606\n",
      "\n",
      "Test accuracy: 0.9021760125292031\n",
      "\n",
      "Test precision_micro: 0.9021760125292031\n",
      "\n",
      "Test precision_macro: 0.707247228972524\n",
      "\n",
      "Test precision_weighted: 0.8836616719753296\n",
      "\n",
      "Test recall_micro: 0.9021760125292031\n",
      "\n",
      "Test recall_macro: 0.7270452909962519\n",
      "\n",
      "Test recall_weighted: 0.9021760125292031\n",
      "\n",
      "Test f1_micro: 0.9021760125292031\n",
      "\n",
      "Test f1_macro: 0.7098092153628925\n",
      "\n",
      "Test f1_weighted: 0.8882922353581643\n",
      "\n",
      "Epoch [2 / 5]\n",
      "\n"
     ]
    },
    {
     "name": "stderr",
     "output_type": "stream",
     "text": [
      "loop over train batches: 100%|████████████████████████████████████████████████████████████████████████████████████████████████████████████████████████████████████████████████████████████████████████████████████████████| 118/118 [00:11<00:00, 10.65it/s]\n"
     ]
    },
    {
     "name": "stdout",
     "output_type": "stream",
     "text": [
      "Train loss: 0.18640801569415352\n",
      "\n",
      "Train accuracy: 0.9490026195167542\n",
      "\n",
      "Train precision_micro: 0.9490026195167542\n",
      "\n",
      "Train precision_macro: 0.6990724992246129\n",
      "\n",
      "Train precision_weighted: 0.9407930980487231\n",
      "\n",
      "Train recall_micro: 0.9490026195167542\n",
      "\n",
      "Train recall_macro: 0.6217335999394015\n",
      "\n",
      "Train recall_weighted: 0.9490026195167542\n",
      "\n",
      "Train f1_micro: 0.9490026195167542\n",
      "\n",
      "Train f1_macro: 0.6271406597484209\n",
      "\n",
      "Train f1_weighted: 0.9407021071574415\n",
      "\n"
     ]
    },
    {
     "name": "stderr",
     "output_type": "stream",
     "text": [
      "loop over test batches: 100%|███████████████████████████████████████████████████████████████████████████████████████████████████████████████████████████████████████████████████████████████████████████████████████████| 3465/3465 [00:53<00:00, 64.73it/s]\n"
     ]
    },
    {
     "name": "stdout",
     "output_type": "stream",
     "text": [
      "Test loss:  0.1210222767227199\n",
      "\n",
      "Test accuracy: 0.9680042473985332\n",
      "\n",
      "Test precision_micro: 0.9680042473985332\n",
      "\n",
      "Test precision_macro: 0.8943922519403684\n",
      "\n",
      "Test precision_weighted: 0.9683367962908441\n",
      "\n",
      "Test recall_micro: 0.9680042473985332\n",
      "\n",
      "Test recall_macro: 0.8951637547154525\n",
      "\n",
      "Test recall_weighted: 0.9680042473985332\n",
      "\n",
      "Test f1_micro: 0.9680042473985332\n",
      "\n",
      "Test f1_macro: 0.8914282108515491\n",
      "\n",
      "Test f1_weighted: 0.9661249793780554\n",
      "\n",
      "Epoch [3 / 5]\n",
      "\n"
     ]
    },
    {
     "name": "stderr",
     "output_type": "stream",
     "text": [
      "loop over train batches: 100%|████████████████████████████████████████████████████████████████████████████████████████████████████████████████████████████████████████████████████████████████████████████████████████████| 118/118 [00:10<00:00, 11.04it/s]\n"
     ]
    },
    {
     "name": "stdout",
     "output_type": "stream",
     "text": [
      "Train loss: 0.09580794134635036\n",
      "\n",
      "Train accuracy: 0.975396072757274\n",
      "\n",
      "Train precision_micro: 0.975396072757274\n",
      "\n",
      "Train precision_macro: 0.8819980802388846\n",
      "\n",
      "Train precision_weighted: 0.9756040323803451\n",
      "\n",
      "Train recall_micro: 0.975396072757274\n",
      "\n",
      "Train recall_macro: 0.8369578665721709\n",
      "\n",
      "Train recall_weighted: 0.975396072757274\n",
      "\n",
      "Train f1_micro: 0.975396072757274\n",
      "\n",
      "Train f1_macro: 0.8482127098977666\n",
      "\n",
      "Train f1_weighted: 0.974694032288171\n",
      "\n"
     ]
    },
    {
     "name": "stderr",
     "output_type": "stream",
     "text": [
      "loop over test batches: 100%|███████████████████████████████████████████████████████████████████████████████████████████████████████████████████████████████████████████████████████████████████████████████████████████| 3465/3465 [00:52<00:00, 65.53it/s]\n"
     ]
    },
    {
     "name": "stdout",
     "output_type": "stream",
     "text": [
      "Test loss:  0.0867497259364591\n",
      "\n",
      "Test accuracy: 0.9763471278165463\n",
      "\n",
      "Test precision_micro: 0.9763471278165463\n",
      "\n",
      "Test precision_macro: 0.9220642785739159\n",
      "\n",
      "Test precision_weighted: 0.9779857311460789\n",
      "\n",
      "Test recall_micro: 0.9763471278165463\n",
      "\n",
      "Test recall_macro: 0.9209589027542834\n",
      "\n",
      "Test recall_weighted: 0.9763471278165463\n",
      "\n",
      "Test f1_micro: 0.9763471278165463\n",
      "\n",
      "Test f1_macro: 0.9187669339842913\n",
      "\n",
      "Test f1_weighted: 0.9754217682754143\n",
      "\n",
      "Epoch [4 / 5]\n",
      "\n"
     ]
    },
    {
     "name": "stderr",
     "output_type": "stream",
     "text": [
      "loop over train batches: 100%|████████████████████████████████████████████████████████████████████████████████████████████████████████████████████████████████████████████████████████████████████████████████████████████| 118/118 [00:10<00:00, 10.74it/s]\n"
     ]
    },
    {
     "name": "stdout",
     "output_type": "stream",
     "text": [
      "Train loss: 0.06805521631771225\n",
      "\n",
      "Train accuracy: 0.9833116147711873\n",
      "\n",
      "Train precision_micro: 0.9833116147711873\n",
      "\n",
      "Train precision_macro: 0.9143071571185241\n",
      "\n",
      "Train precision_weighted: 0.983728720667428\n",
      "\n",
      "Train recall_micro: 0.9833116147711873\n",
      "\n",
      "Train recall_macro: 0.8957250433942153\n",
      "\n",
      "Train recall_weighted: 0.9833116147711873\n",
      "\n",
      "Train f1_micro: 0.9833116147711873\n",
      "\n",
      "Train f1_macro: 0.8989525250558381\n",
      "\n",
      "Train f1_weighted: 0.9830661631423139\n",
      "\n"
     ]
    },
    {
     "name": "stderr",
     "output_type": "stream",
     "text": [
      "loop over test batches: 100%|███████████████████████████████████████████████████████████████████████████████████████████████████████████████████████████████████████████████████████████████████████████████████████████| 3465/3465 [00:53<00:00, 65.01it/s]\n"
     ]
    },
    {
     "name": "stdout",
     "output_type": "stream",
     "text": [
      "Test loss:  0.07483769770280604\n",
      "\n",
      "Test accuracy: 0.9795252298588046\n",
      "\n",
      "Test precision_micro: 0.9795252298588046\n",
      "\n",
      "Test precision_macro: 0.9311993992403667\n",
      "\n",
      "Test precision_weighted: 0.9816966599114587\n",
      "\n",
      "Test recall_micro: 0.9795252298588046\n",
      "\n",
      "Test recall_macro: 0.9306634962797087\n",
      "\n",
      "Test recall_weighted: 0.9795252298588046\n",
      "\n",
      "Test f1_micro: 0.9795252298588046\n",
      "\n",
      "Test f1_macro: 0.9286343193842453\n",
      "\n",
      "Test f1_weighted: 0.9792192410706836\n",
      "\n",
      "Epoch [5 / 5]\n",
      "\n"
     ]
    },
    {
     "name": "stderr",
     "output_type": "stream",
     "text": [
      "loop over train batches: 100%|████████████████████████████████████████████████████████████████████████████████████████████████████████████████████████████████████████████████████████████████████████████████████████████| 118/118 [00:10<00:00, 11.03it/s]\n"
     ]
    },
    {
     "name": "stdout",
     "output_type": "stream",
     "text": [
      "Train loss: 0.05257999639705581\n",
      "\n",
      "Train accuracy: 0.9879326437009877\n",
      "\n",
      "Train precision_micro: 0.9879326437009877\n",
      "\n",
      "Train precision_macro: 0.9371439400603873\n",
      "\n",
      "Train precision_weighted: 0.9882745863129498\n",
      "\n",
      "Train recall_micro: 0.9879326437009877\n",
      "\n",
      "Train recall_macro: 0.9275702239884811\n",
      "\n",
      "Train recall_weighted: 0.9879326437009877\n",
      "\n",
      "Train f1_micro: 0.9879326437009877\n",
      "\n",
      "Train f1_macro: 0.9287724274786239\n",
      "\n",
      "Train f1_weighted: 0.9878330755187491\n",
      "\n"
     ]
    },
    {
     "name": "stderr",
     "output_type": "stream",
     "text": [
      "loop over test batches: 100%|███████████████████████████████████████████████████████████████████████████████████████████████████████████████████████████████████████████████████████████████████████████████████████████| 3465/3465 [00:53<00:00, 65.08it/s]\n"
     ]
    },
    {
     "name": "stdout",
     "output_type": "stream",
     "text": [
      "Test loss:  0.06942185317927133\n",
      "\n",
      "Test accuracy: 0.9812764238803482\n",
      "\n",
      "Test precision_micro: 0.9812764238803482\n",
      "\n",
      "Test precision_macro: 0.936984284605878\n",
      "\n",
      "Test precision_weighted: 0.9828676445337239\n",
      "\n",
      "Test recall_micro: 0.9812764238803482\n",
      "\n",
      "Test recall_macro: 0.9363753252046888\n",
      "\n",
      "Test recall_weighted: 0.9812764238803482\n",
      "\n",
      "Test f1_micro: 0.9812764238803482\n",
      "\n",
      "Test f1_macro: 0.9343922088147321\n",
      "\n",
      "Test f1_weighted: 0.9807164669772623\n",
      "\n",
      "------------------------------------------------------------Test results------------------------------------------------------------\n"
     ]
    },
    {
     "name": "stderr",
     "output_type": "stream",
     "text": [
      "loop over test batches: 100%|███████████████████████████████████████████████████████████████████████████████████████████████████████████████████████████████████████████████████████████████████████████████████████████| 3683/3683 [00:56<00:00, 65.42it/s]\n"
     ]
    },
    {
     "name": "stdout",
     "output_type": "stream",
     "text": [
      "Test loss:  0.14566560614348484\n",
      "\n",
      "Test accuracy: 0.9631814684400266\n",
      "\n",
      "Test precision_micro: 0.9631814684400266\n",
      "\n",
      "Test precision_macro: 0.9051226994774342\n",
      "\n",
      "Test precision_weighted: 0.9665381910117595\n",
      "\n",
      "Test recall_micro: 0.9631814684400266\n",
      "\n",
      "Test recall_macro: 0.9046913734133222\n",
      "\n",
      "Test recall_weighted: 0.9631814684400266\n",
      "\n",
      "Test f1_micro: 0.9631814684400266\n",
      "\n",
      "Test f1_macro: 0.9025787388523521\n",
      "\n",
      "Test f1_weighted: 0.9633601024323225\n",
      "\n"
     ]
    },
    {
     "name": "stderr",
     "output_type": "stream",
     "text": [
      "Some weights of DistilBertForTokenClassification were not initialized from the model checkpoint at distilbert-base-cased and are newly initialized: ['classifier.bias', 'classifier.weight']\n",
      "You should probably TRAIN this model on a down-stream task to be able to use it for predictions and inference.\n"
     ]
    },
    {
     "name": "stdout",
     "output_type": "stream",
     "text": [
      "Epoch [1 / 5]\n",
      "\n"
     ]
    },
    {
     "name": "stderr",
     "output_type": "stream",
     "text": [
      "loop over train batches: 100%|████████████████████████████████████████████████████████████████████████████████████████████████████████████████████████████████████████████████████████████████████████████████████████████| 235/235 [00:12<00:00, 18.79it/s]\n"
     ]
    },
    {
     "name": "stdout",
     "output_type": "stream",
     "text": [
      "Train loss: 0.4611874009383486\n",
      "\n",
      "Train accuracy: 0.8802019554324532\n",
      "\n",
      "Train precision_micro: 0.8802019554324532\n",
      "\n",
      "Train precision_macro: 0.4200060217179881\n",
      "\n",
      "Train precision_weighted: 0.8478287678014664\n",
      "\n",
      "Train recall_micro: 0.8802019554324532\n",
      "\n",
      "Train recall_macro: 0.39221740181572956\n",
      "\n",
      "Train recall_weighted: 0.8802019554324532\n",
      "\n",
      "Train f1_micro: 0.8802019554324532\n",
      "\n",
      "Train f1_macro: 0.3841697013954402\n",
      "\n",
      "Train f1_weighted: 0.8530444439126763\n",
      "\n"
     ]
    },
    {
     "name": "stderr",
     "output_type": "stream",
     "text": [
      "loop over test batches: 100%|███████████████████████████████████████████████████████████████████████████████████████████████████████████████████████████████████████████████████████████████████████████████████████████| 3465/3465 [00:53<00:00, 65.37it/s]\n"
     ]
    },
    {
     "name": "stdout",
     "output_type": "stream",
     "text": [
      "Test loss:  0.13871364696986146\n",
      "\n",
      "Test accuracy: 0.961911685411072\n",
      "\n",
      "Test precision_micro: 0.961911685411072\n",
      "\n",
      "Test precision_macro: 0.8787586983707696\n",
      "\n",
      "Test precision_weighted: 0.9556055997017343\n",
      "\n",
      "Test recall_micro: 0.961911685411072\n",
      "\n",
      "Test recall_macro: 0.8823269327012959\n",
      "\n",
      "Test recall_weighted: 0.961911685411072\n",
      "\n",
      "Test f1_micro: 0.961911685411072\n",
      "\n",
      "Test f1_macro: 0.8769276077459088\n",
      "\n",
      "Test f1_weighted: 0.9565974393078427\n",
      "\n",
      "Epoch [2 / 5]\n",
      "\n"
     ]
    },
    {
     "name": "stderr",
     "output_type": "stream",
     "text": [
      "loop over train batches: 100%|████████████████████████████████████████████████████████████████████████████████████████████████████████████████████████████████████████████████████████████████████████████████████████████| 235/235 [00:12<00:00, 18.81it/s]\n"
     ]
    },
    {
     "name": "stdout",
     "output_type": "stream",
     "text": [
      "Train loss: 0.1012370136982583\n",
      "\n",
      "Train accuracy: 0.9737966358310938\n",
      "\n",
      "Train precision_micro: 0.9737966358310938\n",
      "\n",
      "Train precision_macro: 0.8661274348256655\n",
      "\n",
      "Train precision_weighted: 0.973863616944376\n",
      "\n",
      "Train recall_micro: 0.9737966358310938\n",
      "\n",
      "Train recall_macro: 0.8253742683108722\n",
      "\n",
      "Train recall_weighted: 0.9737966358310938\n",
      "\n",
      "Train f1_micro: 0.9737966358310938\n",
      "\n",
      "Train f1_macro: 0.8324245795451286\n",
      "\n",
      "Train f1_weighted: 0.9726667439465178\n",
      "\n"
     ]
    },
    {
     "name": "stderr",
     "output_type": "stream",
     "text": [
      "loop over test batches: 100%|███████████████████████████████████████████████████████████████████████████████████████████████████████████████████████████████████████████████████████████████████████████████████████████| 3465/3465 [00:53<00:00, 65.16it/s]\n"
     ]
    },
    {
     "name": "stdout",
     "output_type": "stream",
     "text": [
      "Test loss:  0.08088332592023531\n",
      "\n",
      "Test accuracy: 0.9781817874474665\n",
      "\n",
      "Test precision_micro: 0.9781817874474665\n",
      "\n",
      "Test precision_macro: 0.926461574323873\n",
      "\n",
      "Test precision_weighted: 0.9782847438915051\n",
      "\n",
      "Test recall_micro: 0.9781817874474665\n",
      "\n",
      "Test recall_macro: 0.925616476037443\n",
      "\n",
      "Test recall_weighted: 0.9781817874474665\n",
      "\n",
      "Test f1_micro: 0.9781817874474665\n",
      "\n",
      "Test f1_macro: 0.9233986934697166\n",
      "\n",
      "Test f1_weighted: 0.9766262247824257\n",
      "\n",
      "Epoch [3 / 5]\n",
      "\n"
     ]
    },
    {
     "name": "stderr",
     "output_type": "stream",
     "text": [
      "loop over train batches: 100%|████████████████████████████████████████████████████████████████████████████████████████████████████████████████████████████████████████████████████████████████████████████████████████████| 235/235 [00:12<00:00, 18.43it/s]\n"
     ]
    },
    {
     "name": "stdout",
     "output_type": "stream",
     "text": [
      "Train loss: 0.06399727662668583\n",
      "\n",
      "Train accuracy: 0.9847688782614639\n",
      "\n",
      "Train precision_micro: 0.9847688782614639\n",
      "\n",
      "Train precision_macro: 0.9196932096550217\n",
      "\n",
      "Train precision_weighted: 0.9852946432311077\n",
      "\n",
      "Train recall_micro: 0.9847688782614639\n",
      "\n",
      "Train recall_macro: 0.9096048115972915\n",
      "\n",
      "Train recall_weighted: 0.9847688782614639\n",
      "\n",
      "Train f1_micro: 0.9847688782614639\n",
      "\n",
      "Train f1_macro: 0.9080341452144153\n",
      "\n",
      "Train f1_weighted: 0.9844636893822987\n",
      "\n"
     ]
    },
    {
     "name": "stderr",
     "output_type": "stream",
     "text": [
      "loop over test batches: 100%|███████████████████████████████████████████████████████████████████████████████████████████████████████████████████████████████████████████████████████████████████████████████████████████| 3465/3465 [00:53<00:00, 65.27it/s]\n"
     ]
    },
    {
     "name": "stdout",
     "output_type": "stream",
     "text": [
      "Test loss:  0.06933031315511444\n",
      "\n",
      "Test accuracy: 0.980094649370914\n",
      "\n",
      "Test precision_micro: 0.980094649370914\n",
      "\n",
      "Test precision_macro: 0.9331092105325274\n",
      "\n",
      "Test precision_weighted: 0.9826328204742063\n",
      "\n",
      "Test recall_micro: 0.980094649370914\n",
      "\n",
      "Test recall_macro: 0.9322115735390443\n",
      "\n",
      "Test recall_weighted: 0.980094649370914\n",
      "\n",
      "Test f1_micro: 0.980094649370914\n",
      "\n",
      "Test f1_macro: 0.9302311215317768\n",
      "\n",
      "Test f1_weighted: 0.9798565180317087\n",
      "\n",
      "Epoch [4 / 5]\n",
      "\n"
     ]
    },
    {
     "name": "stderr",
     "output_type": "stream",
     "text": [
      "loop over train batches: 100%|████████████████████████████████████████████████████████████████████████████████████████████████████████████████████████████████████████████████████████████████████████████████████████████| 235/235 [00:12<00:00, 18.81it/s]\n"
     ]
    },
    {
     "name": "stdout",
     "output_type": "stream",
     "text": [
      "Train loss: 0.04503501777319198\n",
      "\n",
      "Train accuracy: 0.9901259867125181\n",
      "\n",
      "Train precision_micro: 0.9901259867125181\n",
      "\n",
      "Train precision_macro: 0.9489204881009029\n",
      "\n",
      "Train precision_weighted: 0.9906819357421106\n",
      "\n",
      "Train recall_micro: 0.9901259867125181\n",
      "\n",
      "Train recall_macro: 0.9436608476037512\n",
      "\n",
      "Train recall_weighted: 0.9901259867125181\n",
      "\n",
      "Train f1_micro: 0.9901259867125181\n",
      "\n",
      "Train f1_macro: 0.9417568535430172\n",
      "\n",
      "Train f1_weighted: 0.990054488165503\n",
      "\n"
     ]
    },
    {
     "name": "stderr",
     "output_type": "stream",
     "text": [
      "loop over test batches: 100%|███████████████████████████████████████████████████████████████████████████████████████████████████████████████████████████████████████████████████████████████████████████████████████████| 3465/3465 [00:52<00:00, 65.42it/s]\n"
     ]
    },
    {
     "name": "stdout",
     "output_type": "stream",
     "text": [
      "Test loss:  0.06643561943282822\n",
      "\n",
      "Test accuracy: 0.9810373250693052\n",
      "\n",
      "Test precision_micro: 0.9810373250693052\n",
      "\n",
      "Test precision_macro: 0.9368542905961545\n",
      "\n",
      "Test precision_weighted: 0.9835434340311133\n",
      "\n",
      "Test recall_micro: 0.9810373250693052\n",
      "\n",
      "Test recall_macro: 0.9364411046225435\n",
      "\n",
      "Test recall_weighted: 0.9810373250693052\n",
      "\n",
      "Test f1_micro: 0.9810373250693052\n",
      "\n",
      "Test f1_macro: 0.9343681512573858\n",
      "\n",
      "Test f1_weighted: 0.9809943850402331\n",
      "\n",
      "Epoch [5 / 5]\n",
      "\n"
     ]
    },
    {
     "name": "stderr",
     "output_type": "stream",
     "text": [
      "loop over train batches: 100%|████████████████████████████████████████████████████████████████████████████████████████████████████████████████████████████████████████████████████████████████████████████████████████████| 235/235 [00:12<00:00, 18.98it/s]\n"
     ]
    },
    {
     "name": "stdout",
     "output_type": "stream",
     "text": [
      "Train loss: 0.033814301740061094\n",
      "\n",
      "Train accuracy: 0.9933697839421101\n",
      "\n",
      "Train precision_micro: 0.9933697839421101\n",
      "\n",
      "Train precision_macro: 0.9620467722474243\n",
      "\n",
      "Train precision_weighted: 0.9937330391071265\n",
      "\n",
      "Train recall_micro: 0.9933697839421101\n",
      "\n",
      "Train recall_macro: 0.9634476777471604\n",
      "\n",
      "Train recall_weighted: 0.9933697839421101\n",
      "\n",
      "Train f1_micro: 0.9933697839421101\n",
      "\n",
      "Train f1_macro: 0.9599004087929544\n",
      "\n",
      "Train f1_weighted: 0.9933648726403763\n",
      "\n"
     ]
    },
    {
     "name": "stderr",
     "output_type": "stream",
     "text": [
      "loop over test batches: 100%|███████████████████████████████████████████████████████████████████████████████████████████████████████████████████████████████████████████████████████████████████████████████████████████| 3465/3465 [00:52<00:00, 65.39it/s]\n"
     ]
    },
    {
     "name": "stdout",
     "output_type": "stream",
     "text": [
      "Test loss:  0.06614975315065279\n",
      "\n",
      "Test accuracy: 0.9825692478206336\n",
      "\n",
      "Test precision_micro: 0.9825692478206336\n",
      "\n",
      "Test precision_macro: 0.9412017172646593\n",
      "\n",
      "Test precision_weighted: 0.9842219393587178\n",
      "\n",
      "Test recall_micro: 0.9825692478206336\n",
      "\n",
      "Test recall_macro: 0.9402986437069282\n",
      "\n",
      "Test recall_weighted: 0.9825692478206336\n",
      "\n",
      "Test f1_micro: 0.9825692478206336\n",
      "\n",
      "Test f1_macro: 0.9386416966801447\n",
      "\n",
      "Test f1_weighted: 0.9821495018903412\n",
      "\n",
      "------------------------------------------------------------Test results------------------------------------------------------------\n"
     ]
    },
    {
     "name": "stderr",
     "output_type": "stream",
     "text": [
      "loop over test batches: 100%|███████████████████████████████████████████████████████████████████████████████████████████████████████████████████████████████████████████████████████████████████████████████████████████| 3683/3683 [00:56<00:00, 65.30it/s]\n"
     ]
    },
    {
     "name": "stdout",
     "output_type": "stream",
     "text": [
      "Test loss:  0.16422097888280918\n",
      "\n",
      "Test accuracy: 0.963731627277416\n",
      "\n",
      "Test precision_micro: 0.963731627277416\n",
      "\n",
      "Test precision_macro: 0.9102336497735597\n",
      "\n",
      "Test precision_weighted: 0.9674051705191108\n",
      "\n",
      "Test recall_micro: 0.963731627277416\n",
      "\n",
      "Test recall_macro: 0.9098101241421045\n",
      "\n",
      "Test recall_weighted: 0.963731627277416\n",
      "\n",
      "Test f1_micro: 0.963731627277416\n",
      "\n",
      "Test f1_macro: 0.9080265165326777\n",
      "\n",
      "Test f1_weighted: 0.9642509092450846\n",
      "\n"
     ]
    },
    {
     "name": "stderr",
     "output_type": "stream",
     "text": [
      "Some weights of DistilBertForTokenClassification were not initialized from the model checkpoint at distilbert-base-cased and are newly initialized: ['classifier.bias', 'classifier.weight']\n",
      "You should probably TRAIN this model on a down-stream task to be able to use it for predictions and inference.\n"
     ]
    },
    {
     "name": "stdout",
     "output_type": "stream",
     "text": [
      "Epoch [1 / 5]\n",
      "\n"
     ]
    },
    {
     "name": "stderr",
     "output_type": "stream",
     "text": [
      "loop over train batches: 100%|████████████████████████████████████████████████████████████████████████████████████████████████████████████████████████████████████████████████████████████████████████████████████████████| 469/469 [00:18<00:00, 24.76it/s]\n"
     ]
    },
    {
     "name": "stdout",
     "output_type": "stream",
     "text": [
      "Train loss: 0.2866412617012001\n",
      "\n",
      "Train accuracy: 0.9303517524734551\n",
      "\n",
      "Train precision_micro: 0.9303517524734551\n",
      "\n",
      "Train precision_macro: 0.6195267261983491\n",
      "\n",
      "Train precision_weighted: 0.9073731769226474\n",
      "\n",
      "Train recall_micro: 0.9303517524734551\n",
      "\n",
      "Train recall_macro: 0.5952597993990246\n",
      "\n",
      "Train recall_weighted: 0.9303517524734551\n",
      "\n",
      "Train f1_micro: 0.9303517524734551\n",
      "\n",
      "Train f1_macro: 0.5898123292501283\n",
      "\n",
      "Train f1_weighted: 0.9147563637409595\n",
      "\n"
     ]
    },
    {
     "name": "stderr",
     "output_type": "stream",
     "text": [
      "loop over test batches: 100%|███████████████████████████████████████████████████████████████████████████████████████████████████████████████████████████████████████████████████████████████████████████████████████████| 3465/3465 [00:53<00:00, 65.24it/s]\n"
     ]
    },
    {
     "name": "stdout",
     "output_type": "stream",
     "text": [
      "Test loss:  0.09219923807401478\n",
      "\n",
      "Test accuracy: 0.9743067596133568\n",
      "\n",
      "Test precision_micro: 0.9743067596133568\n",
      "\n",
      "Test precision_macro: 0.9138210715184967\n",
      "\n",
      "Test precision_weighted: 0.9785565401508047\n",
      "\n",
      "Test recall_micro: 0.9743067596133568\n",
      "\n",
      "Test recall_macro: 0.9137325411237974\n",
      "\n",
      "Test recall_weighted: 0.9743067596133568\n",
      "\n",
      "Test f1_micro: 0.9743067596133568\n",
      "\n",
      "Test f1_macro: 0.9106610507789765\n",
      "\n",
      "Test f1_weighted: 0.9746170818633547\n",
      "\n",
      "Epoch [2 / 5]\n",
      "\n"
     ]
    },
    {
     "name": "stderr",
     "output_type": "stream",
     "text": [
      "loop over train batches: 100%|████████████████████████████████████████████████████████████████████████████████████████████████████████████████████████████████████████████████████████████████████████████████████████████| 469/469 [00:18<00:00, 24.96it/s]\n"
     ]
    },
    {
     "name": "stdout",
     "output_type": "stream",
     "text": [
      "Train loss: 0.07385191459979203\n",
      "\n",
      "Train accuracy: 0.9815851868869213\n",
      "\n",
      "Train precision_micro: 0.9815851868869213\n",
      "\n",
      "Train precision_macro: 0.9028103108968637\n",
      "\n",
      "Train precision_weighted: 0.9827593029417441\n",
      "\n",
      "Train recall_micro: 0.9815851868869213\n",
      "\n",
      "Train recall_macro: 0.8900622504085142\n",
      "\n",
      "Train recall_weighted: 0.9815851868869213\n",
      "\n",
      "Train f1_micro: 0.9815851868869213\n",
      "\n",
      "Train f1_macro: 0.8866916570522778\n",
      "\n",
      "Train f1_weighted: 0.9811264966869689\n",
      "\n"
     ]
    },
    {
     "name": "stderr",
     "output_type": "stream",
     "text": [
      "loop over test batches: 100%|███████████████████████████████████████████████████████████████████████████████████████████████████████████████████████████████████████████████████████████████████████████████████████████| 3465/3465 [00:53<00:00, 65.29it/s]\n"
     ]
    },
    {
     "name": "stdout",
     "output_type": "stream",
     "text": [
      "Test loss:  0.07145123286982447\n",
      "\n",
      "Test accuracy: 0.9794444306381935\n",
      "\n",
      "Test precision_micro: 0.9794444306381935\n",
      "\n",
      "Test precision_macro: 0.9326050926323617\n",
      "\n",
      "Test precision_weighted: 0.9819175846429303\n",
      "\n",
      "Test recall_micro: 0.9794444306381935\n",
      "\n",
      "Test recall_macro: 0.9314243046783285\n",
      "\n",
      "Test recall_weighted: 0.9794444306381935\n",
      "\n",
      "Test f1_micro: 0.9794444306381935\n",
      "\n",
      "Test f1_macro: 0.929455081122215\n",
      "\n",
      "Test f1_weighted: 0.9791453203386175\n",
      "\n",
      "Epoch [3 / 5]\n",
      "\n"
     ]
    },
    {
     "name": "stderr",
     "output_type": "stream",
     "text": [
      "loop over train batches: 100%|████████████████████████████████████████████████████████████████████████████████████████████████████████████████████████████████████████████████████████████████████████████████████████████| 469/469 [00:18<00:00, 24.86it/s]\n"
     ]
    },
    {
     "name": "stdout",
     "output_type": "stream",
     "text": [
      "Train loss: 0.04639055393934091\n",
      "\n",
      "Train accuracy: 0.9896469616489456\n",
      "\n",
      "Train precision_micro: 0.9896469616489456\n",
      "\n",
      "Train precision_macro: 0.9430701737671278\n",
      "\n",
      "Train precision_weighted: 0.9905405272718422\n",
      "\n",
      "Train recall_micro: 0.9896469616489456\n",
      "\n",
      "Train recall_macro: 0.9408267652704658\n",
      "\n",
      "Train recall_weighted: 0.9896469616489456\n",
      "\n",
      "Train f1_micro: 0.9896469616489456\n",
      "\n",
      "Train f1_macro: 0.9364142711963361\n",
      "\n",
      "Train f1_weighted: 0.9895735289632047\n",
      "\n"
     ]
    },
    {
     "name": "stderr",
     "output_type": "stream",
     "text": [
      "loop over test batches: 100%|███████████████████████████████████████████████████████████████████████████████████████████████████████████████████████████████████████████████████████████████████████████████████████████| 3465/3465 [00:53<00:00, 65.29it/s]\n"
     ]
    },
    {
     "name": "stdout",
     "output_type": "stream",
     "text": [
      "Test loss:  0.06840005046668282\n",
      "\n",
      "Test accuracy: 0.9821732561465065\n",
      "\n",
      "Test precision_micro: 0.9821732561465065\n",
      "\n",
      "Test precision_macro: 0.9411060147555688\n",
      "\n",
      "Test precision_weighted: 0.9820985603340904\n",
      "\n",
      "Test recall_micro: 0.9821732561465065\n",
      "\n",
      "Test recall_macro: 0.9402639819146011\n",
      "\n",
      "Test recall_weighted: 0.9821732561465065\n",
      "\n",
      "Test f1_micro: 0.9821732561465065\n",
      "\n",
      "Test f1_macro: 0.9385166925795845\n",
      "\n",
      "Test f1_weighted: 0.9808832929819292\n",
      "\n",
      "Epoch [4 / 5]\n",
      "\n"
     ]
    },
    {
     "name": "stderr",
     "output_type": "stream",
     "text": [
      "loop over train batches: 100%|████████████████████████████████████████████████████████████████████████████████████████████████████████████████████████████████████████████████████████████████████████████████████████████| 469/469 [00:18<00:00, 24.95it/s]\n"
     ]
    },
    {
     "name": "stdout",
     "output_type": "stream",
     "text": [
      "Train loss: 0.031172551116399737\n",
      "\n",
      "Train accuracy: 0.993905814596258\n",
      "\n",
      "Train precision_micro: 0.993905814596258\n",
      "\n",
      "Train precision_macro: 0.9657433800727594\n",
      "\n",
      "Train precision_weighted: 0.9944378405019535\n",
      "\n",
      "Train recall_micro: 0.993905814596258\n",
      "\n",
      "Train recall_macro: 0.9653818854635097\n",
      "\n",
      "Train recall_weighted: 0.993905814596258\n",
      "\n",
      "Train f1_micro: 0.993905814596258\n",
      "\n",
      "Train f1_macro: 0.9623005350739783\n",
      "\n",
      "Train f1_weighted: 0.9938853474088116\n",
      "\n"
     ]
    },
    {
     "name": "stderr",
     "output_type": "stream",
     "text": [
      "loop over test batches: 100%|███████████████████████████████████████████████████████████████████████████████████████████████████████████████████████████████████████████████████████████████████████████████████████████| 3465/3465 [00:53<00:00, 65.10it/s]\n"
     ]
    },
    {
     "name": "stdout",
     "output_type": "stream",
     "text": [
      "Test loss:  0.06460333634016721\n",
      "\n",
      "Test accuracy: 0.9825088012174278\n",
      "\n",
      "Test precision_micro: 0.9825088012174278\n",
      "\n",
      "Test precision_macro: 0.9416800339251117\n",
      "\n",
      "Test precision_weighted: 0.9847324701639437\n",
      "\n",
      "Test recall_micro: 0.9825088012174278\n",
      "\n",
      "Test recall_macro: 0.941471451007505\n",
      "\n",
      "Test recall_weighted: 0.9825088012174278\n",
      "\n",
      "Test f1_micro: 0.9825088012174278\n",
      "\n",
      "Test f1_macro: 0.9393172383121567\n",
      "\n",
      "Test f1_weighted: 0.9823598030176465\n",
      "\n",
      "Epoch [5 / 5]\n",
      "\n"
     ]
    },
    {
     "name": "stderr",
     "output_type": "stream",
     "text": [
      "loop over train batches: 100%|████████████████████████████████████████████████████████████████████████████████████████████████████████████████████████████████████████████████████████████████████████████████████████████| 469/469 [00:18<00:00, 24.68it/s]\n"
     ]
    },
    {
     "name": "stdout",
     "output_type": "stream",
     "text": [
      "Train loss: 0.022536565991007347\n",
      "\n",
      "Train accuracy: 0.9962166328334512\n",
      "\n",
      "Train precision_micro: 0.9962166328334512\n",
      "\n",
      "Train precision_macro: 0.9784367246101074\n",
      "\n",
      "Train precision_weighted: 0.9965854014444283\n",
      "\n",
      "Train recall_micro: 0.9962166328334512\n",
      "\n",
      "Train recall_macro: 0.9796896515004649\n",
      "\n",
      "Train recall_weighted: 0.9962166328334512\n",
      "\n",
      "Train f1_micro: 0.9962166328334512\n",
      "\n",
      "Train f1_macro: 0.9769375471063129\n",
      "\n",
      "Train f1_weighted: 0.9962142532569361\n",
      "\n"
     ]
    },
    {
     "name": "stderr",
     "output_type": "stream",
     "text": [
      "loop over test batches: 100%|███████████████████████████████████████████████████████████████████████████████████████████████████████████████████████████████████████████████████████████████████████████████████████████| 3465/3465 [00:53<00:00, 64.92it/s]\n"
     ]
    },
    {
     "name": "stdout",
     "output_type": "stream",
     "text": [
      "Test loss:  0.06671013310377356\n",
      "\n",
      "Test accuracy: 0.9833007600833967\n",
      "\n",
      "Test precision_micro: 0.9833007600833967\n",
      "\n",
      "Test precision_macro: 0.9442561157443565\n",
      "\n",
      "Test precision_weighted: 0.9842694901211567\n",
      "\n",
      "Test recall_micro: 0.9833007600833967\n",
      "\n",
      "Test recall_macro: 0.9435338000466474\n",
      "\n",
      "Test recall_weighted: 0.9833007600833967\n",
      "\n",
      "Test f1_micro: 0.9833007600833967\n",
      "\n",
      "Test f1_macro: 0.941803451438317\n",
      "\n",
      "Test f1_weighted: 0.9825751828893221\n",
      "\n",
      "------------------------------------------------------------Test results------------------------------------------------------------\n"
     ]
    },
    {
     "name": "stderr",
     "output_type": "stream",
     "text": [
      "loop over test batches: 100%|███████████████████████████████████████████████████████████████████████████████████████████████████████████████████████████████████████████████████████████████████████████████████████████| 3683/3683 [00:56<00:00, 65.03it/s]"
     ]
    },
    {
     "name": "stdout",
     "output_type": "stream",
     "text": [
      "Test loss:  0.17391728276602572\n",
      "\n",
      "Test accuracy: 0.9664181197657638\n",
      "\n",
      "Test precision_micro: 0.9664181197657638\n",
      "\n",
      "Test precision_macro: 0.914887922459509\n",
      "\n",
      "Test precision_weighted: 0.969107565754771\n",
      "\n",
      "Test recall_micro: 0.9664181197657638\n",
      "\n",
      "Test recall_macro: 0.9139853477185232\n",
      "\n",
      "Test recall_weighted: 0.9664181197657638\n",
      "\n",
      "Test f1_micro: 0.9664181197657638\n",
      "\n",
      "Test f1_macro: 0.912403338524816\n",
      "\n",
      "Test f1_weighted: 0.9663834918590699\n",
      "\n"
     ]
    },
    {
     "name": "stderr",
     "output_type": "stream",
     "text": [
      "\n"
     ]
    }
   ],
   "source": [
    "for batch_size in (128, 64, 32):\n",
    "    model = AutoModelForTokenClassification.from_pretrained(model_name,num_labels=len(label2idx),).to(device)\n",
    "    fit_predict(model, 'Transformer', batch_size=batch_size)"
   ]
  },
  {
   "cell_type": "markdown",
   "metadata": {
    "id": "E1fdR7Obc58O"
   },
   "source": [
    "### Выводы\n",
    "Как и с BiLSTM, наблюдается следующая картина: при увеличении batch_size падает качество. С lr то же самое, как и у BiLSTM, при больших значениях может страдать сходимость. А больше как будто и нет гиперпараметров у AutoModelForTokenClassification, с которыми можно поиграться."
   ]
  },
  {
   "cell_type": "markdown",
   "metadata": {
    "id": "5XlI3cb1QEL2"
   },
   "source": [
    "## Часть 4. Бонусы.\n",
    "\n",
    "## Бонус 1: BiLSTMAttention-теггер (2 баллa)\n",
    "\n",
    "Необходимо провести те же самые эксперименты как и в части 2, но уже с использованием усовершенствованной архитектуры теггера BiLSTM с Attention механизмом.\n",
    "\n",
    "**Обратите внимание**, что реализовывать Attention самому не нужно, можно использовать `torch.nn.MultiheadAttention`.\n",
    "\n",
    "Также сделайте выводы о качестве модели, переобучении, чувствительности архитектуры к выбору гиперпараметров и проведите небольшой сравнительный анализ с предыдущей архитектурой. Оформите результаты экспериментов в виде мини-отчета (в этом же ipython notebook).\n",
    "\n",
    "**Задание. Реализуйте класс модели BiLSTMAttn.** **<font color='red'>(1 балл)</font>**"
   ]
  },
  {
   "cell_type": "code",
   "execution_count": null,
   "metadata": {
    "id": "_MyLQp047yID"
   },
   "outputs": [],
   "source": [
    "from torch.nn import Embedding, LSTM, Linear, MultiheadAttention\n",
    "\n",
    "\n",
    "class BiLSTMAttn(torch.nn.Module):\n",
    "    \"\"\"\n",
    "    Bidirectional LSTM architecture.\n",
    "    \"\"\"\n",
    "\n",
    "    def __init__(\n",
    "        self,\n",
    "        num_embeddings: int,\n",
    "        embedding_dim: int,\n",
    "        hidden_size: int,\n",
    "        num_layers: int,\n",
    "        dropout: float,\n",
    "        bidirectional: bool,\n",
    "        n_classes: int,\n",
    "        token_padding_value: int,\n",
    "        max_norm: float,\n",
    "        num_heads: int,\n",
    "    ) -> None:\n",
    "\n",
    "        super().__init__()\n",
    "\n",
    "        self.token_padding_value = token_padding_value\n",
    "        self.embedding = Embedding(num_embeddings, embedding_dim, max_norm=max_norm) # Embedding layer\n",
    "        self.rnn = LSTM(input_size=embedding_dim,\n",
    "                        hidden_size=hidden_size,\n",
    "                        num_layers=num_layers,\n",
    "                        batch_first=True,\n",
    "                        dropout=dropout,\n",
    "                        bidirectional=bidirectional,) # LSTM layer\n",
    "\n",
    "        hidden_size = hidden_size * (1 + bidirectional)\n",
    "        self.q_linear = Linear(hidden_size, hidden_size) # rnn output to q (queries)\n",
    "        self.k_linear = Linear(hidden_size, hidden_size) # rnn output to k (keys)\n",
    "        self.v_linear = Linear(hidden_size, hidden_size) # rnn output to v 9values)\n",
    "        self.multihead_attn = MultiheadAttention(hidden_size, num_heads, batch_first=True) # MultiHead Attention\n",
    "        self.head = Linear(hidden_size, n_classes) # Linear layer\n",
    "\n",
    "\n",
    "    def forward(self, tokens: torch.LongTensor) -> torch.Tensor:\n",
    "        \"\"\"\n",
    "        Applying neural network layers to input 'tokens'.\n",
    "\n",
    "        Args:\n",
    "            tokens: the input tensor with tokens ids (batch_size, sequence_len)\n",
    "\n",
    "        Returns:\n",
    "            logits: the scores issued by the model (batch_size, num_classes, sequence_len)\n",
    "        \"\"\"\n",
    "        embed = self.embedding(tokens)\n",
    "\n",
    "        # Используем специальную функцию pack_padded_sequence для того, чтобы получить\n",
    "        # структуру PackedSequence, которая не учитывать паддинг при проходе rnn.\n",
    "        # lengths -- длины исходных исходных последовательностей в батче,\n",
    "        # без учёта сдвига\n",
    "        lengths = (tokens != self.token_padding_value).sum(dim=1).detach().cpu()\n",
    "        packed_embed = torch.nn.utils.rnn.pack_padded_sequence(\n",
    "            input=embed,\n",
    "            lengths=lengths,\n",
    "            batch_first=True,\n",
    "            enforce_sorted=False,\n",
    "        )\n",
    "\n",
    "        # Используем специальную функцию pad_packed_sequence для того, чтобы получить\n",
    "        # тензор из PackedSequence. Операция является обратной к pack_padded_sequence\n",
    "        packed_rnn_output, _ = self.rnn(packed_embed)\n",
    "        rnn_output, _ = torch.nn.utils.rnn.pad_packed_sequence(\n",
    "            sequence=packed_rnn_output,\n",
    "            batch_first=True\n",
    "        )\n",
    "\n",
    "        # ### START CODE HERE ###\n",
    "        query = self.q_linear(rnn_output)\n",
    "        key = self.k_linear(rnn_output)\n",
    "        value = self.v_linear(rnn_output)\n",
    "\n",
    "        key_padding_mask = (tokens == self.token_padding_value)\n",
    "        attn_output, _ = self.multihead_attn(query, key, value, key_padding_mask)\n",
    "        # ### END CODE HERE ###\n",
    "\n",
    "        logits = self.head(attn_output)\n",
    "        logits = logits.transpose(1, 2)\n",
    "        return logits"
   ]
  },
  {
   "cell_type": "markdown",
   "metadata": {
    "id": "ezh9kLTkQEL9"
   },
   "source": [
    "**Задание. Проведите эксперименты и побейте метрику из части 2.** **<font color='red'>(1 балл)</font>**\n",
    "\n",
    "P.S. Eсли качества увеличить не получилось, это нужно обосновать"
   ]
  },
  {
   "cell_type": "code",
   "execution_count": null,
   "metadata": {
    "id": "sE1C1tzEQEL-"
   },
   "outputs": [],
   "source": [
    "train_dataset = NERDataset(\n",
    "    token_seq=train_token_seq,\n",
    "    label_seq=train_label_seq,\n",
    "    token2idx=token2idx,\n",
    "    label2idx=label2idx,\n",
    ")\n",
    "valid_dataset = NERDataset(\n",
    "    token_seq=valid_token_seq,\n",
    "    label_seq=valid_label_seq,\n",
    "    token2idx=token2idx,\n",
    "    label2idx=label2idx,\n",
    ")\n",
    "test_dataset = NERDataset(\n",
    "    token_seq=test_token_seq,\n",
    "    label_seq=test_label_seq,\n",
    "    token2idx=token2idx,\n",
    "    label2idx=label2idx,\n",
    ")\n",
    "\n",
    "collator = NERCollator(\n",
    "    token_padding_value=token2idx[\"<PAD>\"],\n",
    "    label_padding_value=-1,\n",
    ")\n",
    "\n",
    "valid_dataloader = torch.utils.data.DataLoader(\n",
    "    valid_dataset,\n",
    "    batch_size=1,  # для корректных замеров метрик оставить batch_size=1\n",
    "    shuffle=False, # для корректных замеров метрик оставить shuffle=False\n",
    "    collate_fn=collator,\n",
    ")\n",
    "test_dataloader = torch.utils.data.DataLoader(\n",
    "    test_dataset,\n",
    "    batch_size=1,  # для корректных замеров метрик оставить batch_size=1\n",
    "    shuffle=False, # для корректных замеров метрик оставить shuffle=False\n",
    "    collate_fn=collator,\n",
    ")\n"
   ]
  },
  {
   "cell_type": "code",
   "execution_count": null,
   "metadata": {
    "id": "MvESUF7FVAjD",
    "outputId": "b84014c5-1ef4-403f-aedd-2451356fc3f9",
    "scrolled": true
   },
   "outputs": [
    {
     "name": "stdout",
     "output_type": "stream",
     "text": [
      "Epoch [1 / 5]\n",
      "\n"
     ]
    },
    {
     "name": "stderr",
     "output_type": "stream",
     "text": [
      "loop over train batches: 100%|██████████████████████████████████████████████████████████████████████████████████████████████████████████████████████████████████████████████████████████████████████████████████████████| 7493/7493 [02:24<00:00, 51.77it/s]\n"
     ]
    },
    {
     "name": "stdout",
     "output_type": "stream",
     "text": [
      "Train loss: 0.5225196916636272\n",
      "\n",
      "Train accuracy: 0.8552253816679944\n",
      "\n",
      "Train precision_micro: 0.8552253816679944\n",
      "\n",
      "Train precision_macro: 0.4496589559788727\n",
      "\n",
      "Train precision_weighted: 0.7800979714105729\n",
      "\n",
      "Train recall_micro: 0.8552253816679944\n",
      "\n",
      "Train recall_macro: 0.4933242985011431\n",
      "\n",
      "Train recall_weighted: 0.8552253816679944\n",
      "\n",
      "Train f1_micro: 0.8552253816679944\n",
      "\n",
      "Train f1_macro: 0.4609630854393901\n",
      "\n",
      "Train f1_weighted: 0.8098207317979577\n",
      "\n"
     ]
    },
    {
     "name": "stderr",
     "output_type": "stream",
     "text": [
      "loop over test batches: 100%|███████████████████████████████████████████████████████████████████████████████████████████████████████████████████████████████████████████████████████████████████████████████████████████| 3465/3465 [00:44<00:00, 78.00it/s]\n"
     ]
    },
    {
     "name": "stdout",
     "output_type": "stream",
     "text": [
      "Test loss:  0.42993498257702617\n",
      "\n",
      "Test accuracy: 0.8709535078398385\n",
      "\n",
      "Test precision_micro: 0.8709535078398385\n",
      "\n",
      "Test precision_macro: 0.6446080068554689\n",
      "\n",
      "Test precision_weighted: 0.8228351823197142\n",
      "\n",
      "Test recall_micro: 0.8709535078398385\n",
      "\n",
      "Test recall_macro: 0.681177682134868\n",
      "\n",
      "Test recall_weighted: 0.8709535078398385\n",
      "\n",
      "Test f1_micro: 0.8709535078398385\n",
      "\n",
      "Test f1_macro: 0.6537048387808498\n",
      "\n",
      "Test f1_weighted: 0.8391686359204665\n",
      "\n",
      "Epoch [2 / 5]\n",
      "\n"
     ]
    },
    {
     "name": "stderr",
     "output_type": "stream",
     "text": [
      "loop over train batches: 100%|██████████████████████████████████████████████████████████████████████████████████████████████████████████████████████████████████████████████████████████████████████████████████████████| 7493/7493 [02:24<00:00, 51.85it/s]\n"
     ]
    },
    {
     "name": "stdout",
     "output_type": "stream",
     "text": [
      "Train loss: 0.2603042209449137\n",
      "\n",
      "Train accuracy: 0.92907764569694\n",
      "\n",
      "Train precision_micro: 0.92907764569694\n",
      "\n",
      "Train precision_macro: 0.6966855301833482\n",
      "\n",
      "Train precision_weighted: 0.9097975750024943\n",
      "\n",
      "Train recall_micro: 0.92907764569694\n",
      "\n",
      "Train recall_macro: 0.709008595424707\n",
      "\n",
      "Train recall_weighted: 0.92907764569694\n",
      "\n",
      "Train f1_micro: 0.92907764569694\n",
      "\n",
      "Train f1_macro: 0.6917034356459862\n",
      "\n",
      "Train f1_weighted: 0.9146739232637968\n",
      "\n"
     ]
    },
    {
     "name": "stderr",
     "output_type": "stream",
     "text": [
      "loop over test batches: 100%|███████████████████████████████████████████████████████████████████████████████████████████████████████████████████████████████████████████████████████████████████████████████████████████| 3465/3465 [00:44<00:00, 78.66it/s]\n"
     ]
    },
    {
     "name": "stdout",
     "output_type": "stream",
     "text": [
      "Test loss:  0.32346624753676667\n",
      "\n",
      "Test accuracy: 0.9045728707842274\n",
      "\n",
      "Test precision_micro: 0.9045728707842274\n",
      "\n",
      "Test precision_macro: 0.7387335170983454\n",
      "\n",
      "Test precision_weighted: 0.8768031661831324\n",
      "\n",
      "Test recall_micro: 0.9045728707842274\n",
      "\n",
      "Test recall_macro: 0.7604461306999017\n",
      "\n",
      "Test recall_weighted: 0.9045728707842274\n",
      "\n",
      "Test f1_micro: 0.9045728707842274\n",
      "\n",
      "Test f1_macro: 0.7411636282918777\n",
      "\n",
      "Test f1_weighted: 0.8849304178040118\n",
      "\n",
      "Epoch [3 / 5]\n",
      "\n"
     ]
    },
    {
     "name": "stderr",
     "output_type": "stream",
     "text": [
      "loop over train batches: 100%|██████████████████████████████████████████████████████████████████████████████████████████████████████████████████████████████████████████████████████████████████████████████████████████| 7493/7493 [02:24<00:00, 51.91it/s]\n"
     ]
    },
    {
     "name": "stdout",
     "output_type": "stream",
     "text": [
      "Train loss: 0.16613004664565895\n",
      "\n",
      "Train accuracy: 0.9575417911867654\n",
      "\n",
      "Train precision_micro: 0.9575417911867654\n",
      "\n",
      "Train precision_macro: 0.8060000086254124\n",
      "\n",
      "Train precision_weighted: 0.9501999769124136\n",
      "\n",
      "Train recall_micro: 0.9575417911867654\n",
      "\n",
      "Train recall_macro: 0.8118416645233467\n",
      "\n",
      "Train recall_weighted: 0.9575417911867654\n",
      "\n",
      "Train f1_micro: 0.9575417911867654\n",
      "\n",
      "Train f1_macro: 0.8001267352952031\n",
      "\n",
      "Train f1_weighted: 0.9506047456584439\n",
      "\n"
     ]
    },
    {
     "name": "stderr",
     "output_type": "stream",
     "text": [
      "loop over test batches: 100%|███████████████████████████████████████████████████████████████████████████████████████████████████████████████████████████████████████████████████████████████████████████████████████████| 3465/3465 [00:44<00:00, 78.55it/s]\n"
     ]
    },
    {
     "name": "stdout",
     "output_type": "stream",
     "text": [
      "Test loss:  0.2831975045606032\n",
      "\n",
      "Test accuracy: 0.9230370427904931\n",
      "\n",
      "Test precision_micro: 0.9230370427904931\n",
      "\n",
      "Test precision_macro: 0.7836934285737371\n",
      "\n",
      "Test precision_weighted: 0.9079028396798908\n",
      "\n",
      "Test recall_micro: 0.9230370427904931\n",
      "\n",
      "Test recall_macro: 0.795980275783802\n",
      "\n",
      "Test recall_weighted: 0.9230370427904931\n",
      "\n",
      "Test f1_micro: 0.9230370427904931\n",
      "\n",
      "Test f1_macro: 0.7828364506452505\n",
      "\n",
      "Test f1_weighted: 0.9107323551700282\n",
      "\n",
      "Epoch [4 / 5]\n",
      "\n"
     ]
    },
    {
     "name": "stderr",
     "output_type": "stream",
     "text": [
      "loop over train batches: 100%|██████████████████████████████████████████████████████████████████████████████████████████████████████████████████████████████████████████████████████████████████████████████████████████| 7493/7493 [02:24<00:00, 51.88it/s]\n"
     ]
    },
    {
     "name": "stdout",
     "output_type": "stream",
     "text": [
      "Train loss: 0.11524873272499199\n",
      "\n",
      "Train accuracy: 0.9728750711557098\n",
      "\n",
      "Train precision_micro: 0.9728750711557098\n",
      "\n",
      "Train precision_macro: 0.8701587915973363\n",
      "\n",
      "Train precision_weighted: 0.9692629484980627\n",
      "\n",
      "Train recall_micro: 0.9728750711557098\n",
      "\n",
      "Train recall_macro: 0.873169496813331\n",
      "\n",
      "Train recall_weighted: 0.9728750711557098\n",
      "\n",
      "Train f1_micro: 0.9728750711557098\n",
      "\n",
      "Train f1_macro: 0.8654186352307639\n",
      "\n",
      "Train f1_weighted: 0.9689269197202073\n",
      "\n"
     ]
    },
    {
     "name": "stderr",
     "output_type": "stream",
     "text": [
      "loop over test batches: 100%|███████████████████████████████████████████████████████████████████████████████████████████████████████████████████████████████████████████████████████████████████████████████████████████| 3465/3465 [00:44<00:00, 78.32it/s]\n"
     ]
    },
    {
     "name": "stdout",
     "output_type": "stream",
     "text": [
      "Test loss:  0.2808436948004152\n",
      "\n",
      "Test accuracy: 0.9232253465752039\n",
      "\n",
      "Test precision_micro: 0.9232253465752039\n",
      "\n",
      "Test precision_macro: 0.7875763295224719\n",
      "\n",
      "Test precision_weighted: 0.90639893491612\n",
      "\n",
      "Test recall_micro: 0.9232253465752039\n",
      "\n",
      "Test recall_macro: 0.7987448318105912\n",
      "\n",
      "Test recall_weighted: 0.9232253465752039\n",
      "\n",
      "Test f1_micro: 0.9232253465752039\n",
      "\n",
      "Test f1_macro: 0.7860253336558172\n",
      "\n",
      "Test f1_weighted: 0.9101534683643222\n",
      "\n",
      "Epoch [5 / 5]\n",
      "\n"
     ]
    },
    {
     "name": "stderr",
     "output_type": "stream",
     "text": [
      "loop over train batches: 100%|██████████████████████████████████████████████████████████████████████████████████████████████████████████████████████████████████████████████████████████████████████████████████████████| 7493/7493 [02:24<00:00, 51.73it/s]\n"
     ]
    },
    {
     "name": "stdout",
     "output_type": "stream",
     "text": [
      "Train loss: 0.0838358496988506\n",
      "\n",
      "Train accuracy: 0.9810329241722776\n",
      "\n",
      "Train precision_micro: 0.9810329241722776\n",
      "\n",
      "Train precision_macro: 0.9046571446691775\n",
      "\n",
      "Train precision_weighted: 0.9784496503495176\n",
      "\n",
      "Train recall_micro: 0.9810329241722776\n",
      "\n",
      "Train recall_macro: 0.907236658181292\n",
      "\n",
      "Train recall_weighted: 0.9810329241722776\n",
      "\n",
      "Train f1_micro: 0.9810329241722776\n",
      "\n",
      "Train f1_macro: 0.9013816210690344\n",
      "\n",
      "Train f1_weighted: 0.9782508271072702\n",
      "\n"
     ]
    },
    {
     "name": "stderr",
     "output_type": "stream",
     "text": [
      "loop over test batches: 100%|███████████████████████████████████████████████████████████████████████████████████████████████████████████████████████████████████████████████████████████████████████████████████████████| 3465/3465 [00:44<00:00, 78.05it/s]"
     ]
    },
    {
     "name": "stdout",
     "output_type": "stream",
     "text": [
      "Test loss:  0.3130379401949026\n",
      "\n",
      "Test accuracy: 0.9302256120680552\n",
      "\n",
      "Test precision_micro: 0.9302256120680552\n",
      "\n",
      "Test precision_macro: 0.8115447381849725\n",
      "\n",
      "Test precision_weighted: 0.9130404164551408\n",
      "\n",
      "Test recall_micro: 0.9302256120680552\n",
      "\n",
      "Test recall_macro: 0.8201665095546308\n",
      "\n",
      "Test recall_weighted: 0.9302256120680552\n",
      "\n",
      "Test f1_micro: 0.9302256120680552\n",
      "\n",
      "Test f1_macro: 0.8093279737597283\n",
      "\n",
      "Test f1_weighted: 0.9171826139203266\n",
      "\n"
     ]
    },
    {
     "name": "stderr",
     "output_type": "stream",
     "text": [
      "\n"
     ]
    }
   ],
   "source": [
    "train_dataloader = torch.utils.data.DataLoader(\n",
    "    train_dataset,\n",
    "    batch_size=2,\n",
    "    shuffle=True,\n",
    "    collate_fn=collator,\n",
    ")\n",
    "\n",
    "model = BiLSTMAttn(\n",
    "    num_embeddings=len(token2idx),\n",
    "    embedding_dim=300,\n",
    "    hidden_size=256,\n",
    "    num_layers=1,\n",
    "    dropout=0.0,\n",
    "    bidirectional=True,\n",
    "    n_classes=len(label2idx),\n",
    "    token_padding_value=token2idx[\"<PAD>\"],\n",
    "    max_norm=None,\n",
    "    num_heads=2,\n",
    ").to(device)\n",
    "\n",
    "optimizer = torch.optim.Adam(model.parameters(), lr=1e-4)\n",
    "criterion = torch.nn.CrossEntropyLoss(ignore_index=-1)\n",
    "\n",
    "train(n_epochs=5,\n",
    "      model=model,\n",
    "      train_dataloader=train_dataloader,\n",
    "      valid_dataloader=valid_dataloader,\n",
    "      optimizer=optimizer,\n",
    "      criterion=criterion,\n",
    "      writer=writer,\n",
    "      device=device,\n",
    "      model_type='BiLSTM',\n",
    ")"
   ]
  },
  {
   "cell_type": "code",
   "execution_count": null,
   "metadata": {
    "id": "hoM9h7uic58O",
    "outputId": "609f3648-e29b-4347-8dd9-6dab56edef2d"
   },
   "outputs": [
    {
     "name": "stderr",
     "output_type": "stream",
     "text": [
      "loop over test batches: 100%|███████████████████████████████████████████████████████████████████████████████████████████████████████████████████████████████████████████████████████████████████████████████████████████| 3683/3683 [00:48<00:00, 76.69it/s]"
     ]
    },
    {
     "name": "stdout",
     "output_type": "stream",
     "text": [
      "Test loss:  0.4864954395828474\n",
      "\n",
      "Test accuracy: 0.8943152537153041\n",
      "\n",
      "Test precision_micro: 0.8943152537153041\n",
      "\n",
      "Test precision_macro: 0.7553617193861701\n",
      "\n",
      "Test precision_weighted: 0.871010227712364\n",
      "\n",
      "Test recall_micro: 0.8943152537153041\n",
      "\n",
      "Test recall_macro: 0.7704472843321815\n",
      "\n",
      "Test recall_weighted: 0.8943152537153041\n",
      "\n",
      "Test f1_micro: 0.8943152537153041\n",
      "\n",
      "Test f1_macro: 0.7559563671778905\n",
      "\n",
      "Test f1_weighted: 0.877014346186648\n",
      "\n"
     ]
    },
    {
     "name": "stderr",
     "output_type": "stream",
     "text": [
      "\n"
     ]
    }
   ],
   "source": [
    "evaluate_epoch(\n",
    "    model=model,\n",
    "    dataloader=test_dataloader,\n",
    "    criterion=criterion,\n",
    "    writer=writer,\n",
    "    device=device,\n",
    "    epoch=1,\n",
    "    model_type='BiLSTM'\n",
    "  )"
   ]
  },
  {
   "cell_type": "markdown",
   "metadata": {
    "id": "U8unOqMic58O"
   },
   "source": [
    "По сути тоже самое, что и с BiLSTM, так что новых выводов не будет)"
   ]
  },
  {
   "cell_type": "markdown",
   "metadata": {
    "id": "NpMp9p8xcoeG"
   },
   "source": [
    "## Бонус 2: ChatGPT-теггер (2 балла)"
   ]
  },
  {
   "cell_type": "markdown",
   "metadata": {
    "id": "ffRpFB-ZbRsr"
   },
   "source": [
    "Творческое задание, в котором Вам требуется использовать ChatGPT от OpenAI для разметки именованных сущностей. В этой части Вы вольны использовать любые приемы и ухищрения, чтобы заставить модель классифицировать токены.\n",
    "\n",
    "Ваше задание заключается в следующем:\n",
    "- с помощью ChatGPT разметить первые 30 объектов из test_token_seq;\n",
    "- на размеченных объектах посчитать качество с помощью ранее описанной функции `compute_metrics`;\n",
    "- написать выводы.\n",
    "\n",
    "Один из возможных вариантов, но не единственный  -- использование техники Few-Shot Learning. Суть заключается в том, что модели нужно скормить на вход \"правила игры\", то есть то, что мы будем подавать на вход и что мы ожидаем на выходе. Например:\n",
    "\n",
    "\"eu rejects german call to boycott british lamb . -> B-ORG O B-MISC O O O B-MISC O O\"\n",
    "\n",
    "\"peter blackburn -> B-PER I-PER\"\n",
    "\n",
    "\"the european commission said on thursday it disagreed with german advice to consumers to shun british lamb until scientists determine whether mad cow disease can be transmitted to sheep . -> O B-ORG I-ORG O O O O O O B-MISC O O O O O B-MISC O O O O O O O O O O O O O O\"\n",
    "\n",
    "\"my name is lomonosov ->\" (и тут просим модель выдать ответ).\n",
    "\n",
    "Так делаем для первых 30 последовательностей из тестовой части и считаем метрики качества (размера батча при этом также равен одному).\n",
    "\n",
    "Здесь есть несколько нюансов, которые мы раскрывать не будем. Вам предстоит столкнуться с ними в процессе. Также мы намеренно не предоставляем дополнительных подсказок, предлагая полную свободу действий. Любые нестандартные техники и идеи приветствуются и будут поощераться баллами.\n",
    "\n",
    "**Важные детали**:\n",
    "- Вам нужно зарегистрировать аккаунт в системе OpenAI, лучше всего делать это через Gmail (домен @mail.ru, например, банится и не регистрируется).\n",
    "- Также Вам понадобиться VPN, без него по некоторым причинам не получится зайти на сайт, зарегистрироваться и воспользоваться моделью.\n",
    "- У Вас есть лимит на количество токенов, которые Вы можете обработать, поэтому расходуйте ресурс разумно. Но Вы можете регистрировать несколько аккаутов, пополнять баланс, использовать более \"дорогие\" модели -- здесь на Ваш выбор.\n",
    "- Основной целью этой части задания является показать, что LLM также можно использовать разметке именнованных сущностей. Так как техник очень много, мы предлагаем ориентироваться на порог качества **0.70** и выше по `f1-macro`. Этот порог можно достичь на стандартной версии `gpt-3.5-turbo`, без дополнительных денежных трат, ограничиваясь бесплатным лимитом.\n",
    "- Напишите содержательный вывод и Ваше мнение о целесобразности такого подхода, в чем его преимущества и недостатки, в каких ситуациях он имеет место быть, а где лучше использовать стандартные LSTM/Transformer-модели."
   ]
  },
  {
   "cell_type": "code",
   "execution_count": null,
   "metadata": {
    "id": "d4ZHufzVc58O"
   },
   "outputs": [],
   "source": [
    "test_token_seq[:30]"
   ]
  },
  {
   "cell_type": "code",
   "execution_count": 10,
   "metadata": {
    "colab": {
     "base_uri": "https://localhost:8080/"
    },
    "id": "QqcQWCuz2ZnH",
    "outputId": "2421e190-6083-417c-b021-d533759ccd9b",
    "scrolled": true
   },
   "outputs": [
    {
     "name": "stdout",
     "output_type": "stream",
     "text": [
      "Collecting openai==0.28.1\n",
      "  Downloading openai-0.28.1-py3-none-any.whl.metadata (11 kB)\n",
      "Requirement already satisfied: requests>=2.20 in /usr/local/lib/python3.10/dist-packages (from openai==0.28.1) (2.32.3)\n",
      "Requirement already satisfied: tqdm in /usr/local/lib/python3.10/dist-packages (from openai==0.28.1) (4.66.1)\n",
      "Requirement already satisfied: aiohttp in /usr/local/lib/python3.10/dist-packages (from openai==0.28.1) (3.11.2)\n",
      "Requirement already satisfied: charset-normalizer<4,>=2 in /usr/local/lib/python3.10/dist-packages (from requests>=2.20->openai==0.28.1) (3.4.0)\n",
      "Requirement already satisfied: idna<4,>=2.5 in /usr/local/lib/python3.10/dist-packages (from requests>=2.20->openai==0.28.1) (3.10)\n",
      "Requirement already satisfied: urllib3<3,>=1.21.1 in /usr/local/lib/python3.10/dist-packages (from requests>=2.20->openai==0.28.1) (2.2.3)\n",
      "Requirement already satisfied: certifi>=2017.4.17 in /usr/local/lib/python3.10/dist-packages (from requests>=2.20->openai==0.28.1) (2024.8.30)\n",
      "Requirement already satisfied: aiohappyeyeballs>=2.3.0 in /usr/local/lib/python3.10/dist-packages (from aiohttp->openai==0.28.1) (2.4.3)\n",
      "Requirement already satisfied: aiosignal>=1.1.2 in /usr/local/lib/python3.10/dist-packages (from aiohttp->openai==0.28.1) (1.3.1)\n",
      "Requirement already satisfied: attrs>=17.3.0 in /usr/local/lib/python3.10/dist-packages (from aiohttp->openai==0.28.1) (24.2.0)\n",
      "Requirement already satisfied: frozenlist>=1.1.1 in /usr/local/lib/python3.10/dist-packages (from aiohttp->openai==0.28.1) (1.5.0)\n",
      "Requirement already satisfied: multidict<7.0,>=4.5 in /usr/local/lib/python3.10/dist-packages (from aiohttp->openai==0.28.1) (6.1.0)\n",
      "Requirement already satisfied: propcache>=0.2.0 in /usr/local/lib/python3.10/dist-packages (from aiohttp->openai==0.28.1) (0.2.0)\n",
      "Requirement already satisfied: yarl<2.0,>=1.17.0 in /usr/local/lib/python3.10/dist-packages (from aiohttp->openai==0.28.1) (1.17.2)\n",
      "Requirement already satisfied: async-timeout<6.0,>=4.0 in /usr/local/lib/python3.10/dist-packages (from aiohttp->openai==0.28.1) (4.0.3)\n",
      "Requirement already satisfied: typing-extensions>=4.1.0 in /usr/local/lib/python3.10/dist-packages (from multidict<7.0,>=4.5->aiohttp->openai==0.28.1) (4.12.2)\n",
      "Downloading openai-0.28.1-py3-none-any.whl (76 kB)\n",
      "\u001b[2K   \u001b[90m━━━━━━━━━━━━━━━━━━━━━━━━━━━━━━━━━━━━━━━━\u001b[0m \u001b[32m77.0/77.0 kB\u001b[0m \u001b[31m3.3 MB/s\u001b[0m eta \u001b[36m0:00:00\u001b[0m\n",
      "\u001b[?25hInstalling collected packages: openai\n",
      "  Attempting uninstall: openai\n",
      "    Found existing installation: openai 1.54.4\n",
      "    Uninstalling openai-1.54.4:\n",
      "      Successfully uninstalled openai-1.54.4\n",
      "Successfully installed openai-0.28.1\n"
     ]
    }
   ],
   "source": [
    "!pip install openai==0.28.1"
   ]
  },
  {
   "cell_type": "code",
   "execution_count": 11,
   "metadata": {
    "id": "opn_4LeNTryx"
   },
   "outputs": [],
   "source": [
    "import openai\n",
    "openai.api_key = \"SECRET\""
   ]
  },
  {
   "cell_type": "code",
   "execution_count": 13,
   "metadata": {
    "colab": {
     "base_uri": "https://localhost:8080/",
     "height": 333
    },
    "id": "3xuGUfPtPpKs",
    "outputId": "aa370e1d-60da-4b36-88be-d1b6fcc7edaa"
   },
   "outputs": [
    {
     "ename": "RateLimitError",
     "evalue": "You exceeded your current quota, please check your plan and billing details. For more information on this error, read the docs: https://platform.openai.com/docs/guides/error-codes/api-errors.",
     "output_type": "error",
     "traceback": [
      "\u001b[0;31m---------------------------------------------------------------------------\u001b[0m",
      "\u001b[0;31mRateLimitError\u001b[0m                            Traceback (most recent call last)",
      "\u001b[0;32m<ipython-input-13-c1d06d52d1c4>\u001b[0m in \u001b[0;36m<cell line: 28>\u001b[0;34m()\u001b[0m\n\u001b[1;32m     27\u001b[0m \u001b[0mpredictions\u001b[0m \u001b[0;34m=\u001b[0m \u001b[0;34m[\u001b[0m\u001b[0;34m]\u001b[0m\u001b[0;34m\u001b[0m\u001b[0;34m\u001b[0m\u001b[0m\n\u001b[1;32m     28\u001b[0m \u001b[0;32mfor\u001b[0m \u001b[0msentence\u001b[0m \u001b[0;32min\u001b[0m \u001b[0mtest_token_seq_gpt\u001b[0m\u001b[0;34m:\u001b[0m\u001b[0;34m\u001b[0m\u001b[0;34m\u001b[0m\u001b[0m\n\u001b[0;32m---> 29\u001b[0;31m     \u001b[0mner_tags\u001b[0m \u001b[0;34m=\u001b[0m \u001b[0mclassify_sequence\u001b[0m\u001b[0;34m(\u001b[0m\u001b[0msentence\u001b[0m\u001b[0;34m)\u001b[0m\u001b[0;34m\u001b[0m\u001b[0;34m\u001b[0m\u001b[0m\n\u001b[0m\u001b[1;32m     30\u001b[0m     \u001b[0mpredictions\u001b[0m\u001b[0;34m.\u001b[0m\u001b[0mappend\u001b[0m\u001b[0;34m(\u001b[0m\u001b[0mner_tags\u001b[0m\u001b[0;34m.\u001b[0m\u001b[0msplit\u001b[0m\u001b[0;34m(\u001b[0m\u001b[0;34m)\u001b[0m\u001b[0;34m)\u001b[0m\u001b[0;34m\u001b[0m\u001b[0;34m\u001b[0m\u001b[0m\n",
      "\u001b[0;32m<ipython-input-13-c1d06d52d1c4>\u001b[0m in \u001b[0;36mclassify_sequence\u001b[0;34m(test_sentence)\u001b[0m\n\u001b[1;32m     17\u001b[0m \u001b[0;32mdef\u001b[0m \u001b[0mclassify_sequence\u001b[0m\u001b[0;34m(\u001b[0m\u001b[0mtest_sentence\u001b[0m\u001b[0;34m)\u001b[0m\u001b[0;34m:\u001b[0m\u001b[0;34m\u001b[0m\u001b[0;34m\u001b[0m\u001b[0m\n\u001b[1;32m     18\u001b[0m     \u001b[0mprompt\u001b[0m \u001b[0;34m=\u001b[0m \u001b[0;34mf\"{few_shot_examples}\\nNow classify the following sentence:\\nInput: \\\"{test_sentence}\\\"\\nOutput:\"\u001b[0m\u001b[0;34m\u001b[0m\u001b[0;34m\u001b[0m\u001b[0m\n\u001b[0;32m---> 19\u001b[0;31m     response = openai.ChatCompletion.create(\n\u001b[0m\u001b[1;32m     20\u001b[0m         \u001b[0mmodel\u001b[0m\u001b[0;34m=\u001b[0m\u001b[0;34m\"gpt-3.5-turbo\"\u001b[0m\u001b[0;34m,\u001b[0m\u001b[0;34m\u001b[0m\u001b[0;34m\u001b[0m\u001b[0m\n\u001b[1;32m     21\u001b[0m         \u001b[0mmessages\u001b[0m\u001b[0;34m=\u001b[0m\u001b[0;34m[\u001b[0m\u001b[0;34m{\u001b[0m\u001b[0;34m\"role\"\u001b[0m\u001b[0;34m:\u001b[0m \u001b[0;34m\"user\"\u001b[0m\u001b[0;34m,\u001b[0m \u001b[0;34m\"content\"\u001b[0m\u001b[0;34m:\u001b[0m \u001b[0mprompt\u001b[0m\u001b[0;34m}\u001b[0m\u001b[0;34m]\u001b[0m\u001b[0;34m,\u001b[0m\u001b[0;34m\u001b[0m\u001b[0;34m\u001b[0m\u001b[0m\n",
      "\u001b[0;32m/usr/local/lib/python3.10/dist-packages/openai/api_resources/chat_completion.py\u001b[0m in \u001b[0;36mcreate\u001b[0;34m(cls, *args, **kwargs)\u001b[0m\n\u001b[1;32m     23\u001b[0m         \u001b[0;32mwhile\u001b[0m \u001b[0;32mTrue\u001b[0m\u001b[0;34m:\u001b[0m\u001b[0;34m\u001b[0m\u001b[0;34m\u001b[0m\u001b[0m\n\u001b[1;32m     24\u001b[0m             \u001b[0;32mtry\u001b[0m\u001b[0;34m:\u001b[0m\u001b[0;34m\u001b[0m\u001b[0;34m\u001b[0m\u001b[0m\n\u001b[0;32m---> 25\u001b[0;31m                 \u001b[0;32mreturn\u001b[0m \u001b[0msuper\u001b[0m\u001b[0;34m(\u001b[0m\u001b[0;34m)\u001b[0m\u001b[0;34m.\u001b[0m\u001b[0mcreate\u001b[0m\u001b[0;34m(\u001b[0m\u001b[0;34m*\u001b[0m\u001b[0margs\u001b[0m\u001b[0;34m,\u001b[0m \u001b[0;34m**\u001b[0m\u001b[0mkwargs\u001b[0m\u001b[0;34m)\u001b[0m\u001b[0;34m\u001b[0m\u001b[0;34m\u001b[0m\u001b[0m\n\u001b[0m\u001b[1;32m     26\u001b[0m             \u001b[0;32mexcept\u001b[0m \u001b[0mTryAgain\u001b[0m \u001b[0;32mas\u001b[0m \u001b[0me\u001b[0m\u001b[0;34m:\u001b[0m\u001b[0;34m\u001b[0m\u001b[0;34m\u001b[0m\u001b[0m\n\u001b[1;32m     27\u001b[0m                 \u001b[0;32mif\u001b[0m \u001b[0mtimeout\u001b[0m \u001b[0;32mis\u001b[0m \u001b[0;32mnot\u001b[0m \u001b[0;32mNone\u001b[0m \u001b[0;32mand\u001b[0m \u001b[0mtime\u001b[0m\u001b[0;34m.\u001b[0m\u001b[0mtime\u001b[0m\u001b[0;34m(\u001b[0m\u001b[0;34m)\u001b[0m \u001b[0;34m>\u001b[0m \u001b[0mstart\u001b[0m \u001b[0;34m+\u001b[0m \u001b[0mtimeout\u001b[0m\u001b[0;34m:\u001b[0m\u001b[0;34m\u001b[0m\u001b[0;34m\u001b[0m\u001b[0m\n",
      "\u001b[0;32m/usr/local/lib/python3.10/dist-packages/openai/api_resources/abstract/engine_api_resource.py\u001b[0m in \u001b[0;36mcreate\u001b[0;34m(cls, api_key, api_base, api_type, request_id, api_version, organization, **params)\u001b[0m\n\u001b[1;32m    153\u001b[0m         )\n\u001b[1;32m    154\u001b[0m \u001b[0;34m\u001b[0m\u001b[0m\n\u001b[0;32m--> 155\u001b[0;31m         response, _, api_key = requestor.request(\n\u001b[0m\u001b[1;32m    156\u001b[0m             \u001b[0;34m\"post\"\u001b[0m\u001b[0;34m,\u001b[0m\u001b[0;34m\u001b[0m\u001b[0;34m\u001b[0m\u001b[0m\n\u001b[1;32m    157\u001b[0m             \u001b[0murl\u001b[0m\u001b[0;34m,\u001b[0m\u001b[0;34m\u001b[0m\u001b[0;34m\u001b[0m\u001b[0m\n",
      "\u001b[0;32m/usr/local/lib/python3.10/dist-packages/openai/api_requestor.py\u001b[0m in \u001b[0;36mrequest\u001b[0;34m(self, method, url, params, headers, files, stream, request_id, request_timeout)\u001b[0m\n\u001b[1;32m    297\u001b[0m             \u001b[0mrequest_timeout\u001b[0m\u001b[0;34m=\u001b[0m\u001b[0mrequest_timeout\u001b[0m\u001b[0;34m,\u001b[0m\u001b[0;34m\u001b[0m\u001b[0;34m\u001b[0m\u001b[0m\n\u001b[1;32m    298\u001b[0m         )\n\u001b[0;32m--> 299\u001b[0;31m         \u001b[0mresp\u001b[0m\u001b[0;34m,\u001b[0m \u001b[0mgot_stream\u001b[0m \u001b[0;34m=\u001b[0m \u001b[0mself\u001b[0m\u001b[0;34m.\u001b[0m\u001b[0m_interpret_response\u001b[0m\u001b[0;34m(\u001b[0m\u001b[0mresult\u001b[0m\u001b[0;34m,\u001b[0m \u001b[0mstream\u001b[0m\u001b[0;34m)\u001b[0m\u001b[0;34m\u001b[0m\u001b[0;34m\u001b[0m\u001b[0m\n\u001b[0m\u001b[1;32m    300\u001b[0m         \u001b[0;32mreturn\u001b[0m \u001b[0mresp\u001b[0m\u001b[0;34m,\u001b[0m \u001b[0mgot_stream\u001b[0m\u001b[0;34m,\u001b[0m \u001b[0mself\u001b[0m\u001b[0;34m.\u001b[0m\u001b[0mapi_key\u001b[0m\u001b[0;34m\u001b[0m\u001b[0;34m\u001b[0m\u001b[0m\n\u001b[1;32m    301\u001b[0m \u001b[0;34m\u001b[0m\u001b[0m\n",
      "\u001b[0;32m/usr/local/lib/python3.10/dist-packages/openai/api_requestor.py\u001b[0m in \u001b[0;36m_interpret_response\u001b[0;34m(self, result, stream)\u001b[0m\n\u001b[1;32m    708\u001b[0m         \u001b[0;32melse\u001b[0m\u001b[0;34m:\u001b[0m\u001b[0;34m\u001b[0m\u001b[0;34m\u001b[0m\u001b[0m\n\u001b[1;32m    709\u001b[0m             return (\n\u001b[0;32m--> 710\u001b[0;31m                 self._interpret_response_line(\n\u001b[0m\u001b[1;32m    711\u001b[0m                     \u001b[0mresult\u001b[0m\u001b[0;34m.\u001b[0m\u001b[0mcontent\u001b[0m\u001b[0;34m.\u001b[0m\u001b[0mdecode\u001b[0m\u001b[0;34m(\u001b[0m\u001b[0;34m\"utf-8\"\u001b[0m\u001b[0;34m)\u001b[0m\u001b[0;34m,\u001b[0m\u001b[0;34m\u001b[0m\u001b[0;34m\u001b[0m\u001b[0m\n\u001b[1;32m    712\u001b[0m                     \u001b[0mresult\u001b[0m\u001b[0;34m.\u001b[0m\u001b[0mstatus_code\u001b[0m\u001b[0;34m,\u001b[0m\u001b[0;34m\u001b[0m\u001b[0;34m\u001b[0m\u001b[0m\n",
      "\u001b[0;32m/usr/local/lib/python3.10/dist-packages/openai/api_requestor.py\u001b[0m in \u001b[0;36m_interpret_response_line\u001b[0;34m(self, rbody, rcode, rheaders, stream)\u001b[0m\n\u001b[1;32m    773\u001b[0m         \u001b[0mstream_error\u001b[0m \u001b[0;34m=\u001b[0m \u001b[0mstream\u001b[0m \u001b[0;32mand\u001b[0m \u001b[0;34m\"error\"\u001b[0m \u001b[0;32min\u001b[0m \u001b[0mresp\u001b[0m\u001b[0;34m.\u001b[0m\u001b[0mdata\u001b[0m\u001b[0;34m\u001b[0m\u001b[0;34m\u001b[0m\u001b[0m\n\u001b[1;32m    774\u001b[0m         \u001b[0;32mif\u001b[0m \u001b[0mstream_error\u001b[0m \u001b[0;32mor\u001b[0m \u001b[0;32mnot\u001b[0m \u001b[0;36m200\u001b[0m \u001b[0;34m<=\u001b[0m \u001b[0mrcode\u001b[0m \u001b[0;34m<\u001b[0m \u001b[0;36m300\u001b[0m\u001b[0;34m:\u001b[0m\u001b[0;34m\u001b[0m\u001b[0;34m\u001b[0m\u001b[0m\n\u001b[0;32m--> 775\u001b[0;31m             raise self.handle_error_response(\n\u001b[0m\u001b[1;32m    776\u001b[0m                 \u001b[0mrbody\u001b[0m\u001b[0;34m,\u001b[0m \u001b[0mrcode\u001b[0m\u001b[0;34m,\u001b[0m \u001b[0mresp\u001b[0m\u001b[0;34m.\u001b[0m\u001b[0mdata\u001b[0m\u001b[0;34m,\u001b[0m \u001b[0mrheaders\u001b[0m\u001b[0;34m,\u001b[0m \u001b[0mstream_error\u001b[0m\u001b[0;34m=\u001b[0m\u001b[0mstream_error\u001b[0m\u001b[0;34m\u001b[0m\u001b[0;34m\u001b[0m\u001b[0m\n\u001b[1;32m    777\u001b[0m             )\n",
      "\u001b[0;31mRateLimitError\u001b[0m: You exceeded your current quota, please check your plan and billing details. For more information on this error, read the docs: https://platform.openai.com/docs/guides/error-codes/api-errors."
     ]
    }
   ],
   "source": [
    "few_shot_examples = \"\"\"\n",
    "The format is as follows:\n",
    "Input: \"<sentence>\"\n",
    "Output: \"<NER tags>\"\n",
    "\n",
    "Examples:\n",
    "Input: \"eu rejects german call to boycott british lamb .\"\n",
    "Output: \"B-ORG O B-MISC O O O B-MISC O O\"\n",
    "\n",
    "Input: \"peter blackburn\"\n",
    "Output: \"B-PER I-PER\"\n",
    "\n",
    "Input: \"the european commission said on thursday it disagreed with german advice to consumers to shun british lamb until scientists determine whether mad cow disease can be transmitted to sheep .\"\n",
    "Output: \"O B-ORG I-ORG O O O O O O B-MISC O O O O O B-MISC O O O O O O O O O O O O O O\"\n",
    "\"\"\"\n",
    "\n",
    "def classify_sequence(test_sentence):\n",
    "    prompt = f\"{few_shot_examples}\\n Now classify the following sentence:\\nInput: \\\"{test_sentence}\\\"\\nOutput:\"\n",
    "    response = openai.ChatCompletion.create(\n",
    "        model=\"gpt-3.5-turbo\",\n",
    "        messages=[{\"role\": \"user\", \"content\": prompt}],\n",
    "        temperature=0.4,\n",
    "    )\n",
    "    return response[\"choices\"][0][\"message\"][\"content\"].strip()\n",
    "\n",
    "test_token_seq_gpt = test_token_seq[:30]\n",
    "predictions = []\n",
    "for sentence in test_token_seq_gpt:\n",
    "    ner_tags = classify_sequence(sentence)\n",
    "    predictions.append(ner_tags.split())"
   ]
  },
  {
   "cell_type": "code",
   "execution_count": null,
   "metadata": {
    "id": "mtBwYcvcc58O"
   },
   "outputs": [],
   "source": [
    "true_labels = test_label_seq[:30]\n",
    "f1_score = compute_metrics(predictions, true_labels)\n",
    "print(f\"F1-macro: {f1_score}\")"
   ]
  },
  {
   "cell_type": "markdown",
   "metadata": {
    "id": "MDi3bO63lMW2"
   },
   "source": [
    "![](data:image/jpeg;base64,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)\n"
   ]
  },
  {
   "cell_type": "markdown",
   "metadata": {},
   "source": [
    "**Программист пишет другу:**\n",
    "\n",
    "**— Я настроил тебе доступ к API ChatGPT. Вот, высылаю ключи, документацию и… гвозди.**\n",
    "\n",
    "**— Гвозди зачем?**\n",
    "\n",
    "**— Ну как зачем, ключи вставишь, документацию почитаешь и… пойдёшь чинить, если не заработает!**"
   ]
  },
  {
   "cell_type": "code",
   "execution_count": 41,
   "metadata": {
    "id": "J6FQZrTDlPDq"
   },
   "outputs": [
    {
     "data": {
      "application/vnd.jupyter.widget-view+json": {
       "model_id": "4f7f4075b41c4263a2a729c253f3fa30",
       "version_major": 2,
       "version_minor": 0
      },
      "text/plain": [
       "Loading checkpoint shards:   0%|          | 0/4 [00:00<?, ?it/s]"
      ]
     },
     "metadata": {},
     "output_type": "display_data"
    },
    {
     "data": {
      "text/plain": [
       "Qwen2ForCausalLM(\n",
       "  (model): Qwen2Model(\n",
       "    (embed_tokens): Embedding(152064, 3584)\n",
       "    (layers): ModuleList(\n",
       "      (0-27): 28 x Qwen2DecoderLayer(\n",
       "        (self_attn): Qwen2FlashAttention2(\n",
       "          (q_proj): Linear(in_features=3584, out_features=3584, bias=True)\n",
       "          (k_proj): Linear(in_features=3584, out_features=512, bias=True)\n",
       "          (v_proj): Linear(in_features=3584, out_features=512, bias=True)\n",
       "          (o_proj): Linear(in_features=3584, out_features=3584, bias=False)\n",
       "          (rotary_emb): Qwen2RotaryEmbedding()\n",
       "        )\n",
       "        (mlp): Qwen2MLP(\n",
       "          (gate_proj): Linear(in_features=3584, out_features=18944, bias=False)\n",
       "          (up_proj): Linear(in_features=3584, out_features=18944, bias=False)\n",
       "          (down_proj): Linear(in_features=18944, out_features=3584, bias=False)\n",
       "          (act_fn): SiLU()\n",
       "        )\n",
       "        (input_layernorm): Qwen2RMSNorm((3584,), eps=1e-06)\n",
       "        (post_attention_layernorm): Qwen2RMSNorm((3584,), eps=1e-06)\n",
       "      )\n",
       "    )\n",
       "    (norm): Qwen2RMSNorm((3584,), eps=1e-06)\n",
       "    (rotary_emb): Qwen2RotaryEmbedding()\n",
       "  )\n",
       "  (lm_head): Linear(in_features=3584, out_features=152064, bias=False)\n",
       ")"
      ]
     },
     "execution_count": 41,
     "metadata": {},
     "output_type": "execute_result"
    }
   ],
   "source": [
    "from transformers import AutoTokenizer, GenerationConfig, AutoModelForCausalLM, AutoConfig\n",
    "\n",
    "model_name = 'Qwen/Qwen2.5-7B-Instruct'\n",
    "tokenizer = AutoTokenizer.from_pretrained(model_name)\n",
    "model = AutoModelForCausalLM.from_pretrained(model_name, torch_dtype=torch.bfloat16, device_map=\"cuda:0\", \n",
    "                                             attn_implementation=\"flash_attention_2\")\n",
    "model.eval()"
   ]
  },
  {
   "cell_type": "code",
   "execution_count": 88,
   "metadata": {},
   "outputs": [],
   "source": [
    "import torch\n",
    "import numpy as np\n",
    "from transformers import GenerationConfig\n",
    "\n",
    "def classify_sequence_qwen(test_sentence, model, tokenizer):\n",
    "    few_shot_examples = \"\"\"\n",
    "    The format:\n",
    "    Input: \"<sentence>\"\n",
    "    Output: \"<NER tags>\"\n",
    "\n",
    "    Examples:\n",
    "    Input: \"eu rejects german call to boycott british lamb .\"\n",
    "    Output: \"B-ORG O B-MISC O O O B-MISC O O\"\n",
    "\n",
    "    Input: \"peter blackburn\"\n",
    "    Output: \"B-PER I-PER\"\n",
    "    \n",
    "    Input: \"soccer - japan get lucky win , china in surprise defeat .\"\n",
    "    Output: \"O O B-LOC O O O O B-PER O O O O\"\n",
    "\n",
    "    Input: \"al-ain , united arab emirates 1996-12-06\"\n",
    "    Output: \"B-LOC O B-LOC I-LOC I-LOC O\"\n",
    "    \n",
    "    Input: \"the european commission said on thursday it disagreed with german advice to consumers to shun british lamb until scientists determine whether mad cow disease can be transmitted to sheep .\"\n",
    "    Output: \"O B-ORG I-ORG O O O O O O B-MISC O O O O O B-MISC O O O O O O O O O O O O O O\"\n",
    "    \"\"\"\n",
    "\n",
    "    prompt = f\"\"\"\n",
    "    You are an expert in NER tagging. Here are some examples of how NER tagging should be done:\\n\n",
    "    {few_shot_examples}\\n Please classify the following sentence with the following categories:\n",
    "    'O','B-LOC','B-MISC','B-ORG','B-PER','I-LOC','I-MISC','I-ORG','I-PER' \\nInput: \\\"{test_sentence}\\\"\\nOutput:\"\"\"\n",
    "    \n",
    "    generation_config = GenerationConfig.from_pretrained(model_name)\n",
    "    generation_config.max_new_tokens = 128\n",
    "    generation_config.temperature = 0.1\n",
    "\n",
    "    inputs = tokenizer.apply_chat_template([\n",
    "        {'role': 'user', 'content': prompt}\n",
    "    ], add_generation_prompt=True, tokenize=True, return_tensors='pt')\n",
    "    \n",
    "    input_ids = inputs.to(model.device)\n",
    "\n",
    "    if tokenizer.pad_token_id is None:\n",
    "        tokenizer.pad_token_id = tokenizer.eos_token_id\n",
    "\n",
    "    output = model.generate(\n",
    "        input_ids,\n",
    "        generation_config=generation_config,\n",
    "        pad_token_id=tokenizer.pad_token_id  \n",
    "    )[:, input_ids.shape[-1]:].detach().cpu()\n",
    "\n",
    "    output_text = tokenizer.batch_decode(output, skip_special_tokens=True)[0]\n",
    "    return output_text.strip()"
   ]
  },
  {
   "cell_type": "code",
   "execution_count": 89,
   "metadata": {},
   "outputs": [],
   "source": [
    "test_token_seq_qwen = test_token_seq[:30]\n",
    "predictions = []\n",
    "\n",
    "for sentence in test_token_seq_qwen:\n",
    "    ner_tags = classify_sequence_qwen(' '.join(sentence), model, tokenizer)\n",
    "    predictions.append(ner_tags.split())"
   ]
  },
  {
   "cell_type": "code",
   "execution_count": null,
   "metadata": {},
   "outputs": [],
   "source": [
    "def clean_ner_tags(data):\n",
    "    valid_tags = {'O', 'B-LOC', 'B-MISC', 'B-ORG', 'B-PER', 'I-LOC', 'I-MISC', 'I-ORG', 'I-PER'}\n",
    "    cleaned_data = []\n",
    "\n",
    "    for sublist in data:\n",
    "        cleaned_sublist = []\n",
    "        for item in sublist:\n",
    "            cleaned_item = item.strip('\"')\n",
    "            if cleaned_item in valid_tags:\n",
    "                cleaned_sublist.append(cleaned_item)\n",
    "        cleaned_data.append(cleaned_sublist)\n",
    "    \n",
    "    return cleaned_data"
   ]
  },
  {
   "cell_type": "code",
   "execution_count": 90,
   "metadata": {},
   "outputs": [],
   "source": [
    "cleaned_predictions = clean_ner_tags(predictions)"
   ]
  },
  {
   "cell_type": "code",
   "execution_count": 87,
   "metadata": {
    "scrolled": true
   },
   "outputs": [
    {
     "data": {
      "text/plain": [
       "[['O', 'O', 'B-LOC', 'O', 'O', 'O', 'O', 'B-PER', 'O', 'O', 'O', 'O'],\n",
       " ['B-PER', 'I-PER'],\n",
       " ['B-LOC', 'O', 'B-LOC', 'I-LOC', 'I-LOC', 'O'],\n",
       " ['B-LOC',\n",
       "  'O',\n",
       "  'O',\n",
       "  'O',\n",
       "  'O',\n",
       "  'O',\n",
       "  'B-MISC',\n",
       "  'I-MISC',\n",
       "  'O',\n",
       "  'O',\n",
       "  'O',\n",
       "  'O',\n",
       "  'O',\n",
       "  'O',\n",
       "  'O',\n",
       "  'B-LOC',\n",
       "  'O',\n",
       "  'O',\n",
       "  'O',\n",
       "  'O',\n",
       "  'O',\n",
       "  'O',\n",
       "  'O',\n",
       "  'O',\n",
       "  'O'],\n",
       " ['O',\n",
       "  'B-LOC',\n",
       "  'O',\n",
       "  'O',\n",
       "  'O',\n",
       "  'O',\n",
       "  'O',\n",
       "  'O',\n",
       "  'O',\n",
       "  'O',\n",
       "  'O',\n",
       "  'O',\n",
       "  'O',\n",
       "  'O',\n",
       "  'O',\n",
       "  'O',\n",
       "  'O',\n",
       "  'O',\n",
       "  'O',\n",
       "  'O',\n",
       "  'O',\n",
       "  'O',\n",
       "  'O',\n",
       "  'B-LOC',\n",
       "  'O'],\n",
       " ['B-LOC',\n",
       "  'O',\n",
       "  'O',\n",
       "  'O',\n",
       "  'O',\n",
       "  'O',\n",
       "  'O',\n",
       "  'O',\n",
       "  'O',\n",
       "  'O',\n",
       "  'O',\n",
       "  'O',\n",
       "  'O',\n",
       "  'O',\n",
       "  'O',\n",
       "  'O',\n",
       "  'B-MISC',\n",
       "  'O',\n",
       "  'B-PER',\n",
       "  'I-PER',\n",
       "  'O',\n",
       "  'O',\n",
       "  'O',\n",
       "  'O',\n",
       "  'O',\n",
       "  'O',\n",
       "  'O',\n",
       "  'O',\n",
       "  'O',\n",
       "  'O',\n",
       "  'O',\n",
       "  'O',\n",
       "  'O',\n",
       "  'O',\n",
       "  'B-MISC',\n",
       "  'O',\n",
       "  'O',\n",
       "  'O',\n",
       "  'O',\n",
       "  'O',\n",
       "  'O',\n",
       "  'O'],\n",
       " ['B-PER',\n",
       "  'I-PER',\n",
       "  'O',\n",
       "  'O',\n",
       "  'O',\n",
       "  'O',\n",
       "  'O',\n",
       "  'O',\n",
       "  'O',\n",
       "  'O',\n",
       "  'O',\n",
       "  'O',\n",
       "  'O',\n",
       "  'O',\n",
       "  'O',\n",
       "  'O',\n",
       "  'O',\n",
       "  'O',\n",
       "  'O',\n",
       "  'O',\n",
       "  'O',\n",
       "  'O',\n",
       "  'O'],\n",
       " ['O',\n",
       "  'O',\n",
       "  'B-MISC',\n",
       "  'O',\n",
       "  'O',\n",
       "  'O',\n",
       "  'O',\n",
       "  'O',\n",
       "  'B-MISC',\n",
       "  'I-MISC',\n",
       "  'O',\n",
       "  'O',\n",
       "  'O',\n",
       "  'O',\n",
       "  'O',\n",
       "  'O',\n",
       "  'O'],\n",
       " ['O',\n",
       "  'O',\n",
       "  'O',\n",
       "  'B-MISC',\n",
       "  'I-MISC',\n",
       "  'O',\n",
       "  'O',\n",
       "  'O',\n",
       "  'O',\n",
       "  'O',\n",
       "  'B-LOC',\n",
       "  'O',\n",
       "  'O',\n",
       "  'O',\n",
       "  'O',\n",
       "  'O',\n",
       "  'O',\n",
       "  'O'],\n",
       " ['O',\n",
       "  'O',\n",
       "  'O',\n",
       "  'O',\n",
       "  'O',\n",
       "  'O',\n",
       "  'O',\n",
       "  'O',\n",
       "  'O',\n",
       "  'O',\n",
       "  'O',\n",
       "  'B-LOC',\n",
       "  'O',\n",
       "  'O',\n",
       "  'O',\n",
       "  'O',\n",
       "  'O',\n",
       "  'O',\n",
       "  'O',\n",
       "  'O',\n",
       "  'O',\n",
       "  'O',\n",
       "  'O',\n",
       "  'O',\n",
       "  'O',\n",
       "  'O',\n",
       "  'B-LOC',\n",
       "  'O'],\n",
       " ['B-PER',\n",
       "  'I-PER',\n",
       "  'O',\n",
       "  'O',\n",
       "  'O',\n",
       "  'O',\n",
       "  'O',\n",
       "  'O',\n",
       "  'O',\n",
       "  'O',\n",
       "  'O',\n",
       "  'O',\n",
       "  'O',\n",
       "  'O',\n",
       "  'B-PER',\n",
       "  'I-PER',\n",
       "  'O',\n",
       "  'O',\n",
       "  'O',\n",
       "  'B-MISC',\n",
       "  'O',\n",
       "  'O',\n",
       "  'O',\n",
       "  'B-PER',\n",
       "  'I-PER',\n",
       "  'O',\n",
       "  'O',\n",
       "  'O',\n",
       "  'O',\n",
       "  'O',\n",
       "  'O',\n",
       "  'O',\n",
       "  'O',\n",
       "  'O',\n",
       "  'O',\n",
       "  'O',\n",
       "  'O',\n",
       "  'O'],\n",
       " ['O', 'O', 'O', 'O', 'O', 'O', 'O', 'B-LOC', 'O', 'O', 'O', 'O'],\n",
       " ['O',\n",
       "  'B-PER',\n",
       "  'I-PER',\n",
       "  'O',\n",
       "  'O',\n",
       "  'O',\n",
       "  'O',\n",
       "  'O',\n",
       "  'O',\n",
       "  'O',\n",
       "  'O',\n",
       "  'O',\n",
       "  'O',\n",
       "  'O',\n",
       "  'O',\n",
       "  'O',\n",
       "  'O',\n",
       "  'O',\n",
       "  'O',\n",
       "  'O',\n",
       "  'O',\n",
       "  'O',\n",
       "  'O',\n",
       "  'O',\n",
       "  'O',\n",
       "  'O',\n",
       "  'O',\n",
       "  'B-PER',\n",
       "  'O',\n",
       "  'O',\n",
       "  'O'],\n",
       " ['B-PER',\n",
       "  'I-PER',\n",
       "  'O',\n",
       "  'O',\n",
       "  'B-LOC',\n",
       "  'O',\n",
       "  'O',\n",
       "  'O',\n",
       "  'O',\n",
       "  'O',\n",
       "  'O',\n",
       "  'O',\n",
       "  'O',\n",
       "  'O',\n",
       "  'O',\n",
       "  'O'],\n",
       " ['B-LOC',\n",
       "  'O',\n",
       "  'O',\n",
       "  'O',\n",
       "  'O',\n",
       "  'O',\n",
       "  'B-MISC',\n",
       "  'O',\n",
       "  'O',\n",
       "  'O',\n",
       "  'O',\n",
       "  'O',\n",
       "  'O',\n",
       "  'O',\n",
       "  'O',\n",
       "  'O',\n",
       "  'O',\n",
       "  'O',\n",
       "  'B-MISC',\n",
       "  'O',\n",
       "  'O'],\n",
       " ['B-PER', 'O', 'O', 'O', 'O', 'O', 'O', 'O', 'O'],\n",
       " ['B-LOC',\n",
       "  'O',\n",
       "  'B-PER',\n",
       "  'I-PER',\n",
       "  'O',\n",
       "  'O',\n",
       "  'O',\n",
       "  'O',\n",
       "  'O',\n",
       "  'B-MISC',\n",
       "  'O',\n",
       "  'O',\n",
       "  'O',\n",
       "  'O',\n",
       "  'O',\n",
       "  'O',\n",
       "  'O'],\n",
       " ['O',\n",
       "  'B-MISC',\n",
       "  'O',\n",
       "  'O',\n",
       "  'O',\n",
       "  'O',\n",
       "  'O',\n",
       "  'O',\n",
       "  'O',\n",
       "  'O',\n",
       "  'O',\n",
       "  'O',\n",
       "  'O',\n",
       "  'O',\n",
       "  'O',\n",
       "  'O',\n",
       "  'O',\n",
       "  'O',\n",
       "  'O',\n",
       "  'O'],\n",
       " ['O'],\n",
       " ['B-LOC',\n",
       "  'O',\n",
       "  'O',\n",
       "  'O',\n",
       "  'O',\n",
       "  'B-MISC',\n",
       "  'I-MISC',\n",
       "  'O',\n",
       "  'O',\n",
       "  'O',\n",
       "  'O',\n",
       "  'O',\n",
       "  'O',\n",
       "  'O',\n",
       "  'O',\n",
       "  'O',\n",
       "  'B-ORG',\n",
       "  'O',\n",
       "  'O',\n",
       "  'O',\n",
       "  'O',\n",
       "  'O',\n",
       "  'O',\n",
       "  'O',\n",
       "  'O',\n",
       "  'O'],\n",
       " ['O',\n",
       "  'B-LOC',\n",
       "  'O',\n",
       "  'B-LOC',\n",
       "  'O',\n",
       "  'B-LOC',\n",
       "  'I-LOC',\n",
       "  'O',\n",
       "  'O',\n",
       "  'B-LOC',\n",
       "  'O',\n",
       "  'O',\n",
       "  'O',\n",
       "  'O',\n",
       "  'O',\n",
       "  'O',\n",
       "  'O'],\n",
       " ['O', 'O', 'O', 'O', 'O', 'O', 'O', 'O', 'O', 'O', 'O', 'O', 'O'],\n",
       " ['O'],\n",
       " ['B-ORG', 'I-ORG', 'O', 'B-PER', 'O', 'O', 'B-LOC', 'O', 'O', 'O', 'O'],\n",
       " ['B-LOC', 'O'],\n",
       " ['B-LOC', 'O', 'B-PER', 'I-PER'],\n",
       " ['O',\n",
       "  'O',\n",
       "  'O',\n",
       "  'O',\n",
       "  'O',\n",
       "  'O',\n",
       "  'B-LOC',\n",
       "  'O',\n",
       "  'B-LOC',\n",
       "  'O',\n",
       "  'O',\n",
       "  'O',\n",
       "  'O',\n",
       "  'O',\n",
       "  'O',\n",
       "  'O',\n",
       "  'O',\n",
       "  'O',\n",
       "  'O',\n",
       "  'O',\n",
       "  'O',\n",
       "  'O',\n",
       "  'O',\n",
       "  'O',\n",
       "  'O',\n",
       "  'O'],\n",
       " ['B-PER',\n",
       "  'O',\n",
       "  'O',\n",
       "  'O',\n",
       "  'B-PER',\n",
       "  'I-PER',\n",
       "  'O',\n",
       "  'O',\n",
       "  'O',\n",
       "  'O',\n",
       "  'O',\n",
       "  'O',\n",
       "  'O',\n",
       "  'O',\n",
       "  'O',\n",
       "  'O',\n",
       "  'O',\n",
       "  'O',\n",
       "  'O',\n",
       "  'O',\n",
       "  'O',\n",
       "  'O',\n",
       "  'O',\n",
       "  'O',\n",
       "  'O',\n",
       "  'O',\n",
       "  'O',\n",
       "  'O',\n",
       "  'O',\n",
       "  'O',\n",
       "  'B-LOC',\n",
       "  'O',\n",
       "  'B-LOC',\n",
       "  'O',\n",
       "  'O',\n",
       "  'O'],\n",
       " ['B-PER',\n",
       "  'I-PER',\n",
       "  'O',\n",
       "  'O',\n",
       "  'O',\n",
       "  'O',\n",
       "  'O',\n",
       "  'B-PER',\n",
       "  'O',\n",
       "  'O',\n",
       "  'O',\n",
       "  'O',\n",
       "  'O',\n",
       "  'O',\n",
       "  'B-PER',\n",
       "  'I-PER',\n",
       "  'O',\n",
       "  'O',\n",
       "  'O',\n",
       "  'O',\n",
       "  'O',\n",
       "  'O',\n",
       "  'O',\n",
       "  'B-LOC',\n",
       "  'O',\n",
       "  'O',\n",
       "  'O',\n",
       "  'O',\n",
       "  'O',\n",
       "  'O',\n",
       "  'O',\n",
       "  'O',\n",
       "  'O',\n",
       "  'O'],\n",
       " ['B-PER',\n",
       "  'O',\n",
       "  'O',\n",
       "  'O',\n",
       "  'O',\n",
       "  'O',\n",
       "  'B-MISC',\n",
       "  'I-MISC',\n",
       "  'I-MISC',\n",
       "  'O',\n",
       "  'O',\n",
       "  'O',\n",
       "  'O',\n",
       "  'O',\n",
       "  'O',\n",
       "  'O',\n",
       "  'O',\n",
       "  'O',\n",
       "  'O',\n",
       "  'B-LOC',\n",
       "  'O',\n",
       "  'O',\n",
       "  'O',\n",
       "  'B-LOC',\n",
       "  'O',\n",
       "  'O',\n",
       "  'O',\n",
       "  'O',\n",
       "  'O']]"
      ]
     },
     "execution_count": 87,
     "metadata": {},
     "output_type": "execute_result"
    }
   ],
   "source": [
    "labels = test_label_seq[:30]\n",
    "labels"
   ]
  },
  {
   "cell_type": "code",
   "execution_count": 95,
   "metadata": {},
   "outputs": [],
   "source": [
    "def align_predictions_and_labels(predictions: List[List[str]], labels: List[List[str]]) -> (List[List[str]], List[List[str]]):\n",
    "    aligned_predictions = []\n",
    "    aligned_labels = []\n",
    "\n",
    "    for pred, label in zip(predictions, labels):\n",
    "        if len(pred) > len(label):\n",
    "            aligned_predictions.append(pred[:len(label)])\n",
    "            aligned_labels.append(label)\n",
    "        elif len(pred) < len(label):\n",
    "            aligned_predictions.append(pred + [\"O\"] * (len(label) - len(pred)))\n",
    "            aligned_labels.append(label)\n",
    "        else:\n",
    "            aligned_predictions.append(pred)\n",
    "            aligned_labels.append(label)\n",
    "\n",
    "    return aligned_predictions, aligned_labels\n",
    "\n",
    "\n",
    "def compute_f1_macro(predictions: List[List[str]], labels: List[List[str]]) -> float:\n",
    "    predictions, labels = align_predictions_and_labels(predictions, labels)\n",
    "    \n",
    "    f1_scores = []\n",
    "    for pred, label in zip(predictions, labels):\n",
    "        f1 = f1_score(label, pred, average='macro', zero_division=0)\n",
    "        f1_scores.append(f1)\n",
    "    \n",
    "    return sum(f1_scores) / len(f1_scores) if f1_scores else 0.0"
   ]
  },
  {
   "cell_type": "code",
   "execution_count": 96,
   "metadata": {},
   "outputs": [
    {
     "data": {
      "text/plain": [
       "0.5743655783589628"
      ]
     },
     "execution_count": 96,
     "metadata": {},
     "output_type": "execute_result"
    }
   ],
   "source": [
    "f1_macro = compute_f1_macro(cleaned_predictions, labels)\n",
    "f1_macro"
   ]
  },
  {
   "attachments": {
    "2258487f-ebb3-4380-9980-1e65c6e3c359.jpg": {
     "image/jpeg": "[encoded data removed]"
    }
   },
   "cell_type": "markdown",
   "metadata": {},
   "source": [
    "![1693453953183124919.jpg](attachment:2258487f-ebb3-4380-9980-1e65c6e3c359.jpg)"
   ]
  },
  {
   "cell_type": "markdown",
   "metadata": {},
   "source": []
  },
  {
   "cell_type": "code",
   "execution_count": null,
   "metadata": {},
   "outputs": [],
   "source": []
  }
 ],
 "metadata": {
  "accelerator": "GPU",
  "colab": {
   "collapsed_sections": [
    "4MIrbmNoQEMA"
   ],
   "provenance": []
  },
  "kernelspec": {
   "display_name": "LLM",
   "language": "python",
   "name": "llm"
  },
  "language_info": {
   "codemirror_mode": {
    "name": "ipython",
    "version": 3
   },
   "file_extension": ".py",
   "mimetype": "text/x-python",
   "name": "python",
   "nbconvert_exporter": "python",
   "pygments_lexer": "ipython3",
   "version": "3.11.9"
  },
  "vscode": {
   "interpreter": {
    "hash": "8d4ce941904148077feb793883e611d25d231ca995d9164b22ee99fd0facd8d1"
   }
  },
  "widgets": {
   "application/vnd.jupyter.widget-state+json": {
    "state": {},
    "version_major": 2,
    "version_minor": 0
   }
  }
 },
 "nbformat": 4,
 "nbformat_minor": 4
}
